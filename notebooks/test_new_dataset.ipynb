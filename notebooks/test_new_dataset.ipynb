{
 "cells": [
  {
   "cell_type": "code",
   "execution_count": null,
   "metadata": {},
   "outputs": [],
   "source": [
    "import os\n",
    "import sys\n",
    "from pathlib import Path\n",
    "\n",
    "sys.path.append(\"../\")æ©\n",
    "\n",
    "import numpy as np\n",
    "import pandas as pd"
   ]
  },
  {
   "cell_type": "code",
   "execution_count": null,
   "metadata": {},
   "outputs": [],
   "source": [
    "from choice_learn.data import ChoiceDataset\n",
    "from choice_learn.data.storage import FeaturesStorage\n",
    "# path to dataset file is:\n",
    "filepath = \"choice_learn/datasets/data/ModeCanada.csv.gz\"\n",
    "canada_transport_df = pd.read_csv((Path(\"..\") / filepath), index_col=0)\n",
    "\n",
    "print(\"Let's look at the dataframe:\")\n",
    "canada_transport_df.head()"
   ]
  },
  {
   "cell_type": "code",
   "execution_count": null,
   "metadata": {},
   "outputs": [],
   "source": [
    "load_modecanada = 1"
   ]
  },
  {
   "cell_type": "code",
   "execution_count": null,
   "metadata": {},
   "outputs": [],
   "source": [
    "\"\"\"\n",
    "from choice_learn.models import ConditionalLogitModel\n",
    "\n",
    "model = ConditionalLogitModel()\n",
    "model.add_coefficient(coefficient_name=\"beta_customer_income\",\n",
    "                      feature_name=\"customer_income\",\n",
    "                      items_indexes=[0, 1, 2])\n",
    "model.add_coefficient(coefficient_name=\"beta_price\",\n",
    "                      feature_name=\"price\",\n",
    "                      items_indexes=[0, 1, 2])\n",
    "model.add_shared_coefficient(coefficient_name=\"beta_travel_time\",\n",
    "                             feature_name=\"travel_time\",\n",
    "                             items_indexes=[0, 1, 2])\n",
    "model.add_shared_coefficient(coefficient_name=\"conditional_intercept\",\n",
    "                             feature_name=\"is_individual\",\n",
    "                             items_indexes=[0, 1, 2])\n",
    "\n",
    "model.compile()\n",
    "model.fit(dataset)\n",
    "model.evaluate()\n",
    "\"\"\""
   ]
  },
  {
   "cell_type": "code",
   "execution_count": null,
   "metadata": {},
   "outputs": [],
   "source": [
    "transport_df = canada_transport_df.copy()\n",
    "items = [\"air\", \"bus\", \"car\", \"train\"]\n",
    "\n",
    "transport_df[\"oh0\"] = transport_df.apply(lambda row: 1. if row.alt == items[0] else 0., axis=1)\n",
    "transport_df[\"oh1\"] = transport_df.apply(lambda row: 1. if row.alt == items[1] else 0., axis=1)\n",
    "transport_df[\"oh2\"] = transport_df.apply(lambda row: 1. if row.alt == items[2] else 0., axis=1)\n",
    "transport_df[\"oh3\"] = transport_df.apply(lambda row: 1. if row.alt == items[3] else 0., axis=1)\n",
    "\n",
    "# Just some typing\n",
    "transport_df.income = transport_df.income.astype(\"float32\")"
   ]
  },
  {
   "cell_type": "code",
   "execution_count": null,
   "metadata": {},
   "outputs": [],
   "source": [
    "transport_df"
   ]
  },
  {
   "cell_type": "code",
   "execution_count": null,
   "metadata": {},
   "outputs": [],
   "source": [
    "cf = np.array([[1], [2], [3], [4]])\n",
    "cif = np.array([[[1], [2], [3], [4]], [[1], [2], [3], [4]], [[1], [2], [3], [4]], [[1], [2], [3], [4]]])\n",
    "av = np.array([[1, 1, 1, 1], [1, 0, 0, 1], [0, 1, 1, 1], [1, 1, 0, 0]])"
   ]
  },
  {
   "cell_type": "code",
   "execution_count": null,
   "metadata": {},
   "outputs": [],
   "source": [
    "dataset = ChoiceDataset(fixed_items_features = np.eye(4),\n",
    "                        contexts_features=cf,\n",
    "                        contexts_items_features=cif,\n",
    "                        contexts_items_availabilities=av,\n",
    "                        choices=[0, 3, 2, 1],\n",
    "                        fixed_items_features_names=[\"air\", \"bus\", \"car\", \"train\"],\n",
    "                        contexts_features_names=[\"income\"],\n",
    "                        contexts_items_features_names=[\"zut\"],\n",
    "                        )"
   ]
  },
  {
   "cell_type": "code",
   "execution_count": null,
   "metadata": {},
   "outputs": [],
   "source": [
    "fif_df = pd.DataFrame(np.eye(4), columns=[\"air\", \"bus\", \"car\", \"train\"], index=[\"air\", \"bus\", \"car\", \"train\"])\n",
    "\n",
    "cif_df = {\n",
    "    \"item_id\": [\"air\", \"bus\", \"car\", \"train\", \"air\", \"bus\", \"car\", \"train\", \"air\", \"bus\", \"car\", \"train\", \"air\", \"bus\", \"car\", \"train\"],\n",
    "    \"session_id\": [0, 0, 0, 0, 1, 1, 1, 1, 2, 2, 2, 2, 3, 3, 3, 3],\n",
    "    \"zut\": [1, 2, 3, 4, 1, 2, 3, 4, 1, 2, 3, 4, 1, 2, 3, 4],\n",
    "}\n",
    "cif_df = pd.DataFrame(cif_df)\n",
    "\n",
    "cf_df = pd.DataFrame(cf, columns=[\"income\"])\n",
    "\n",
    "dataset = ChoiceDataset(fixed_items_features=fif_df,\n",
    "                        contexts_features=cf_df,\n",
    "                        contexts_items_features=cif_df,\n",
    "                        contexts_items_availabilities=av,\n",
    "                        choices=[0, 3, 2, 1],\n",
    "                        )"
   ]
  },
  {
   "cell_type": "code",
   "execution_count": null,
   "metadata": {},
   "outputs": [],
   "source": [
    "dataset.fixed_items_features_names"
   ]
  },
  {
   "cell_type": "code",
   "execution_count": null,
   "metadata": {},
   "outputs": [],
   "source": [
    "dataset.contexts_items_features_names"
   ]
  },
  {
   "cell_type": "code",
   "execution_count": null,
   "metadata": {},
   "outputs": [],
   "source": [
    "dataset.contexts_features_names"
   ]
  },
  {
   "cell_type": "code",
   "execution_count": null,
   "metadata": {},
   "outputs": [],
   "source": [
    "dataset.summary()"
   ]
  },
  {
   "cell_type": "code",
   "execution_count": null,
   "metadata": {},
   "outputs": [],
   "source": [
    "storage = FeaturesStorage(values={\"a\": [1, 1], \"b\": [2, 2]}, name=\"test\")"
   ]
  },
  {
   "cell_type": "code",
   "execution_count": null,
   "metadata": {},
   "outputs": [],
   "source": [
    "test_df = transport_df[[\"income\"]]\n",
    "test_df[\"test\"] = \"a\""
   ]
  },
  {
   "cell_type": "code",
   "execution_count": null,
   "metadata": {},
   "outputs": [],
   "source": [
    "dataset = ChoiceDataset(fixed_items_features=np.eye(4),\n",
    "contexts_features=test_df,\n",
    "choices=np.ones((len(test_df), 1)),\n",
    "features_by_ids=[storage])"
   ]
  },
  {
   "cell_type": "code",
   "execution_count": null,
   "metadata": {},
   "outputs": [],
   "source": [
    "dataset.contexts_features[0][[0, 1]]"
   ]
  },
  {
   "cell_type": "code",
   "execution_count": null,
   "metadata": {},
   "outputs": [],
   "source": [
    "dataset.get_choices_batch([0, 1]), dataset.batch[[0, 1]]"
   ]
  },
  {
   "cell_type": "code",
   "execution_count": null,
   "metadata": {},
   "outputs": [],
   "source": [
    "batch = (dataset.contexts_features[0][:16], )\n",
    "batch"
   ]
  },
  {
   "cell_type": "code",
   "execution_count": null,
   "metadata": {},
   "outputs": [],
   "source": [
    "transport_df"
   ]
  },
  {
   "cell_type": "code",
   "execution_count": null,
   "metadata": {},
   "outputs": [],
   "source": [
    "dataset = ChoiceDataset.from_single_df(\n",
    "    df=transport_df,\n",
    "    fixed_items_features_columns=[\"oh0\", \"oh1\", \"oh2\", \"oh3\"],\n",
    "    contexts_features_columns=[\"income\"],\n",
    "    contexts_items_features_columns=[\"dist\", \"cost\", \"freq\", \"ivt\", \"ovt\"],\n",
    "    items_id_column=\"alt\",\n",
    "    contexts_id_column=\"case\",\n",
    "    choices_column=\"choice\",\n",
    "    choice_mode=\"one_zero\",\n",
    "    )"
   ]
  },
  {
   "cell_type": "code",
   "execution_count": null,
   "metadata": {},
   "outputs": [],
   "source": [
    "len(dataset)"
   ]
  },
  {
   "cell_type": "code",
   "execution_count": null,
   "metadata": {},
   "outputs": [],
   "source": [
    "dataset[[0, 1, 2, 3, 4]]"
   ]
  },
  {
   "cell_type": "code",
   "execution_count": null,
   "metadata": {},
   "outputs": [],
   "source": [
    "dataset.get_choices_batch([0, 1])"
   ]
  },
  {
   "cell_type": "code",
   "execution_count": null,
   "metadata": {},
   "outputs": [],
   "source": [
    "dataset.batch[[0, 1]]"
   ]
  },
  {
   "cell_type": "code",
   "execution_count": null,
   "metadata": {},
   "outputs": [],
   "source": [
    "for a, b in zip(dataset.batch[[0, 1]], dataset.get_choices_batch([0, 1])):\n",
    "    for _a, _b in zip(a, b):\n",
    "        if not ((_a == _b).all()):\n",
    "            print(_a, _b)\n",
    "            print(_a==_b)"
   ]
  },
  {
   "cell_type": "code",
   "execution_count": null,
   "metadata": {},
   "outputs": [],
   "source": [
    "type(dataset.batch[[0, 1]][2][0][0][2][1]),  type(dataset.get_choices_batch([0, 1])[2][0][0][2][1])"
   ]
  },
  {
   "cell_type": "code",
   "execution_count": null,
   "metadata": {},
   "outputs": [],
   "source": []
  }
 ],
 "metadata": {
  "kernelspec": {
   "display_name": "tf_env",
   "language": "python",
   "name": "python3"
  },
  "language_info": {
   "codemirror_mode": {
    "name": "ipython",
    "version": 3
   },
   "file_extension": ".py",
   "mimetype": "text/x-python",
   "name": "python",
   "nbconvert_exporter": "python",
   "pygments_lexer": "ipython3",
   "version": "3.11.4"
  }
 },
 "nbformat": 4,
 "nbformat_minor": 2
}
