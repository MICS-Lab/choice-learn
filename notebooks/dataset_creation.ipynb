{
 "cells": [
  {
   "cell_type": "markdown",
   "metadata": {},
   "source": [
    "## All possible ways to create a ChoiceDataset\n",
    "\n",
    "Listed below ! "
   ]
  },
  {
   "cell_type": "code",
   "execution_count": null,
   "metadata": {},
   "outputs": [],
   "source": [
    "import os\n",
    "import sys\n",
    "from pathlib import Path\n",
    "\n",
    "\n",
    "sys.path.append(\"../\")\n",
    "\n",
    "import numpy as np\n",
    "import pandas as pd\n",
    "\n",
    "from choice_learn.data import ChoiceDataset\n",
    "from choice_learn.data.storage import FeaturesStorage"
   ]
  },
  {
   "cell_type": "markdown",
   "metadata": {},
   "source": [
    "We will use the CanadaMode dataset for this example. We can download it directly:"
   ]
  },
  {
   "cell_type": "code",
   "execution_count": null,
   "metadata": {},
   "outputs": [],
   "source": [
    "from choice_learn.datasets import load_modecanada, load_swissmetro\n",
    "\n",
    "canada_df = load_modecanada(as_frame=True, add_is_public=True)\n",
    "canada_df.head()"
   ]
  },
  {
   "cell_type": "markdown",
   "metadata": {},
   "source": [
    "Let's create a column indicating whether the considered transport alternative is individual or not transport."
   ]
  },
  {
   "cell_type": "markdown",
   "metadata": {},
   "source": [
    "### From a single dataframe"
   ]
  },
  {
   "cell_type": "code",
   "execution_count": null,
   "metadata": {},
   "outputs": [],
   "source": [
    "dataset = ChoiceDataset.from_single_df(df=canada_df,\n",
    "                                       fixed_items_features_columns=[\"is_public\"],\n",
    "                                       contexts_features_columns=[\"dist\", \"income\", \"urban\"],\n",
    "                                       contexts_items_features_columns=[\"freq\", \"cost\", \"ivt\", \"ovt\"],\n",
    "                                       items_id_column=\"alt\",\n",
    "                                       contexts_id_column=\"case\",\n",
    "                                       choices_column=\"choice\",\n",
    "                                       # the choice columns indicates if the item is chosen (1) or not (0)\n",
    "                                       choice_mode=\"one_zero\",\n",
    "                                       )\n",
    "print(dataset.summary())"
   ]
  },
  {
   "cell_type": "markdown",
   "metadata": {},
   "source": [
    "Another mode is possible, if the dataframe indicates the name of the chosen item instead of ones and zeros:"
   ]
  },
  {
   "cell_type": "code",
   "execution_count": null,
   "metadata": {},
   "outputs": [],
   "source": [
    "canada_df = load_modecanada(as_frame=True, add_is_public=True, choice_mode=\"items_id\")\n",
    "canada_df.head()"
   ]
  },
  {
   "cell_type": "markdown",
   "metadata": {},
   "source": [
    "This time, the choice is not given by ones and zeros but actually names for each context which alternative (item) has been chosen.\n",
    "The ChoiceDataset handles this case easily, by specifying 'choice_mode=\"items_id\"'."
   ]
  },
  {
   "cell_type": "code",
   "execution_count": null,
   "metadata": {},
   "outputs": [],
   "source": [
    "dataset = ChoiceDataset.from_single_df(df=canada_df,\n",
    "                                       fixed_items_features_columns=[\"is_public\"],\n",
    "                                       contexts_features_columns=[\"dist\", \"income\", \"urban\"],\n",
    "                                       contexts_items_features_columns=[\"freq\", \"cost\", \"ivt\", \"ovt\"],\n",
    "                                       items_id_column=\"alt\",\n",
    "                                       contexts_id_column=\"case\",\n",
    "                                       choices_column=\"choice\",\n",
    "                                       # the choice columns indicates the id of the chosen item\n",
    "                                       choice_mode=\"items_id\",\n",
    "                                       )\n",
    "print(dataset.summary())"
   ]
  },
  {
   "cell_type": "markdown",
   "metadata": {},
   "source": [
    "### From several DataFrames"
   ]
  },
  {
   "cell_type": "markdown",
   "metadata": {},
   "source": [
    "Now, let's say that you have your data split into several files. It can happen if you store the different type of features in different SQL Tables for example.\n",
    "You will only need to follow some restrictions:"
   ]
  },
  {
   "cell_type": "code",
   "execution_count": null,
   "metadata": {},
   "outputs": [],
   "source": [
    "fixed_items_features, contexts_features, contexts_items_features, choices =\\\n",
    "load_modecanada(as_frame=True, split_features=True, add_is_public=True)"
   ]
  },
  {
   "cell_type": "markdown",
   "metadata": {},
   "source": [
    "fixed_items_features need to have a column named \"item_id\" referencing the item. Others columns are free to be any feature."
   ]
  },
  {
   "cell_type": "code",
   "execution_count": null,
   "metadata": {},
   "outputs": [],
   "source": [
    "fixed_items_features.head()"
   ]
  },
  {
   "cell_type": "markdown",
   "metadata": {},
   "source": [
    "contexts_features need to have a \"context_id\" column (otherwise index is used). Other columns are free to be any feature."
   ]
  },
  {
   "cell_type": "code",
   "execution_count": null,
   "metadata": {},
   "outputs": [],
   "source": [
    "contexts_features.head()"
   ]
  },
  {
   "cell_type": "markdown",
   "metadata": {},
   "source": [
    "contexts_items_features need to have the column \"item_id\" and is recommended to have the column \"context_id\" (otherwise index is used).\\\n",
    "Of course \"item_id\" and \"context_id\" should match fixed_items_features and contexts_features."
   ]
  },
  {
   "cell_type": "code",
   "execution_count": null,
   "metadata": {},
   "outputs": [],
   "source": [
    "contexts_items_features.head()"
   ]
  },
  {
   "cell_type": "markdown",
   "metadata": {},
   "source": [
    "choices should have a column \"context_id\" and a column \"choice\". The value in \"choice\" should match the values in the column \"item_id\" in items_features and contexts_items_features."
   ]
  },
  {
   "cell_type": "code",
   "execution_count": null,
   "metadata": {},
   "outputs": [],
   "source": [
    "choices.head()"
   ]
  },
  {
   "cell_type": "code",
   "execution_count": null,
   "metadata": {},
   "outputs": [],
   "source": [
    "# And now you can create the dataset with:\n",
    "dataset = ChoiceDataset(fixed_items_features=fixed_items_features,\n",
    "                        contexts_features=contexts_features,\n",
    "                        contexts_items_features=contexts_items_features,\n",
    "                        choices=choices)\n",
    "print(dataset.summary())"
   ]
  },
  {
   "cell_type": "markdown",
   "metadata": {},
   "source": [
    "### From several np.ndarrays"
   ]
  },
  {
   "cell_type": "markdown",
   "metadata": {},
   "source": [
    "Finally, another alternative is to specify each type of feature as np.ndarrays. You can or not also give features names. It is not necessary unless you plan to use a model with specification w.r.t. to those features names."
   ]
  },
  {
   "cell_type": "code",
   "execution_count": null,
   "metadata": {},
   "outputs": [],
   "source": [
    "fixed_items_features, contexts_features, contexts_items_features, contexts_items_availabilities, choices =\\\n",
    "load_modecanada(split_features=True, add_is_public=True)"
   ]
  },
  {
   "cell_type": "markdown",
   "metadata": {},
   "source": [
    "If you are using this method, it is your job to make sure that the arrays are well organized.\\\n",
    "First, contexts_features, contexts_items_features, contexts_items_availabilities and choices must be in the right order and their dimension (first one) must match.\\\n",
    "Second, fixed_items_features, contexts_items_availabilities and contexts_items_features must also have the same number of items and ordered the sames. Only it must be on the first dimension of fixed_items_features and the second one of contexts_items_features and contexts_items_availabilities.\\\n",
    "Third, choices must indicate the index of the chosen item as ordered in fixed_items_features and contexts_items_features.\n",
    "Finally you have to precise the contexts_items_availabilities, or which items were available (1) or not (0) for each context/choice.\n",
    "\n",
    "To summarize the shape of the arrays must be:\n",
    "- (n_items, n_fixed_items_features) for fixed_items_features\n",
    "- (n_choices, n_contexts_features) for contexts_features\n",
    "- (n_choices, n_items, n_contexts_items_features) for contexts_items_features\n",
    "- (n_choices, n_items) for contexts_items_availabilities\n",
    "- (n_choices, ) for choice\n",
    "\n",
    "*Reminder:* One context corresponds to one choice."
   ]
  },
  {
   "cell_type": "code",
   "execution_count": null,
   "metadata": {},
   "outputs": [],
   "source": [
    "print(\"For our example here are the arrays shapes:\")\n",
    "print(f\"Fixed Items Features shape: {fixed_items_features.shape}, 4 items, 1 feature (is_public)\")\n",
    "print(f\"Contexts Features shape: {contexts_features.shape}, 4324 choices, 3 features (income, dist, urban)\")\n",
    "print(f\"Contexts Items Features shape: {contexts_items_features.shape}, 4324 choices, 4 items, 4 features (freq, cost, ivt, ovt)\")\n",
    "print(f\"Contexts Items Availabilities shape: {contexts_items_availabilities.shape}, 4324 choices, 4 items\")\n",
    "print(f\"Choices shape: {choices.shape}, 4324 choices\")"
   ]
  },
  {
   "cell_type": "code",
   "execution_count": null,
   "metadata": {},
   "outputs": [],
   "source": [
    "dataset = ChoiceDataset(fixed_items_features=fixed_items_features,\n",
    "                        contexts_features=contexts_features,\n",
    "                        contexts_items_features=contexts_items_features,\n",
    "                        choices=choices,\n",
    "                        contexts_items_availabilities=contexts_items_availabilities,\n",
    "                        # We can give the name of the features as follows, with the right order:\n",
    "                        fixed_items_features_names=[\"is_public\"],\n",
    "                        contexts_features_names=[\"income\", \"dist\", \"urban\"],\n",
    "                        contexts_items_features_names=[\"freq\", \"cost\", \"ivt\", \"ovt\"],\n",
    "                        )\n",
    "print(dataset.summary())"
   ]
  },
  {
   "cell_type": "code",
   "execution_count": null,
   "metadata": {},
   "outputs": [],
   "source": []
  }
 ],
 "metadata": {
  "kernelspec": {
   "display_name": "tf_env",
   "language": "python",
   "name": "python3"
  },
  "language_info": {
   "codemirror_mode": {
    "name": "ipython",
    "version": 3
   },
   "file_extension": ".py",
   "mimetype": "text/x-python",
   "name": "python",
   "nbconvert_exporter": "python",
   "pygments_lexer": "ipython3",
   "version": "3.11.4"
  }
 },
 "nbformat": 4,
 "nbformat_minor": 2
}
