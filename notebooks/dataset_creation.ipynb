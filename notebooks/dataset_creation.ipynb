{
 "cells": [
  {
   "cell_type": "markdown",
   "metadata": {},
   "source": [
    "## All possible ways to create a ChoiceDataset\n",
    "\n",
    "Listed below ! "
   ]
  },
  {
   "cell_type": "code",
   "execution_count": null,
   "metadata": {},
   "outputs": [],
   "source": [
    "import os\n",
    "import sys\n",
    "from pathlib import Path\n",
    "\n",
    "sys.path.append(\"../\")\n",
    "\n",
    "import numpy as np\n",
    "import pandas as pd\n",
    "\n",
    "from choice_learn.data import ChoiceDataset\n",
    "from choice_learn.data.storage import FeaturesStorage"
   ]
  },
  {
   "cell_type": "markdown",
   "metadata": {},
   "source": [
    "We will use the CanadaMode dataset for this example. We can download it directly:"
   ]
  },
  {
   "cell_type": "code",
   "execution_count": null,
   "metadata": {},
   "outputs": [],
   "source": [
    "from choice_learn.datasets import load_modecanada, load_swissmetro\n",
    "\n",
    "canada_transport_df = load_modecanada(as_frame=True)\n",
    "print(canada_transport_df.head())"
   ]
  },
  {
   "cell_type": "markdown",
   "metadata": {},
   "source": [
    "Let's create a column indicating whether the considered transport alternative is individual or not transport."
   ]
  },
  {
   "cell_type": "code",
   "execution_count": null,
   "metadata": {},
   "outputs": [],
   "source": [
    "canada_transport_df[\"is_individual\"] = canada_transport_df.apply(lambda row: 1 if row.alt ==\"car\" else 0,\n",
    "                                                                 axis=1)\n",
    "print(canada_transport_df.head())"
   ]
  },
  {
   "cell_type": "markdown",
   "metadata": {},
   "source": [
    "### From a single dataframe"
   ]
  },
  {
   "cell_type": "code",
   "execution_count": null,
   "metadata": {},
   "outputs": [],
   "source": [
    "dataset = ChoiceDataset.from_single_df(df=canada_transport_df,\n",
    "                                       fixed_items_features_columns=[\"is_individual\"],\n",
    "                                       contexts_features_columns=[\"income\"],\n",
    "                                       contexts_items_features_columns=[\"dist\", \"cost\", \"ivt\", \"ovt\"],\n",
    "                                       items_id_column=\"alt\",\n",
    "                                       contexts_id_column=\"case\",\n",
    "                                       choices_column=\"choice\",\n",
    "                                       choice_mode=\"one_zero\", # the choice columns indicates if the item is chosen (1) or not (0)\n",
    "                                       )\n",
    "print(dataset.summary())"
   ]
  },
  {
   "cell_type": "markdown",
   "metadata": {},
   "source": [
    "Another mode is possible, if the dataframe indicates the name of the chosen item instead of ones and zeros:"
   ]
  },
  {
   "cell_type": "code",
   "execution_count": null,
   "metadata": {},
   "outputs": [],
   "source": [
    "id_df = canada_transport_df.copy(deep=True)\n",
    "one_hot_choice = [0] * len(id_df)\n",
    "for n_row, row in id_df.iterrows():\n",
    "    if row.choice == 0:\n",
    "        sub_df = id_df[id_df.case == row.case]\n",
    "        choice = sub_df.loc[sub_df.choice == 1].alt.to_numpy()[0]\n",
    "        one_hot_choice[n_row-1] = choice\n",
    "\n",
    "for n_row, row in id_df.iterrows():\n",
    "    if row.choice == 1:\n",
    "         one_hot_choice[n_row-1] = row.alt\n",
    "\n",
    "id_df[\"one_hot_choice\"] = one_hot_choice\n",
    "\n",
    "print(id_df.head())\n"
   ]
  },
  {
   "cell_type": "code",
   "execution_count": null,
   "metadata": {},
   "outputs": [],
   "source": [
    "dataset = ChoiceDataset.from_single_df(df=id_df,\n",
    "                                       fixed_items_features_columns=[\"is_individual\"],\n",
    "                                       contexts_features_columns=[\"income\"],\n",
    "                                       contexts_items_features_columns=[\"dist\", \"cost\", \"ivt\", \"ovt\"],\n",
    "                                       items_id_column=\"alt\",\n",
    "                                       contexts_id_column=\"case\",\n",
    "                                       choices_column=\"one_hot_choice\",\n",
    "                                       choice_mode=\"items_id\", # the choice columns indicates if the item is chosen (1) or not (0)\n",
    "                                       )\n",
    "print(dataset.summary())"
   ]
  },
  {
   "cell_type": "markdown",
   "metadata": {},
   "source": [
    "Now, let's say that you have your data split into several files:"
   ]
  },
  {
   "cell_type": "code",
   "execution_count": null,
   "metadata": {},
   "outputs": [],
   "source": [
    "canada_transport_df.alt.unique()"
   ]
  },
  {
   "cell_type": "code",
   "execution_count": null,
   "metadata": {},
   "outputs": [],
   "source": [
    "fixed_items_features = pd.DataFrame({\"item_id\": [\"car\", \"train\", \"bus\", \"air\"],\n",
    "                                     \"is_individual\": [1, 0, 0, 0]})\n",
    "# The item_id column is necessery, otherwise it will keep the order\n",
    "# however it is less safe with pd.DataFrame"
   ]
  },
  {
   "cell_type": "code",
   "execution_count": null,
   "metadata": {},
   "outputs": [],
   "source": [
    "contexts_features = canada_transport_df[[\"case\", \"income\"]].drop_duplicates()\n",
    "contexts_features = contexts_features.rename(columns={\"case\": \"context_id\"})\n",
    "# If the context_id column does not exist, the index is used"
   ]
  },
  {
   "cell_type": "code",
   "execution_count": null,
   "metadata": {},
   "outputs": [],
   "source": [
    "contexts_items_features = canada_transport_df[[\"case\", \"alt\", \"dist\", \"cost\", \"ivt\", \"ovt\"]]\n",
    "contexts_items_features = contexts_items_features.rename(columns={\"case\": \"context_id\", \"alt\": \"item_id\"})"
   ]
  },
  {
   "cell_type": "code",
   "execution_count": null,
   "metadata": {},
   "outputs": [],
   "source": [
    "canada_transport_df"
   ]
  },
  {
   "cell_type": "code",
   "execution_count": null,
   "metadata": {},
   "outputs": [],
   "source": [
    "choices = canada_transport_df.loc[canada_transport_df.choice==1][[\"case\", \"alt\"]]"
   ]
  },
  {
   "cell_type": "code",
   "execution_count": null,
   "metadata": {},
   "outputs": [],
   "source": [
    "dataset = ChoiceDataset(fixed_items_features=fixed_items_features,\n",
    "                        contexts_features=contexts_features,\n",
    "                        contexts_items_features=contexts_items_features,\n",
    "                        choices=choices)"
   ]
  },
  {
   "cell_type": "code",
   "execution_count": null,
   "metadata": {},
   "outputs": [],
   "source": []
  },
  {
   "cell_type": "code",
   "execution_count": null,
   "metadata": {},
   "outputs": [],
   "source": []
  }
 ],
 "metadata": {
  "kernelspec": {
   "display_name": "tf_env",
   "language": "python",
   "name": "python3"
  },
  "language_info": {
   "codemirror_mode": {
    "name": "ipython",
    "version": 3
   },
   "file_extension": ".py",
   "mimetype": "text/x-python",
   "name": "python",
   "nbconvert_exporter": "python",
   "pygments_lexer": "ipython3",
   "version": "3.11.4"
  }
 },
 "nbformat": 4,
 "nbformat_minor": 2
}
