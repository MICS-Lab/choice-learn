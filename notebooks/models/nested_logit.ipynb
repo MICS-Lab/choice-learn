{
 "cells": [
  {
   "cell_type": "markdown",
   "metadata": {},
   "source": [
    "# The Nested Logit Model\n",
    "\n",
    "\n",
    "The Nested Logit model considers sub-groups of alternatives totally substitutables, called 'nests'. The general idea is that a customer might choose its transportation mode between publics transport and its private car. And then, if he decides to use public transportations the customer chooses between taking the train or the bus.\\\n",
    "The classical Conditional Logit does not account for such decision process. Hence the introduction of the Nested Logit. More detailed information are available [here](https://cran.r-project.org/web/packages/mlogit/vignettes/c4.relaxiid.html#:~:text=The%20nested%20logit%20model&text=It%20is%20a%20generalization%20of,different%20nests%20are%20still%20uncorrelated.).\n",
    "\n",
    "\n",
    "In this notebook we reproduce results from other packages showing how to speficy a Nested Logit model with Choice-Learn and that we reach the right results.\n",
    "\n",
    "## Summary"
   ]
  },
  {
   "cell_type": "code",
   "execution_count": null,
   "metadata": {},
   "outputs": [],
   "source": [
    "import os\n",
    "\n",
    "os.environ[\"CUDA_VISIBLE_DEVICES\"] = \"\"\n",
    "\n",
    "import sys\n",
    "\n",
    "sys.path.append(\"../../\")\n",
    "\n",
    "import numpy as np\n",
    "import pandas as pd"
   ]
  },
  {
   "cell_type": "markdown",
   "metadata": {},
   "source": [
    "### Import the Nested Logit from Choice-Learn !"
   ]
  },
  {
   "cell_type": "code",
   "execution_count": null,
   "metadata": {},
   "outputs": [],
   "source": [
    "from choice_learn.models import NestedLogit"
   ]
  },
  {
   "cell_type": "markdown",
   "metadata": {},
   "source": [
    "## 1- Nested Logit on the SwissMetro dataset\n",
    "\n",
    "We reproduce the results from [Biogeme](https://biogeme.epfl.ch/sphinx/auto_examples/swissmetro/plot_b09nested.html) that is also reproduced in [PyLogit](https://github.com/timothyb0912/pylogit/blob/master/examples/notebooks/Nested%20Logit%20Example--Python%20Biogeme%20benchmark--09NestedLogit.ipynb).\\\n",
    "This example uses the SwissMetro dataset further described in the [data introduction](../introduction/2_data_handling.ipynb).\n",
    "\n"
   ]
  },
  {
   "cell_type": "code",
   "execution_count": null,
   "metadata": {
    "keep_output": true
   },
   "outputs": [
    {
     "name": "stdout",
     "output_type": "stream",
     "text": [
      "%=====================================================================%\n",
      "%%% Summary of the dataset:\n",
      "%=====================================================================%\n",
      "Number of items: 3\n",
      "Number of choices: 6768\n",
      "%=====================================================================%\n",
      " No Shared Features by Choice registered\n",
      "\n",
      "\n",
      " Items Features by Choice:\n",
      " 2 items features \n",
      " with names: (['cost', 'travel_time'],)\n",
      "%=====================================================================%\n",
      "\n"
     ]
    }
   ],
   "source": [
    "from choice_learn.datasets import load_swissmetro\n",
    "swiss_dataset = load_swissmetro(preprocessing=\"biogeme_nested\")\n",
    "print(swiss_dataset.summary())"
   ]
  },
  {
   "cell_type": "markdown",
   "metadata": {},
   "source": [
    "The model specified in Biogeme defines two nests:\n",
    "- The existing modes nest with the train and car *(items indexes of 0 and 2)*\n",
    "- The future modes nest with the swissmetro *(item index of 1)*\n",
    "\n",
    "And the utility form is the following:\\\n",
    "&nbsp; &nbsp; &nbsp; $U(i) = \\beta^{inter}_i + \\beta^{tt} \\cdot TT(i) + \\beta^{co} \\cdot CO(i)$\\\n",
    "with:\n",
    "- $TT(i)$ the travel time of alternative $i$\n",
    "- $CO(i)$ the cost of alternative $i$\n",
    "- $\\beta^{inter}_{sm} = 0$\n",
    "\n",
    "Therefore we have 4 weights in the utility function and the $\\gamma_{nest}$ values to estimate. The 'new' nest containing only one alternative, its correlation value $\\gamma^{new}$ has no impact, we only need to estimate $\\gamma^{old}$.\n",
    "\n",
    "With Choice-Learn, the Nested Logit model specification is similar to the [Conditional Logit specification](./../introduction/3_model_clogit.ipynb). The few differences are:\n",
    "- When the model is instantiated, the nested need to be specified as a list of nests with the concerned items indexes. In the example, we specify `items_nests=[[0, 2], [1]]` saying that first nest contains the items of indexes 0 (train) and 2 (car) and the second nest the item of index 1 (swiss metro).\n",
    "- The \"fast\" dict-base specifications has another alternative with `coefficients={feature_name: \"nest\"}` creating for the feature feature_name one coefficient to estimate by nest, this coefficient being shared by all alternatives of the nest."
   ]
  },
  {
   "cell_type": "code",
   "execution_count": null,
   "metadata": {},
   "outputs": [],
   "source": [
    "# Initialization of the model\n",
    "swiss_model = NestedLogit(optimizer=\"lbfgs\", items_nests=[[0, 2], [1]], batch_size=-1, lr=0.002, epochs=100)\n",
    "\n",
    "# Intercept for train & sm\n",
    "swiss_model.add_coefficients(feature_name=\"intercept\", items_indexes=[0, 2])\n",
    "\n",
    "# betas TT and CO shared by train and sm\n",
    "swiss_model.add_shared_coefficient(feature_name=\"travel_time\",\n",
    "                                   items_indexes=[0, 1, 2])\n",
    "swiss_model.add_shared_coefficient(feature_name=\"cost\",\n",
    "                                   items_indexes=[0, 1, 2])\n"
   ]
  },
  {
   "cell_type": "code",
   "execution_count": null,
   "metadata": {
    "keep_output": true
   },
   "outputs": [
    {
     "name": "stderr",
     "output_type": "stream",
     "text": [
      "WARNING:root:L-BFGS Opimization finished:\n",
      "WARNING:root:---------------------------------------------------------------\n",
      "WARNING:root:Number of iterations: 16\n",
      "WARNING:root:Algorithm converged before reaching max iterations: True\n"
     ]
    },
    {
     "name": "stdout",
     "output_type": "stream",
     "text": [
      "Using L-BFGS optimizer, setting up .fit() function\n",
      "Got nest 1 on 2 with 2 items.\n",
      "Got nest 2 on 2 with 1 items.\n"
     ]
    }
   ],
   "source": [
    "# Estimation of the model\n",
    "history = swiss_model.fit(swiss_dataset, get_report=True, verbose=2)"
   ]
  },
  {
   "cell_type": "code",
   "execution_count": null,
   "metadata": {
    "keep_output": true
   },
   "outputs": [
    {
     "data": {
      "text/plain": [
       "[<tf.Variable 'beta_intercept:0' shape=(1, 2) dtype=float32, numpy=array([[-0.51194817, -0.1671557 ]], dtype=float32)>,\n",
       " <tf.Variable 'beta_travel_time:0' shape=(1, 1) dtype=float32, numpy=array([[-0.8986639]], dtype=float32)>,\n",
       " <tf.Variable 'beta_cost:0' shape=(1, 1) dtype=float32, numpy=array([[-0.85666525]], dtype=float32)>,\n",
       " <tf.Variable 'gammas_nests:0' shape=(1, 1) dtype=float32, numpy=array([[0.48683944]], dtype=float32)>]"
      ]
     },
     "execution_count": null,
     "metadata": {},
     "output_type": "execute_result"
    }
   ],
   "source": [
    "swiss_model.trainable_weights"
   ]
  },
  {
   "cell_type": "code",
   "execution_count": null,
   "metadata": {
    "keep_output": true
   },
   "outputs": [
    {
     "data": {
      "text/html": [
       "<div>\n",
       "<style scoped>\n",
       "    .dataframe tbody tr th:only-of-type {\n",
       "        vertical-align: middle;\n",
       "    }\n",
       "\n",
       "    .dataframe tbody tr th {\n",
       "        vertical-align: top;\n",
       "    }\n",
       "\n",
       "    .dataframe thead th {\n",
       "        text-align: right;\n",
       "    }\n",
       "</style>\n",
       "<table border=\"1\" class=\"dataframe\">\n",
       "  <thead>\n",
       "    <tr style=\"text-align: right;\">\n",
       "      <th></th>\n",
       "      <th>Coefficient Name</th>\n",
       "      <th>Coefficient Estimation</th>\n",
       "      <th>Std. Err</th>\n",
       "      <th>z_value</th>\n",
       "      <th>P(.&gt;z)</th>\n",
       "    </tr>\n",
       "  </thead>\n",
       "  <tbody>\n",
       "    <tr>\n",
       "      <th>0</th>\n",
       "      <td>beta_intercept_0</td>\n",
       "      <td>-0.511948</td>\n",
       "      <td>0.046159</td>\n",
       "      <td>-11.090879</td>\n",
       "      <td>0.000000</td>\n",
       "    </tr>\n",
       "    <tr>\n",
       "      <th>1</th>\n",
       "      <td>beta_intercept_1</td>\n",
       "      <td>-0.167156</td>\n",
       "      <td>0.036682</td>\n",
       "      <td>-4.556831</td>\n",
       "      <td>0.000005</td>\n",
       "    </tr>\n",
       "    <tr>\n",
       "      <th>2</th>\n",
       "      <td>beta_travel_time</td>\n",
       "      <td>-0.898664</td>\n",
       "      <td>0.054548</td>\n",
       "      <td>-16.474665</td>\n",
       "      <td>0.000000</td>\n",
       "    </tr>\n",
       "    <tr>\n",
       "      <th>3</th>\n",
       "      <td>beta_cost</td>\n",
       "      <td>-0.856665</td>\n",
       "      <td>0.046482</td>\n",
       "      <td>-18.430080</td>\n",
       "      <td>0.000000</td>\n",
       "    </tr>\n",
       "    <tr>\n",
       "      <th>4</th>\n",
       "      <td>gammas_nests</td>\n",
       "      <td>0.486839</td>\n",
       "      <td>0.029635</td>\n",
       "      <td>16.427753</td>\n",
       "      <td>0.000000</td>\n",
       "    </tr>\n",
       "  </tbody>\n",
       "</table>\n",
       "</div>"
      ],
      "text/plain": [
       "   Coefficient Name  Coefficient Estimation  Std. Err    z_value    P(.>z)\n",
       "0  beta_intercept_0               -0.511948  0.046159 -11.090879  0.000000\n",
       "1  beta_intercept_1               -0.167156  0.036682  -4.556831  0.000005\n",
       "2  beta_travel_time               -0.898664  0.054548 -16.474665  0.000000\n",
       "3         beta_cost               -0.856665  0.046482 -18.430080  0.000000\n",
       "4      gammas_nests                0.486839  0.029635  16.427753  0.000000"
      ]
     },
     "execution_count": null,
     "metadata": {},
     "output_type": "execute_result"
    }
   ],
   "source": [
    "swiss_model.report"
   ]
  },
  {
   "cell_type": "code",
   "execution_count": null,
   "metadata": {
    "keep_output": true
   },
   "outputs": [
    {
     "data": {
      "text/plain": [
       "[<tf.Variable 'beta_intercept:0' shape=(1, 2) dtype=float32, numpy=array([[-0.51194817, -0.1671557 ]], dtype=float32)>,\n",
       " <tf.Variable 'beta_travel_time:0' shape=(1, 1) dtype=float32, numpy=array([[-0.8986639]], dtype=float32)>,\n",
       " <tf.Variable 'beta_cost:0' shape=(1, 1) dtype=float32, numpy=array([[-0.85666525]], dtype=float32)>,\n",
       " <tf.Variable 'gammas_nests:0' shape=(1, 1) dtype=float32, numpy=array([[0.48683944]], dtype=float32)>]"
      ]
     },
     "execution_count": null,
     "metadata": {},
     "output_type": "execute_result"
    }
   ],
   "source": [
    "# Looking at the weights\n",
    "swiss_model.trainable_weights"
   ]
  },
  {
   "cell_type": "code",
   "execution_count": null,
   "metadata": {
    "keep_output": true
   },
   "outputs": [
    {
     "data": {
      "text/plain": [
       "<tf.Tensor: shape=(), dtype=float32, numpy=5236.9>"
      ]
     },
     "execution_count": null,
     "metadata": {},
     "output_type": "execute_result"
    }
   ],
   "source": [
    "# Estimating the total summed Negative Log-Likelihood\n",
    "swiss_model.evaluate(swiss_dataset) * len(swiss_dataset)"
   ]
  },
  {
   "cell_type": "code",
   "execution_count": null,
   "metadata": {
    "keep_output": true
   },
   "outputs": [
    {
     "name": "stdout",
     "output_type": "stream",
     "text": [
      "tf.Tensor(\n",
      "[[0.15937707 0.6218435  0.21877941]\n",
      " [0.19402009 0.64451504 0.16146487]\n",
      " [0.11813082 0.5976908  0.2841783 ]\n",
      " [0.12110616 0.5260698  0.35282403]], shape=(4, 3), dtype=float32)\n"
     ]
    }
   ],
   "source": [
    "# Probabilities can be easily computed:\n",
    "probas = swiss_model.predict_probas(swiss_dataset)\n",
    "print(probas[:4])"
   ]
  },
  {
   "cell_type": "markdown",
   "metadata": {},
   "source": [
    "### Interpretation and comparison with Biogeme results"
   ]
  },
  {
   "cell_type": "markdown",
   "metadata": {},
   "source": [
    "## 2- Nested Logit with the HC Dataset\n",
    "\n",
    "We reproduce results from [mlogit](https://cran.r-project.org/web/packages/mlogit/vignettes/e2nlogit.html) that are also presented in [Torch-Choice](https://gsbdbi.github.io/torch-choice/nested_logit_model_house_cooling/)."
   ]
  },
  {
   "cell_type": "code",
   "execution_count": null,
   "metadata": {},
   "outputs": [],
   "source": [
    "import pandas as pd\n",
    "from choice_learn.data import ChoiceDataset\n",
    "\n",
    "# Loading\n",
    "df = pd.read_csv(\"../../../../HC.csv\")"
   ]
  },
  {
   "cell_type": "code",
   "execution_count": null,
   "metadata": {
    "keep_output": true
   },
   "outputs": [
    {
     "data": {
      "text/html": [
       "<div>\n",
       "<style scoped>\n",
       "    .dataframe tbody tr th:only-of-type {\n",
       "        vertical-align: middle;\n",
       "    }\n",
       "\n",
       "    .dataframe tbody tr th {\n",
       "        vertical-align: top;\n",
       "    }\n",
       "\n",
       "    .dataframe thead th {\n",
       "        text-align: right;\n",
       "    }\n",
       "</style>\n",
       "<table border=\"1\" class=\"dataframe\">\n",
       "  <thead>\n",
       "    <tr style=\"text-align: right;\">\n",
       "      <th></th>\n",
       "      <th>rownames</th>\n",
       "      <th>depvar</th>\n",
       "      <th>ich.gcc</th>\n",
       "      <th>ich.ecc</th>\n",
       "      <th>ich.erc</th>\n",
       "      <th>ich.hpc</th>\n",
       "      <th>ich.gc</th>\n",
       "      <th>ich.ec</th>\n",
       "      <th>ich.er</th>\n",
       "      <th>icca</th>\n",
       "      <th>och.gcc</th>\n",
       "      <th>och.ecc</th>\n",
       "      <th>och.erc</th>\n",
       "      <th>och.hpc</th>\n",
       "      <th>och.gc</th>\n",
       "      <th>och.ec</th>\n",
       "      <th>och.er</th>\n",
       "      <th>occa</th>\n",
       "      <th>income</th>\n",
       "    </tr>\n",
       "  </thead>\n",
       "  <tbody>\n",
       "    <tr>\n",
       "      <th>0</th>\n",
       "      <td>1</td>\n",
       "      <td>erc</td>\n",
       "      <td>9.70</td>\n",
       "      <td>7.86</td>\n",
       "      <td>8.79</td>\n",
       "      <td>11.36</td>\n",
       "      <td>24.08</td>\n",
       "      <td>24.50</td>\n",
       "      <td>7.37</td>\n",
       "      <td>27.28</td>\n",
       "      <td>2.26</td>\n",
       "      <td>4.09</td>\n",
       "      <td>3.85</td>\n",
       "      <td>1.73</td>\n",
       "      <td>2.26</td>\n",
       "      <td>4.09</td>\n",
       "      <td>3.85</td>\n",
       "      <td>2.95</td>\n",
       "      <td>20.0</td>\n",
       "    </tr>\n",
       "    <tr>\n",
       "      <th>1</th>\n",
       "      <td>2</td>\n",
       "      <td>hpc</td>\n",
       "      <td>8.77</td>\n",
       "      <td>8.69</td>\n",
       "      <td>7.09</td>\n",
       "      <td>9.37</td>\n",
       "      <td>28.00</td>\n",
       "      <td>32.71</td>\n",
       "      <td>9.33</td>\n",
       "      <td>26.49</td>\n",
       "      <td>2.30</td>\n",
       "      <td>2.69</td>\n",
       "      <td>3.45</td>\n",
       "      <td>1.65</td>\n",
       "      <td>2.30</td>\n",
       "      <td>2.69</td>\n",
       "      <td>3.45</td>\n",
       "      <td>1.63</td>\n",
       "      <td>50.0</td>\n",
       "    </tr>\n",
       "    <tr>\n",
       "      <th>2</th>\n",
       "      <td>3</td>\n",
       "      <td>gcc</td>\n",
       "      <td>7.43</td>\n",
       "      <td>8.86</td>\n",
       "      <td>6.94</td>\n",
       "      <td>11.70</td>\n",
       "      <td>25.71</td>\n",
       "      <td>31.68</td>\n",
       "      <td>8.14</td>\n",
       "      <td>22.63</td>\n",
       "      <td>2.28</td>\n",
       "      <td>5.25</td>\n",
       "      <td>4.35</td>\n",
       "      <td>1.44</td>\n",
       "      <td>2.28</td>\n",
       "      <td>5.25</td>\n",
       "      <td>4.35</td>\n",
       "      <td>2.18</td>\n",
       "      <td>50.0</td>\n",
       "    </tr>\n",
       "    <tr>\n",
       "      <th>3</th>\n",
       "      <td>4</td>\n",
       "      <td>gcc</td>\n",
       "      <td>9.18</td>\n",
       "      <td>8.93</td>\n",
       "      <td>7.22</td>\n",
       "      <td>12.13</td>\n",
       "      <td>29.72</td>\n",
       "      <td>26.73</td>\n",
       "      <td>8.04</td>\n",
       "      <td>25.33</td>\n",
       "      <td>2.62</td>\n",
       "      <td>4.89</td>\n",
       "      <td>4.85</td>\n",
       "      <td>1.93</td>\n",
       "      <td>2.62</td>\n",
       "      <td>4.89</td>\n",
       "      <td>4.85</td>\n",
       "      <td>2.70</td>\n",
       "      <td>50.0</td>\n",
       "    </tr>\n",
       "    <tr>\n",
       "      <th>4</th>\n",
       "      <td>5</td>\n",
       "      <td>gcc</td>\n",
       "      <td>8.05</td>\n",
       "      <td>7.02</td>\n",
       "      <td>8.44</td>\n",
       "      <td>10.51</td>\n",
       "      <td>23.90</td>\n",
       "      <td>28.35</td>\n",
       "      <td>7.15</td>\n",
       "      <td>25.45</td>\n",
       "      <td>2.52</td>\n",
       "      <td>3.71</td>\n",
       "      <td>3.64</td>\n",
       "      <td>1.63</td>\n",
       "      <td>2.52</td>\n",
       "      <td>3.71</td>\n",
       "      <td>3.64</td>\n",
       "      <td>2.77</td>\n",
       "      <td>60.0</td>\n",
       "    </tr>\n",
       "  </tbody>\n",
       "</table>\n",
       "</div>"
      ],
      "text/plain": [
       "   rownames depvar  ich.gcc  ich.ecc  ich.erc  ich.hpc  ich.gc  ich.ec  \\\n",
       "0         1    erc     9.70     7.86     8.79    11.36   24.08   24.50   \n",
       "1         2    hpc     8.77     8.69     7.09     9.37   28.00   32.71   \n",
       "2         3    gcc     7.43     8.86     6.94    11.70   25.71   31.68   \n",
       "3         4    gcc     9.18     8.93     7.22    12.13   29.72   26.73   \n",
       "4         5    gcc     8.05     7.02     8.44    10.51   23.90   28.35   \n",
       "\n",
       "   ich.er   icca  och.gcc  och.ecc  och.erc  och.hpc  och.gc  och.ec  och.er  \\\n",
       "0    7.37  27.28     2.26     4.09     3.85     1.73    2.26    4.09    3.85   \n",
       "1    9.33  26.49     2.30     2.69     3.45     1.65    2.30    2.69    3.45   \n",
       "2    8.14  22.63     2.28     5.25     4.35     1.44    2.28    5.25    4.35   \n",
       "3    8.04  25.33     2.62     4.89     4.85     1.93    2.62    4.89    4.85   \n",
       "4    7.15  25.45     2.52     3.71     3.64     1.63    2.52    3.71    3.64   \n",
       "\n",
       "   occa  income  \n",
       "0  2.95    20.0  \n",
       "1  1.63    50.0  \n",
       "2  2.18    50.0  \n",
       "3  2.70    50.0  \n",
       "4  2.77    60.0  "
      ]
     },
     "execution_count": null,
     "metadata": {},
     "output_type": "execute_result"
    }
   ],
   "source": [
    "df.head()"
   ]
  },
  {
   "cell_type": "markdown",
   "metadata": {},
   "source": [
    "It is possible to pre-process the dataset like in the examples to 'easily' specify the Nested Logit model:"
   ]
  },
  {
   "cell_type": "code",
   "execution_count": null,
   "metadata": {},
   "outputs": [],
   "source": [
    "items_id = [\"gcc\", \"ecc\", \"erc\", \"hpc\", \"gc\", \"ec\", \"er\"]\n",
    "cooling_modes = [\"gcc\", \"ecc\", \"erc\", \"hpc\"]\n",
    "room_modes = [\"erc\", \"er\"]\n",
    "non_cooling_modes = [\"gc\", \"ec\", \"er\"]\n",
    "\n",
    "for mode in items_id:\n",
    "    if mode in cooling_modes:\n",
    "        df[f\"icca.{mode}\"] = df[\"icca\"]\n",
    "        df[f\"occa.{mode}\"] = df[\"occa\"]\n",
    "    else:\n",
    "        df[f\"icca.{mode}\"] = 0.\n",
    "        df[f\"occa.{mode}\"] = 0."
   ]
  },
  {
   "cell_type": "code",
   "execution_count": null,
   "metadata": {},
   "outputs": [],
   "source": [
    "for item in items_id:\n",
    "    if item in cooling_modes:\n",
    "        df[f\"int_cooling.{item}\"] = 1.\n",
    "        df[f\"inc_cooling.{item}\"] = df.income\n",
    "    else:\n",
    "        df[f\"int_cooling.{item}\"] = 0.\n",
    "        df[f\"inc_cooling.{item}\"] = 0.\n",
    "    if item in room_modes:\n",
    "        df[f\"inc_room.{item}\"] = df.income\n",
    "    else:\n",
    "        df[f\"inc_room.{item}\"] = 0"
   ]
  },
  {
   "cell_type": "code",
   "execution_count": null,
   "metadata": {},
   "outputs": [],
   "source": [
    "# Creating the dataset from this preprocessed dataframe\n",
    "dataset = ChoiceDataset.from_single_wide_df(df=df,\n",
    "                                            items_features_prefixes=[\"ich\", \"och\", \"occa\", \"icca\",\n",
    "                                                                     \"int_cooling\", \"inc_cooling\", \"inc_room\"],\n",
    "                                            delimiter=\".\",\n",
    "                                            items_id=items_id,\n",
    "                                            choices_column=\"depvar\",\n",
    "                                            choice_format=\"items_id\")"
   ]
  },
  {
   "cell_type": "code",
   "execution_count": null,
   "metadata": {},
   "outputs": [],
   "source": [
    "dataset.items_features_by_choice_names"
   ]
  },
  {
   "cell_type": "markdown",
   "metadata": {},
   "source": [
    "We can use the fast specification using a dictionnary with the 'constant' keyword."
   ]
  },
  {
   "cell_type": "code",
   "execution_count": null,
   "metadata": {
    "keep_output": true
   },
   "outputs": [
    {
     "name": "stdout",
     "output_type": "stream",
     "text": [
      "Using L-BFGS optimizer, setting up .fit() function\n",
      "Got nest 1 on 2 with 4 items.\n",
      "Got nest 2 on 2 with 3 items.\n"
     ]
    }
   ],
   "source": [
    "spec = {\n",
    "    \"ich\": \"constant\",\n",
    "    \"och\": \"constant\",\n",
    "    \"occa\": \"constant\",\n",
    "    \"icca\": \"constant\",\n",
    "    \"int_cooling\":\"constant\",\n",
    "    \"inc_cooling\": \"constant\",\n",
    "    \"inc_room\": \"constant\"\n",
    "}\n",
    "model = NestedLogit(\n",
    "    coefficients=spec,\n",
    "    items_nests=[[0, 1, 2, 3], [4, 5, 6]],\n",
    "    optimizer=\"lbfgs\",\n",
    "    shared_gammas_over_nests=True # Note the argument specifying that all nests have the same gamma value\n",
    ")\n"
   ]
  },
  {
   "cell_type": "code",
   "execution_count": null,
   "metadata": {
    "keep_output": true
   },
   "outputs": [
    {
     "name": "stderr",
     "output_type": "stream",
     "text": [
      "WARNING:root:L-BFGS Opimization finished:\n",
      "WARNING:root:---------------------------------------------------------------\n",
      "WARNING:root:Number of iterations: 38\n",
      "WARNING:root:Algorithm converged before reaching max iterations: True\n"
     ]
    },
    {
     "name": "stdout",
     "output_type": "stream",
     "text": [
      "Using L-BFGS optimizer, setting up .fit() function\n",
      "Got nest 1 on 2 with 4 items.\n",
      "Got nest 2 on 2 with 3 items.\n"
     ]
    }
   ],
   "source": [
    "hist = model.fit(dataset, get_report=True, verbose=1)\n"
   ]
  },
  {
   "cell_type": "code",
   "execution_count": null,
   "metadata": {
    "keep_output": true
   },
   "outputs": [
    {
     "data": {
      "text/plain": [
       "[<tf.Variable 'ich_w_0:0' shape=(1, 1) dtype=float32, numpy=array([[-0.5546904]], dtype=float32)>,\n",
       " <tf.Variable 'och_w_1:0' shape=(1, 1) dtype=float32, numpy=array([[-0.857596]], dtype=float32)>,\n",
       " <tf.Variable 'occa_w_2:0' shape=(1, 1) dtype=float32, numpy=array([[-1.0874541]], dtype=float32)>,\n",
       " <tf.Variable 'icca_w_3:0' shape=(1, 1) dtype=float32, numpy=array([[-0.22486664]], dtype=float32)>,\n",
       " <tf.Variable 'int_cooling_w_4:0' shape=(1, 1) dtype=float32, numpy=array([[-6.0049725]], dtype=float32)>,\n",
       " <tf.Variable 'inc_cooling_w_5:0' shape=(1, 1) dtype=float32, numpy=array([[0.24946265]], dtype=float32)>,\n",
       " <tf.Variable 'inc_room_w_6:0' shape=(1, 1) dtype=float32, numpy=array([[-0.37883615]], dtype=float32)>,\n",
       " <tf.Variable 'gamma_nests:0' shape=(1, 1) dtype=float32, numpy=array([[0.58575785]], dtype=float32)>]"
      ]
     },
     "execution_count": null,
     "metadata": {},
     "output_type": "execute_result"
    }
   ],
   "source": [
    "model.trainable_weights"
   ]
  },
  {
   "cell_type": "code",
   "execution_count": null,
   "metadata": {
    "keep_output": true
   },
   "outputs": [
    {
     "data": {
      "text/html": [
       "<div>\n",
       "<style scoped>\n",
       "    .dataframe tbody tr th:only-of-type {\n",
       "        vertical-align: middle;\n",
       "    }\n",
       "\n",
       "    .dataframe tbody tr th {\n",
       "        vertical-align: top;\n",
       "    }\n",
       "\n",
       "    .dataframe thead th {\n",
       "        text-align: right;\n",
       "    }\n",
       "</style>\n",
       "<table border=\"1\" class=\"dataframe\">\n",
       "  <thead>\n",
       "    <tr style=\"text-align: right;\">\n",
       "      <th></th>\n",
       "      <th>Coefficient Name</th>\n",
       "      <th>Coefficient Estimation</th>\n",
       "      <th>Std. Err</th>\n",
       "      <th>z_value</th>\n",
       "      <th>P(.&gt;z)</th>\n",
       "    </tr>\n",
       "  </thead>\n",
       "  <tbody>\n",
       "    <tr>\n",
       "      <th>0</th>\n",
       "      <td>ich_w_0</td>\n",
       "      <td>-0.554690</td>\n",
       "      <td>0.174447</td>\n",
       "      <td>-3.179699</td>\n",
       "      <td>0.001474</td>\n",
       "    </tr>\n",
       "    <tr>\n",
       "      <th>1</th>\n",
       "      <td>och_w_1</td>\n",
       "      <td>-0.857596</td>\n",
       "      <td>0.300293</td>\n",
       "      <td>-2.855860</td>\n",
       "      <td>0.004292</td>\n",
       "    </tr>\n",
       "    <tr>\n",
       "      <th>2</th>\n",
       "      <td>occa_w_2</td>\n",
       "      <td>-1.087454</td>\n",
       "      <td>1.056027</td>\n",
       "      <td>-1.029760</td>\n",
       "      <td>0.303123</td>\n",
       "    </tr>\n",
       "    <tr>\n",
       "      <th>3</th>\n",
       "      <td>icca_w_3</td>\n",
       "      <td>-0.224867</td>\n",
       "      <td>0.112238</td>\n",
       "      <td>-2.003486</td>\n",
       "      <td>0.045125</td>\n",
       "    </tr>\n",
       "    <tr>\n",
       "      <th>4</th>\n",
       "      <td>int_cooling_w_4</td>\n",
       "      <td>-6.004972</td>\n",
       "      <td>4.986424</td>\n",
       "      <td>-1.204264</td>\n",
       "      <td>0.228487</td>\n",
       "    </tr>\n",
       "    <tr>\n",
       "      <th>5</th>\n",
       "      <td>inc_cooling_w_5</td>\n",
       "      <td>0.249463</td>\n",
       "      <td>0.053563</td>\n",
       "      <td>4.657358</td>\n",
       "      <td>0.000003</td>\n",
       "    </tr>\n",
       "    <tr>\n",
       "      <th>6</th>\n",
       "      <td>inc_room_w_6</td>\n",
       "      <td>-0.378836</td>\n",
       "      <td>0.116015</td>\n",
       "      <td>-3.265419</td>\n",
       "      <td>0.001093</td>\n",
       "    </tr>\n",
       "    <tr>\n",
       "      <th>7</th>\n",
       "      <td>gamma_nests</td>\n",
       "      <td>0.585758</td>\n",
       "      <td>0.242306</td>\n",
       "      <td>2.417429</td>\n",
       "      <td>0.015631</td>\n",
       "    </tr>\n",
       "  </tbody>\n",
       "</table>\n",
       "</div>"
      ],
      "text/plain": [
       "  Coefficient Name  Coefficient Estimation  Std. Err   z_value    P(.>z)\n",
       "0          ich_w_0               -0.554690  0.174447 -3.179699  0.001474\n",
       "1          och_w_1               -0.857596  0.300293 -2.855860  0.004292\n",
       "2         occa_w_2               -1.087454  1.056027 -1.029760  0.303123\n",
       "3         icca_w_3               -0.224867  0.112238 -2.003486  0.045125\n",
       "4  int_cooling_w_4               -6.004972  4.986424 -1.204264  0.228487\n",
       "5  inc_cooling_w_5                0.249463  0.053563  4.657358  0.000003\n",
       "6     inc_room_w_6               -0.378836  0.116015 -3.265419  0.001093\n",
       "7      gamma_nests                0.585758  0.242306  2.417429  0.015631"
      ]
     },
     "execution_count": null,
     "metadata": {},
     "output_type": "execute_result"
    }
   ],
   "source": [
    "model.report"
   ]
  },
  {
   "cell_type": "markdown",
   "metadata": {},
   "source": [
    "Another possibility is to keep the dataset as is and specify manually the model:"
   ]
  },
  {
   "cell_type": "code",
   "execution_count": null,
   "metadata": {},
   "outputs": [],
   "source": [
    "# Creating the dataset\n",
    "dataset = ChoiceDataset.from_single_wide_df(df=df,\n",
    "                                            shared_features_columns=[\"income\"],\n",
    "                                            items_features_prefixes=[\"ich\", \"och\", \"occa\", \"icca\"],\n",
    "                                            delimiter=\".\",\n",
    "                                            items_id=items_id,\n",
    "                                            choices_column=\"depvar\",\n",
    "                                            choice_format=\"items_id\")"
   ]
  },
  {
   "cell_type": "markdown",
   "metadata": {},
   "source": [
    "Using the manual specification we define each weight and the indexes of the concerned items."
   ]
  },
  {
   "cell_type": "code",
   "execution_count": null,
   "metadata": {
    "keep_output": true
   },
   "outputs": [
    {
     "name": "stdout",
     "output_type": "stream",
     "text": [
      "Using L-BFGS optimizer, setting up .fit() function\n",
      "Got nest 1 on 2 with 4 items.\n",
      "Got nest 2 on 2 with 3 items.\n"
     ]
    }
   ],
   "source": [
    "model = NestedLogit(items_nests=[[0, 1, 2, 3], [4, 5, 6]],\n",
    "                    optimizer=\"lbfgs\",\n",
    "                    shared_gammas_over_nests=True)\n",
    "# Coefficients that are for all the alternatives\n",
    "model.add_shared_coefficient(feature_name=\"ich\", items_indexes=[0, 1, 2, 3, 4, 5, 6])\n",
    "model.add_shared_coefficient(feature_name=\"och\", items_indexes=[0, 1, 2, 3, 4, 5, 6])\n",
    "model.add_shared_coefficient(feature_name=\"icca\", items_indexes=[0, 1, 2, 3, 4, 5, 6])\n",
    "model.add_shared_coefficient(feature_name=\"occa\", items_indexes=[0, 1, 2, 3, 4, 5, 6])\n",
    "\n",
    "# The coefficients concerning the income are split into two groups of alternatives:\n",
    "model.add_shared_coefficient(feature_name=\"income\", items_indexes=[0, 1, 2, 3], coefficient_name=\"income_cooling\")\n",
    "model.add_shared_coefficient(feature_name=\"income\", items_indexes=[2, 6], coefficient_name=\"income_room\")\n",
    "\n",
    "# Finally only one nest has an intercept\n",
    "model.add_shared_coefficient(feature_name=\"intercept\", items_indexes=[0, 1, 2, 3])"
   ]
  },
  {
   "cell_type": "code",
   "execution_count": null,
   "metadata": {
    "keep_output": true
   },
   "outputs": [
    {
     "name": "stderr",
     "output_type": "stream",
     "text": [
      "WARNING:root:L-BFGS Opimization finished:\n",
      "WARNING:root:---------------------------------------------------------------\n",
      "WARNING:root:Number of iterations: 44\n",
      "WARNING:root:Algorithm converged before reaching max iterations: True\n"
     ]
    },
    {
     "name": "stdout",
     "output_type": "stream",
     "text": [
      "Using L-BFGS optimizer, setting up .fit() function\n",
      "Got nest 1 on 2 with 4 items.\n",
      "Got nest 2 on 2 with 3 items.\n",
      "WARNING:tensorflow:5 out of the last 5 calls to <function pfor.<locals>.f at 0x7fe2c4463420> triggered tf.function retracing. Tracing is expensive and the excessive number of tracings could be due to (1) creating @tf.function repeatedly in a loop, (2) passing tensors with different shapes, (3) passing Python objects instead of tensors. For (1), please define your @tf.function outside of the loop. For (2), @tf.function has reduce_retracing=True option that can avoid unnecessary retracing. For (3), please refer to https://www.tensorflow.org/guide/function#controlling_retracing and https://www.tensorflow.org/api_docs/python/tf/function for  more details.\n"
     ]
    },
    {
     "name": "stderr",
     "output_type": "stream",
     "text": [
      "WARNING:tensorflow:5 out of the last 5 calls to <function pfor.<locals>.f at 0x7fe2c4463420> triggered tf.function retracing. Tracing is expensive and the excessive number of tracings could be due to (1) creating @tf.function repeatedly in a loop, (2) passing tensors with different shapes, (3) passing Python objects instead of tensors. For (1), please define your @tf.function outside of the loop. For (2), @tf.function has reduce_retracing=True option that can avoid unnecessary retracing. For (3), please refer to https://www.tensorflow.org/guide/function#controlling_retracing and https://www.tensorflow.org/api_docs/python/tf/function for  more details.\n"
     ]
    },
    {
     "name": "stdout",
     "output_type": "stream",
     "text": [
      "WARNING:tensorflow:6 out of the last 6 calls to <function pfor.<locals>.f at 0x7fe2a45cbd80> triggered tf.function retracing. Tracing is expensive and the excessive number of tracings could be due to (1) creating @tf.function repeatedly in a loop, (2) passing tensors with different shapes, (3) passing Python objects instead of tensors. For (1), please define your @tf.function outside of the loop. For (2), @tf.function has reduce_retracing=True option that can avoid unnecessary retracing. For (3), please refer to https://www.tensorflow.org/guide/function#controlling_retracing and https://www.tensorflow.org/api_docs/python/tf/function for  more details.\n"
     ]
    },
    {
     "name": "stderr",
     "output_type": "stream",
     "text": [
      "WARNING:tensorflow:6 out of the last 6 calls to <function pfor.<locals>.f at 0x7fe2a45cbd80> triggered tf.function retracing. Tracing is expensive and the excessive number of tracings could be due to (1) creating @tf.function repeatedly in a loop, (2) passing tensors with different shapes, (3) passing Python objects instead of tensors. For (1), please define your @tf.function outside of the loop. For (2), @tf.function has reduce_retracing=True option that can avoid unnecessary retracing. For (3), please refer to https://www.tensorflow.org/guide/function#controlling_retracing and https://www.tensorflow.org/api_docs/python/tf/function for  more details.\n"
     ]
    }
   ],
   "source": [
    "hist = model.fit(dataset, get_report=True, verbose=1)\n"
   ]
  },
  {
   "cell_type": "code",
   "execution_count": null,
   "metadata": {
    "keep_output": true
   },
   "outputs": [
    {
     "data": {
      "text/html": [
       "<div>\n",
       "<style scoped>\n",
       "    .dataframe tbody tr th:only-of-type {\n",
       "        vertical-align: middle;\n",
       "    }\n",
       "\n",
       "    .dataframe tbody tr th {\n",
       "        vertical-align: top;\n",
       "    }\n",
       "\n",
       "    .dataframe thead th {\n",
       "        text-align: right;\n",
       "    }\n",
       "</style>\n",
       "<table border=\"1\" class=\"dataframe\">\n",
       "  <thead>\n",
       "    <tr style=\"text-align: right;\">\n",
       "      <th></th>\n",
       "      <th>Coefficient Name</th>\n",
       "      <th>Coefficient Estimation</th>\n",
       "      <th>Std. Err</th>\n",
       "      <th>z_value</th>\n",
       "      <th>P(.&gt;z)</th>\n",
       "    </tr>\n",
       "  </thead>\n",
       "  <tbody>\n",
       "    <tr>\n",
       "      <th>0</th>\n",
       "      <td>beta_ich</td>\n",
       "      <td>-0.554688</td>\n",
       "      <td>0.174451</td>\n",
       "      <td>-3.179613</td>\n",
       "      <td>0.001475</td>\n",
       "    </tr>\n",
       "    <tr>\n",
       "      <th>1</th>\n",
       "      <td>beta_och</td>\n",
       "      <td>-0.857592</td>\n",
       "      <td>0.300300</td>\n",
       "      <td>-2.855788</td>\n",
       "      <td>0.004293</td>\n",
       "    </tr>\n",
       "    <tr>\n",
       "      <th>2</th>\n",
       "      <td>beta_icca</td>\n",
       "      <td>-0.224866</td>\n",
       "      <td>0.112240</td>\n",
       "      <td>-2.003443</td>\n",
       "      <td>0.045130</td>\n",
       "    </tr>\n",
       "    <tr>\n",
       "      <th>3</th>\n",
       "      <td>beta_occa</td>\n",
       "      <td>-1.087460</td>\n",
       "      <td>1.056047</td>\n",
       "      <td>-1.029746</td>\n",
       "      <td>0.303129</td>\n",
       "    </tr>\n",
       "    <tr>\n",
       "      <th>4</th>\n",
       "      <td>income_cooling</td>\n",
       "      <td>0.249462</td>\n",
       "      <td>0.053563</td>\n",
       "      <td>4.657318</td>\n",
       "      <td>0.000003</td>\n",
       "    </tr>\n",
       "    <tr>\n",
       "      <th>5</th>\n",
       "      <td>income_room</td>\n",
       "      <td>-0.378834</td>\n",
       "      <td>0.116017</td>\n",
       "      <td>-3.265331</td>\n",
       "      <td>0.001093</td>\n",
       "    </tr>\n",
       "    <tr>\n",
       "      <th>6</th>\n",
       "      <td>beta_intercept</td>\n",
       "      <td>-6.004900</td>\n",
       "      <td>4.986637</td>\n",
       "      <td>-1.204198</td>\n",
       "      <td>0.228513</td>\n",
       "    </tr>\n",
       "    <tr>\n",
       "      <th>7</th>\n",
       "      <td>gamma_nests</td>\n",
       "      <td>0.585755</td>\n",
       "      <td>0.242311</td>\n",
       "      <td>2.417369</td>\n",
       "      <td>0.015633</td>\n",
       "    </tr>\n",
       "  </tbody>\n",
       "</table>\n",
       "</div>"
      ],
      "text/plain": [
       "  Coefficient Name  Coefficient Estimation  Std. Err   z_value    P(.>z)\n",
       "0         beta_ich               -0.554688  0.174451 -3.179613  0.001475\n",
       "1         beta_och               -0.857592  0.300300 -2.855788  0.004293\n",
       "2        beta_icca               -0.224866  0.112240 -2.003443  0.045130\n",
       "3        beta_occa               -1.087460  1.056047 -1.029746  0.303129\n",
       "4   income_cooling                0.249462  0.053563  4.657318  0.000003\n",
       "5      income_room               -0.378834  0.116017 -3.265331  0.001093\n",
       "6   beta_intercept               -6.004900  4.986637 -1.204198  0.228513\n",
       "7      gamma_nests                0.585755  0.242311  2.417369  0.015633"
      ]
     },
     "execution_count": null,
     "metadata": {},
     "output_type": "execute_result"
    }
   ],
   "source": [
    "model.report"
   ]
  },
  {
   "cell_type": "code",
   "execution_count": null,
   "metadata": {},
   "outputs": [],
   "source": []
  }
 ],
 "metadata": {
  "kernelspec": {
   "display_name": "tf_env",
   "language": "python",
   "name": "python3"
  },
  "language_info": {
   "codemirror_mode": {
    "name": "ipython",
    "version": 3
   },
   "file_extension": ".py",
   "mimetype": "text/x-python",
   "name": "python",
   "nbconvert_exporter": "python",
   "pygments_lexer": "ipython3",
   "version": "3.11.4"
  }
 },
 "nbformat": 4,
 "nbformat_minor": 2
}
