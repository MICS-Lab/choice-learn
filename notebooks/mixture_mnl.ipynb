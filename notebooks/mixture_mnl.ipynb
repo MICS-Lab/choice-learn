{
 "cells": [
  {
   "cell_type": "code",
   "execution_count": null,
   "metadata": {},
   "outputs": [],
   "source": [
    "import os\n",
    "\n",
    "os.environ[\"CUDA_VISIBLE_DEVICES\"] = \"\"\n",
    "\n",
    "import sys\n",
    "from pathlib import Path\n",
    "\n",
    "sys.path.append(\"../\")\n",
    "\n",
    "import matplotlib.pyplot as plt\n",
    "import numpy as np\n",
    "import pandas as pd\n",
    "\n",
    "import tensorflow as tf"
   ]
  },
  {
   "cell_type": "code",
   "execution_count": null,
   "metadata": {},
   "outputs": [],
   "source": [
    "from choice_learn.datasets import load_electricity\n",
    "elec_dataset = load_electricity(as_frame=False)"
   ]
  },
  {
   "cell_type": "code",
   "execution_count": null,
   "metadata": {},
   "outputs": [],
   "source": [
    "from choice_learn.models.simple_mnl import SimpleMNL\n",
    "from choice_learn.models.base_model import BaseLatentClassModel\n",
    "from choice_learn.models.latent_class_mnl import LatentClassSimpleMNL"
   ]
  },
  {
   "cell_type": "code",
   "execution_count": null,
   "metadata": {},
   "outputs": [],
   "source": [
    "lc_model = LatentClassSimpleMNL(n_latent_classes=3, fit_method=\"mle\", optimizer=\"lbfgs\", epochs=100, tolerance=1e-8)"
   ]
  },
  {
   "cell_type": "code",
   "execution_count": null,
   "metadata": {},
   "outputs": [],
   "source": [
    "lc_model.fit(elec_dataset)"
   ]
  },
  {
   "cell_type": "code",
   "execution_count": null,
   "metadata": {},
   "outputs": [],
   "source": [
    "lc_model.latent_logits, lc_model.models[0].weights, lc_model.models[1].weights, lc_model.models[2].weights"
   ]
  },
  {
   "cell_type": "code",
   "execution_count": null,
   "metadata": {},
   "outputs": [],
   "source": [
    "plt.plot(hist)"
   ]
  },
  {
   "cell_type": "code",
   "execution_count": null,
   "metadata": {},
   "outputs": [],
   "source": [
    "lc_model.evaluate(elec_dataset) * len(elec_dataset)"
   ]
  },
  {
   "cell_type": "code",
   "execution_count": null,
   "metadata": {},
   "outputs": [],
   "source": [
    "mm = BaseMixtureModel(model_class=SimpleMNL, model_parameters={\"add_exit_choice\": False}, n_latent_classes=2, fit_method=\"em\", epochs=2)"
   ]
  },
  {
   "cell_type": "code",
   "execution_count": null,
   "metadata": {},
   "outputs": [],
   "source": [
    "mm = BaseMixtureModel(model_class=SimpleMNL, model_parameters={\"add_exit_choice\": False}, n_latent_classes=2, fit_method=\"em\", epochs=2)\n",
    "mm.instantiate()\n",
    "print(mm.latent_logits)\n",
    "mm.models[0].fit(dataset, epochs=1)\n",
    "mm.models[1].fit(dataset, epochs=1)"
   ]
  },
  {
   "cell_type": "code",
   "execution_count": null,
   "metadata": {},
   "outputs": [],
   "source": [
    "mm.tolerance = 1e-2\n",
    "h = mm._fit_with_lbfgs(dataset[:25], epochs=100, verbose=1)"
   ]
  },
  {
   "cell_type": "code",
   "execution_count": null,
   "metadata": {},
   "outputs": [],
   "source": [
    "mm.evaluate(dataset[:25]) * 25 "
   ]
  },
  {
   "cell_type": "code",
   "execution_count": null,
   "metadata": {},
   "outputs": [],
   "source": [
    "mm.models[1].weights"
   ]
  },
  {
   "cell_type": "code",
   "execution_count": null,
   "metadata": {},
   "outputs": [],
   "source": [
    "mm.models[0].weights"
   ]
  },
  {
   "cell_type": "code",
   "execution_count": null,
   "metadata": {},
   "outputs": [],
   "source": [
    "mm.latent_logits"
   ]
  },
  {
   "cell_type": "code",
   "execution_count": null,
   "metadata": {},
   "outputs": [],
   "source": []
  },
  {
   "cell_type": "code",
   "execution_count": null,
   "metadata": {},
   "outputs": [],
   "source": [
    "mm2 = BaseMixtureModel(model_class=SimpleMNL, model_parameters={\"add_exit_choice\": False}, n_latent_classes=2, fit_method=\"em\", epochs=2)\n",
    "mm2.instantiate()\n",
    "print(mm2.latent_logits)\n",
    "mm2.models[0].fit(dataset, epochs=1)\n",
    "mm2.models[1].fit(dataset, epochs=1)"
   ]
  },
  {
   "cell_type": "code",
   "execution_count": null,
   "metadata": {},
   "outputs": [],
   "source": [
    "mm2.models[0].weights\n",
    "w1 = [-1.97818, 1.25229, 18.59170, 17.22774, -9.46991, -6.34042]\n",
    "w2 = [-1.47861, -0.56208, 2.48494, 2.18748, -14.88065, -20.46972 ]"
   ]
  },
  {
   "cell_type": "code",
   "execution_count": null,
   "metadata": {},
   "outputs": [],
   "source": [
    "mm2.latent_logits = tf.constant([0.08077])\n",
    "mm2.models[0].weights = [tf.constant([-1.97818, 1.25229, 18.59170, 17.22774, -9.46991, -6.34042])]\n",
    "mm2.models[1].weights = [tf.constant([-1.47861, -0.56208, 2.48494, 2.18748, -14.88065, -20.46972 ])]"
   ]
  },
  {
   "cell_type": "code",
   "execution_count": null,
   "metadata": {},
   "outputs": [],
   "source": [
    "mm2.evaluate(dataset[:25]) * 25"
   ]
  },
  {
   "cell_type": "code",
   "execution_count": null,
   "metadata": {},
   "outputs": [],
   "source": [
    "for batch in dataset[:25].iter_batch(batch_size=-1):\n",
    "    c, d = mm2.batch_predict(*batch)\n",
    "    e, f = mm.batch_predict(*batch)"
   ]
  },
  {
   "cell_type": "code",
   "execution_count": null,
   "metadata": {},
   "outputs": [],
   "source": [
    "d = [d[i][dataset.choices[i]] for i in range(25)]\n",
    "f = [f[i][dataset.choices[i]] for i in range(25)]"
   ]
  },
  {
   "cell_type": "code",
   "execution_count": null,
   "metadata": {},
   "outputs": [],
   "source": [
    "np.sum(d), np.sum(f)"
   ]
  },
  {
   "cell_type": "code",
   "execution_count": null,
   "metadata": {},
   "outputs": [],
   "source": [
    "plt.plot(d, label=\"gmnl\")\n",
    "plt.plot(f, label=\"mine\")\n",
    "plt.legend()"
   ]
  },
  {
   "cell_type": "code",
   "execution_count": null,
   "metadata": {},
   "outputs": [],
   "source": [
    "PPP1 = []\n",
    "PPP2 = []\n",
    "for i in range(25):\n",
    "    print(dataset.choices[i], d[i], d[i][dataset.choices[i]])\n",
    "    PPP1.append(d[i][dataset.choices[i]])\n",
    "    PPP2.append(d[i][dataset.choices[i]])"
   ]
  },
  {
   "cell_type": "code",
   "execution_count": null,
   "metadata": {},
   "outputs": [],
   "source": [
    "np.sum(np.log(PPP1)), np.sum(np.log(PPP))"
   ]
  },
  {
   "cell_type": "code",
   "execution_count": null,
   "metadata": {},
   "outputs": [],
   "source": [
    "mm.weights = tf.concat([mm.models[0].weights, mm.models[1].weights, mm.latent_logits], axis=0)"
   ]
  },
  {
   "cell_type": "code",
   "execution_count": null,
   "metadata": {},
   "outputs": [],
   "source": [
    "mm.tolerance = 1e-2"
   ]
  },
  {
   "cell_type": "code",
   "execution_count": null,
   "metadata": {},
   "outputs": [],
   "source": [
    "mm.tolerance = 1e-2\n",
    "mm._fit_with_lbfgs(dataset)"
   ]
  },
  {
   "cell_type": "code",
   "execution_count": null,
   "metadata": {},
   "outputs": [],
   "source": [
    "mm.evaluate(dataset)"
   ]
  },
  {
   "cell_type": "code",
   "execution_count": null,
   "metadata": {},
   "outputs": [],
   "source": [
    "_f"
   ]
  },
  {
   "cell_type": "code",
   "execution_count": null,
   "metadata": {},
   "outputs": [],
   "source": [
    "_"
   ]
  },
  {
   "cell_type": "code",
   "execution_count": null,
   "metadata": {},
   "outputs": [],
   "source": [
    "_2"
   ]
  },
  {
   "cell_type": "code",
   "execution_count": null,
   "metadata": {},
   "outputs": [],
   "source": [
    "_f = [p[0]*_[i] + p[1]*_2[i] for i in range(4)]"
   ]
  },
  {
   "cell_type": "code",
   "execution_count": null,
   "metadata": {},
   "outputs": [],
   "source": [
    "model = SimpleMNL(optimizer=\"lbfgs\", epochs=100, tolerance=1e-4)\n",
    "h = model.fit(dataset, sample_weight=www)\n",
    "h[-1]"
   ]
  },
  {
   "cell_type": "code",
   "execution_count": null,
   "metadata": {},
   "outputs": [],
   "source": [
    "import tensorflow as tf\n",
    "model.weights = tf.constant([[-0.622498214, -0.108463198, 1.46465945, 1.02686298, -5.48458862, -5.86176395]])"
   ]
  },
  {
   "cell_type": "code",
   "execution_count": null,
   "metadata": {},
   "outputs": [],
   "source": [
    "bigP = model.predict_probas(dataset).numpy()\n",
    "p = [(bigP[i][dataset.choices[i]]) for i in range(len(dataset))]"
   ]
  },
  {
   "cell_type": "code",
   "execution_count": null,
   "metadata": {},
   "outputs": [],
   "source": [
    "np.min(p)"
   ]
  },
  {
   "cell_type": "code",
   "execution_count": null,
   "metadata": {},
   "outputs": [],
   "source": [
    "from choice_learn.models import ConditionalMNL\n",
    "from choice_learn.models.base_model import BaseMixtureModel"
   ]
  },
  {
   "cell_type": "code",
   "execution_count": null,
   "metadata": {},
   "outputs": [],
   "source": [
    "mix = BaseMixtureModel(model_class=SimpleMNL,\n",
    "                          model_parameters={\"optimizer\": \"lbfgs\", \"epochs\": 100, \"tolerance\": 1e-2},\n",
    "                          n_latent_classes=2, epochs=20, fit_method=\"em\")"
   ]
  },
  {
   "cell_type": "code",
   "execution_count": null,
   "metadata": {},
   "outputs": [],
   "source": [
    "mix.instantiate()\n",
    "h1, h2 = mix._em_fit(dataset[:750])"
   ]
  },
  {
   "cell_type": "code",
   "execution_count": null,
   "metadata": {},
   "outputs": [],
   "source": [
    "plt.plot(h2)"
   ]
  },
  {
   "cell_type": "code",
   "execution_count": null,
   "metadata": {},
   "outputs": [],
   "source": [
    "(mix.models[0].weights,\n",
    "mix.models[1].weights)"
   ]
  },
  {
   "cell_type": "code",
   "execution_count": null,
   "metadata": {},
   "outputs": [],
   "source": [
    "xxx.shape"
   ]
  },
  {
   "cell_type": "code",
   "execution_count": null,
   "metadata": {},
   "outputs": [],
   "source": [
    "w1 = [-0.4458, -0.1847, 1.2144, 0.9641, -3.2184, -3.4865]\n",
    "w2 = [-0.8431, -0.1242, 1.6445, 1.4139, 1.4139, -9.2647]\n",
    "p = [np.exp(0), np.exp(-0.2200)]\n",
    "p = [p[i] / np.sum(p) for i in range(2)]\n",
    "xxx = dataset.contexts_items_features[0][:750]"
   ]
  },
  {
   "cell_type": "code",
   "execution_count": null,
   "metadata": {},
   "outputs": [],
   "source": [
    "p3 = []\n",
    "for i in range(len(xxx)):\n",
    "    c = []\n",
    "    for j in range(4):\n",
    "        c.append(np.sum(xxx[i][j] * w1))\n",
    "    p3.append(np.array(c) / np.sum(c))\n",
    "p4 = []\n",
    "for i in range(len(xxx)):\n",
    "    c = []\n",
    "    for j in range(4):\n",
    "        c.append(np.sum(xxx[i][j] * w2))\n",
    "    p4.append(np.array(c) / np.sum(c))\n",
    "\n",
    "ppp = p[0] * np.stack(p3) + p[1] * np.stack(p4)\n",
    "ppp = [ppp[i][dataset.choices[i]] for i in range(750)]"
   ]
  },
  {
   "cell_type": "code",
   "execution_count": null,
   "metadata": {},
   "outputs": [],
   "source": [
    "ppp = p[0] * np.stack(p3) + p[1] * np.stack(p4)\n",
    "ppp = [ppp[i][dataset.choices[i]] for i in range(750)]"
   ]
  },
  {
   "cell_type": "code",
   "execution_count": null,
   "metadata": {},
   "outputs": [],
   "source": [
    "np.sum(np.log(ppp))"
   ]
  },
  {
   "cell_type": "code",
   "execution_count": null,
   "metadata": {},
   "outputs": [],
   "source": [
    "p3[0], p1[0]"
   ]
  },
  {
   "cell_type": "code",
   "execution_count": null,
   "metadata": {},
   "outputs": [],
   "source": [
    "p1 = np.exp(np.dot(xxx, w1)) / np.sum(np.exp(np.dot(xxx, w1)), axis=1, keepdims=True)\n",
    "p2 = np.exp(np.dot(xxx, w2)) / np.sum(np.exp(np.dot(xxx, w2)), axis=1, keepdims=True)\n",
    "\n",
    "ppp = p[0] * p1 + p[1] * p2\n",
    "ppp = [ppp[i][dataset.choices[i]] for i in range(750)]"
   ]
  },
  {
   "cell_type": "code",
   "execution_count": null,
   "metadata": {},
   "outputs": [],
   "source": [
    "np.sum(np.log(ppp))"
   ]
  },
  {
   "cell_type": "code",
   "execution_count": null,
   "metadata": {},
   "outputs": [],
   "source": [
    "np.log(np.e)"
   ]
  },
  {
   "cell_type": "code",
   "execution_count": null,
   "metadata": {},
   "outputs": [],
   "source": [
    "(mix.models[0].weights,\n",
    "mix.models[1].weights,\n",
    "mix.models[2].weights)"
   ]
  },
  {
   "cell_type": "code",
   "execution_count": null,
   "metadata": {},
   "outputs": [],
   "source": [
    "mix.weights"
   ]
  },
  {
   "cell_type": "code",
   "execution_count": null,
   "metadata": {},
   "outputs": [],
   "source": [
    "mix.latent_logits"
   ]
  },
  {
   "cell_type": "code",
   "execution_count": null,
   "metadata": {},
   "outputs": [],
   "source": [
    "h2"
   ]
  },
  {
   "cell_type": "code",
   "execution_count": null,
   "metadata": {},
   "outputs": [],
   "source": [
    "plt.plot(h2)"
   ]
  },
  {
   "cell_type": "code",
   "execution_count": null,
   "metadata": {},
   "outputs": [],
   "source": [
    "len(dataset)"
   ]
  },
  {
   "cell_type": "code",
   "execution_count": null,
   "metadata": {},
   "outputs": [],
   "source": [
    "w1 = [-0.436786, -0.024613, 2.510545, 1.649299, -2.726110, -3.720022]\n",
    "w2 = [-0.711346, -0.534724, 0.632174, 0.558454, -5.994899, -5.855283]\n",
    "w3 = [-0.785066, -0.055608, 1.559850, 1.219109, -8.866931, -8.332032]\n",
    "\n",
    "lp = [np.exp(0), np.exp(-0.515807), np.exp(0.152700)]\n",
    "lp = np.array(lp) / np.sum(lp)"
   ]
  },
  {
   "cell_type": "code",
   "execution_count": null,
   "metadata": {},
   "outputs": [],
   "source": [
    "mmm = [SimpleMNL(optimizer=\"lbfgs\", epochs=100, tolerance=1e-4) for _ in range(3)]\n",
    "for _ in mmm:\n",
    "    _.fit(dataset)"
   ]
  },
  {
   "cell_type": "code",
   "execution_count": null,
   "metadata": {},
   "outputs": [],
   "source": [
    "mmm[0].weights = tf.constant(w1)\n",
    "mmm[1].weights = tf.constant(w2)\n",
    "mmm[2].weights = tf.constant(w3)"
   ]
  },
  {
   "cell_type": "code",
   "execution_count": null,
   "metadata": {},
   "outputs": [],
   "source": [
    "probas = [_.predict_probas(dataset).numpy() for _ in mmm]\n",
    "c_probas = []\n",
    "for prob in probas:\n",
    "    prob = [prob[i][dataset.choices[i]] for i in range(len(dataset))]\n",
    "    c_probas.append(prob)\n",
    "\n",
    "class_logits = [0, -0.515807, 0.152700]\n",
    "class_p = [np.exp(l) for l in class_logits]\n",
    "class_p = np.array(class_p) / np.sum(class_p)\n",
    "c_probas = np.sum([np.array(c_probas[i]) * class_p[i] for i in range(3)], axis=0)"
   ]
  },
  {
   "cell_type": "code",
   "execution_count": null,
   "metadata": {},
   "outputs": [],
   "source": [
    "np.sum(np.log(c_probas))"
   ]
  },
  {
   "cell_type": "code",
   "execution_count": null,
   "metadata": {},
   "outputs": [],
   "source": [
    "class_p"
   ]
  },
  {
   "cell_type": "code",
   "execution_count": null,
   "metadata": {},
   "outputs": [],
   "source": [
    "np.exp(0), np.exp(-0.515807), np.exp(0.152700)"
   ]
  },
  {
   "cell_type": "code",
   "execution_count": null,
   "metadata": {},
   "outputs": [],
   "source": [
    "probas"
   ]
  },
  {
   "cell_type": "code",
   "execution_count": null,
   "metadata": {},
   "outputs": [],
   "source": [
    "xxx = dataset.contexts_items_features[0]"
   ]
  },
  {
   "cell_type": "code",
   "execution_count": null,
   "metadata": {},
   "outputs": [],
   "source": [
    "p1 = np.exp(np.dot(xxx, w1)) / np.sum(np.exp(np.dot(xxx, w1)), axis=1, keepdims=True)\n",
    "p2 = np.exp(np.dot(xxx, w2)) / np.sum(np.exp(np.dot(xxx, w2)), axis=1, keepdims=True)\n",
    "p3 = np.exp(np.dot(xxx, w3)) / np.sum(np.exp(np.dot(xxx, w3)), axis=1, keepdims=True)"
   ]
  },
  {
   "cell_type": "code",
   "execution_count": null,
   "metadata": {},
   "outputs": [],
   "source": [
    "p = np.sum([lp[0] * p1, lp[1] * p2, lp[2] * p3], axis=0)"
   ]
  },
  {
   "cell_type": "code",
   "execution_count": null,
   "metadata": {},
   "outputs": [],
   "source": [
    "nll = [np.log(p[i][z]) for i, z in zip(range(len(p)), dataset.choices)]"
   ]
  },
  {
   "cell_type": "code",
   "execution_count": null,
   "metadata": {},
   "outputs": [],
   "source": [
    "np.sum(nll)"
   ]
  },
  {
   "cell_type": "code",
   "execution_count": null,
   "metadata": {},
   "outputs": [],
   "source": [
    "import tensorflow as tf\n",
    "\n",
    "tf.keras.metrics.categorical_crossentropy(tf.one_hot(dataset.choices, 4), p)"
   ]
  },
  {
   "cell_type": "code",
   "execution_count": null,
   "metadata": {},
   "outputs": [],
   "source": [
    "tf.reduce_sum(tf.keras.metrics.categorical_crossentropy(tf.one_hot(dataset.choices, 4), p))"
   ]
  },
  {
   "cell_type": "code",
   "execution_count": null,
   "metadata": {},
   "outputs": [],
   "source": [
    "nll[:4]"
   ]
  },
  {
   "cell_type": "code",
   "execution_count": null,
   "metadata": {},
   "outputs": [],
   "source": [
    "np.log(.1), p[0], np.log(p[0][3])"
   ]
  },
  {
   "cell_type": "code",
   "execution_count": null,
   "metadata": {},
   "outputs": [],
   "source": [
    "df.head()"
   ]
  },
  {
   "cell_type": "code",
   "execution_count": null,
   "metadata": {},
   "outputs": [],
   "source": []
  },
  {
   "cell_type": "code",
   "execution_count": null,
   "metadata": {},
   "outputs": [],
   "source": []
  }
 ],
 "metadata": {
  "kernelspec": {
   "display_name": "Python 3 (ipykernel)",
   "language": "python",
   "name": "python3"
  },
  "language_info": {
   "codemirror_mode": {
    "name": "ipython",
    "version": 3
   },
   "file_extension": ".py",
   "mimetype": "text/x-python",
   "name": "python",
   "nbconvert_exporter": "python",
   "pygments_lexer": "ipython3",
   "version": "3.11.4"
  }
 },
 "nbformat": 4,
 "nbformat_minor": 2
}
