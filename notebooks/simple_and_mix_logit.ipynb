{
 "cells": [
  {
   "cell_type": "code",
   "execution_count": null,
   "metadata": {},
   "outputs": [],
   "source": [
    "import os\n",
    "\n",
    "# Remove GPU use\n",
    "os.environ[\"CUDA_VISIBLE_DEVICES\"] = \"\"\n",
    "\n",
    "import sys\n",
    "\n",
    "sys.path.append(\"../\")\n",
    "\n",
    "import matplotlib.pyplot as plt\n",
    "import numpy as np\n",
    "\n",
    "from choice_learn.models.simple_mnl import SimpleMNL\n",
    "from choice_learn.data import ChoiceDataset\n",
    "from choice_learn.datasets.base import load_heating"
   ]
  },
  {
   "cell_type": "markdown",
   "metadata": {},
   "source": [
    "Let's recreate this [tutorial](https://cran.r-project.org/web/packages/mlogit/vignettes/e1mlogit.html) by Yves Croissant for the mlogit R package.\n",
    "\n",
    "It uses the Heating dataset, where we try to predict which heating harware a houseold will chose. The dataset is integrated in the package, you can find information [here]."
   ]
  },
  {
   "cell_type": "code",
   "execution_count": null,
   "metadata": {},
   "outputs": [],
   "source": [
    "heating_df = load_heating(as_frame=True)\n",
    "\n",
    "contexts_features = [\"income\", \"agehed\", \"rooms\"]\n",
    "choice = [\"depvar\"]\n",
    "contexts_items_features = [\"ic.\", \"oc.\"]\n",
    "items = [\"hp\", \"gc\", \"gr\", \"ec\", \"er\"]\n",
    "\n",
    "choices = np.array([items.index(val) for val in heating_df[choice].to_numpy().ravel()])\n",
    "contexts = heating_df[contexts_features].to_numpy()\n",
    "contexts_items = np.stack([heating_df[[feat + item for feat in contexts_items_features]].to_numpy() for item in items], axis=1)"
   ]
  },
  {
   "cell_type": "markdown",
   "metadata": {},
   "source": [
    "First part estimates a simple MNL without intercept from the 'ic' and 'oc' features. By default, SimpleMNL does not integrate any intercept, but you can precise 'None'."
   ]
  },
  {
   "cell_type": "code",
   "execution_count": null,
   "metadata": {},
   "outputs": [],
   "source": [
    "dataset = ChoiceDataset(contexts_items_features=contexts_items, choices=choices)\n",
    "model = SimpleMNL(optimizer=\"lbfgs\", intercept=None)\n",
    "history = model.fit(dataset, epochs=100, get_report=True)"
   ]
  },
  {
   "cell_type": "code",
   "execution_count": null,
   "metadata": {},
   "outputs": [],
   "source": [
    "print(\"Estimation Negative LogLikelihood:\",\n",
    "      model.evaluate(dataset) * len(dataset))"
   ]
  },
  {
   "cell_type": "code",
   "execution_count": null,
   "metadata": {},
   "outputs": [],
   "source": [
    "model.report"
   ]
  },
  {
   "cell_type": "markdown",
   "metadata": {},
   "source": [
    "We reach very similar results. The second part is about modelling useing the ic + oc/0.12 ratio. Here is how it can be done:"
   ]
  },
  {
   "cell_type": "code",
   "execution_count": null,
   "metadata": {},
   "outputs": [],
   "source": [
    "ratio_contexts_items = []\n",
    "for case in range(contexts_items.shape[0]):\n",
    "    feat = []\n",
    "    for item in range(contexts_items.shape[1]):\n",
    "        feat.append([contexts_items[case, item, 0] + contexts_items[case, item, 1] / 0.12])\n",
    "    ratio_contexts_items.append(feat)\n",
    "ratio_contexts_items = np.array(ratio_contexts_items)\n",
    "ratio_contexts_items.shape"
   ]
  },
  {
   "cell_type": "code",
   "execution_count": null,
   "metadata": {},
   "outputs": [],
   "source": [
    "ratio_dataset = ChoiceDataset(contexts_items_features=ratio_contexts_items, choices=choices)\n",
    "model = SimpleMNL(optimizer=\"lbfgs\")\n",
    "history = model.fit(ratio_dataset, epochs=100, get_report=False)"
   ]
  },
  {
   "cell_type": "code",
   "execution_count": null,
   "metadata": {},
   "outputs": [],
   "source": [
    "print(\"Weights:\", model.weights)\n",
    "print(\"Estimation Negative LogLikelihood:\", model.evaluate(ratio_dataset) * len(ratio_dataset))"
   ]
  },
  {
   "cell_type": "markdown",
   "metadata": {},
   "source": [
    "Finally, to add itemwise intercept for the last part, here is how it can be done:"
   ]
  },
  {
   "cell_type": "code",
   "execution_count": null,
   "metadata": {},
   "outputs": [],
   "source": [
    "model = SimpleMNL(optimizer=\"lbfgs\", intercept=\"item\")\n",
    "history = model.fit(dataset, epochs=100, get_report=True)"
   ]
  },
  {
   "cell_type": "code",
   "execution_count": null,
   "metadata": {},
   "outputs": [],
   "source": [
    "model.report"
   ]
  },
  {
   "cell_type": "code",
   "execution_count": null,
   "metadata": {},
   "outputs": [],
   "source": [
    "from choice_learn.datasets import load_swissmetro\n",
    "from choice_learn.models.base_model import BaseMixtureModel"
   ]
  },
  {
   "cell_type": "code",
   "execution_count": null,
   "metadata": {},
   "outputs": [],
   "source": [
    "sm_df = load_swissmetro(as_frame=True)\n",
    "sm_df = sm_df.loc[sm_df.CHOICE != 0]\n",
    "sm_df.head()"
   ]
  },
  {
   "cell_type": "code",
   "execution_count": null,
   "metadata": {},
   "outputs": [],
   "source": [
    "contexts_items = np.stack([sm_df[[f\"{item}_{feature}\" for feature in [\"CO\", \"TT\"]]].to_numpy() for item in [\"CAR\", \"TRAIN\", \"SM\"]],\n",
    "axis=1)\n",
    "contexts_items[:, :, 0] = contexts_items[:, :, 0] / 100\n",
    "contexts_items[:, :, 1] = contexts_items[:, :, 1] / 100\n",
    "dataset = ChoiceDataset(\n",
    "    contexts_items_features=(contexts_items, ),\n",
    "    choices=sm_df.CHOICE.to_numpy()-1,\n",
    "    contexts_items_features_names=([\"CO\", \"TT\"], ),\n",
    ")"
   ]
  },
  {
   "cell_type": "code",
   "execution_count": null,
   "metadata": {},
   "outputs": [],
   "source": [
    "np.unique(dataset.choices), len(dataset)"
   ]
  },
  {
   "cell_type": "code",
   "execution_count": null,
   "metadata": {},
   "outputs": [],
   "source": [
    "import tensorflow as tf\n",
    "import importlib\n",
    "import choice_learn.models.base_model\n",
    "importlib.reload(choice_learn.models.base_model)\n",
    "\n",
    "from choice_learn.models.base_model import BaseMixtureModel\n",
    "from choice_learn.models.conditional_mnl import ConditionalMNL"
   ]
  },
  {
   "cell_type": "code",
   "execution_count": null,
   "metadata": {},
   "outputs": [],
   "source": [
    "spec = {\"CO\": \"constant\", \"TT\": \"item\", \"intercept\": \"item-full\"}\n",
    "spec2 = {\"CO\": \"constant\", \"intercept\": \"item-full\"}"
   ]
  },
  {
   "cell_type": "code",
   "execution_count": null,
   "metadata": {},
   "outputs": [],
   "source": [
    "model = BaseMixtureModel(\n",
    "    n_latent_classes=4,\n",
    "    model_class=ConditionalMNL,\n",
    "    model_parameters={\"optimizer\": \"lbfgs\", \"epochs\": 100,\"parameters\": spec},\n",
    "    fit_method=\"EM\",\n",
    "    epochs=10,\n",
    ")\n",
    "model.instantiate()"
   ]
  },
  {
   "cell_type": "code",
   "execution_count": null,
   "metadata": {},
   "outputs": [],
   "source": [
    "type(dataset.contexts_items_features)"
   ]
  },
  {
   "cell_type": "code",
   "execution_count": null,
   "metadata": {},
   "outputs": [],
   "source": [
    "model._em_fit(dataset)"
   ]
  },
  {
   "cell_type": "code",
   "execution_count": null,
   "metadata": {},
   "outputs": [],
   "source": [
    "tf.multiply(dataset.contexts_items_features[0][:, :, 0], model.models[0].weights[0])"
   ]
  },
  {
   "cell_type": "code",
   "execution_count": null,
   "metadata": {},
   "outputs": [],
   "source": [
    "model.models[1].fit(dataset)"
   ]
  },
  {
   "cell_type": "code",
   "execution_count": null,
   "metadata": {},
   "outputs": [],
   "source": [
    "dataset.contexts_items_features[0].shape"
   ]
  },
  {
   "cell_type": "code",
   "execution_count": null,
   "metadata": {},
   "outputs": [],
   "source": [
    "model.models[0].weights"
   ]
  },
  {
   "cell_type": "code",
   "execution_count": null,
   "metadata": {},
   "outputs": [],
   "source": [
    "model.latent_logits"
   ]
  },
  {
   "cell_type": "code",
   "execution_count": null,
   "metadata": {},
   "outputs": [],
   "source": [
    "model.models[1].weights"
   ]
  },
  {
   "cell_type": "code",
   "execution_count": null,
   "metadata": {},
   "outputs": [],
   "source": [
    "model.models[0].weights"
   ]
  },
  {
   "cell_type": "code",
   "execution_count": null,
   "metadata": {},
   "outputs": [],
   "source": [
    "model.models[0].predict_probas(dataset)"
   ]
  },
  {
   "cell_type": "code",
   "execution_count": null,
   "metadata": {},
   "outputs": [],
   "source": [
    "model.models[1].predict_probas(dataset)"
   ]
  },
  {
   "cell_type": "code",
   "execution_count": null,
   "metadata": {},
   "outputs": [],
   "source": [
    "w = model._expectation(dataset)"
   ]
  },
  {
   "cell_type": "code",
   "execution_count": null,
   "metadata": {},
   "outputs": [],
   "source": [
    "np.sum(w, axis=0)"
   ]
  },
  {
   "cell_type": "code",
   "execution_count": null,
   "metadata": {},
   "outputs": [],
   "source": [
    "model.weights[:10]"
   ]
  },
  {
   "cell_type": "code",
   "execution_count": null,
   "metadata": {},
   "outputs": [],
   "source": []
  },
  {
   "cell_type": "code",
   "execution_count": null,
   "metadata": {},
   "outputs": [],
   "source": []
  },
  {
   "cell_type": "code",
   "execution_count": null,
   "metadata": {},
   "outputs": [],
   "source": []
  },
  {
   "cell_type": "code",
   "execution_count": null,
   "metadata": {},
   "outputs": [],
   "source": [
    "hist = model._em_fit(dataset)"
   ]
  },
  {
   "cell_type": "code",
   "execution_count": null,
   "metadata": {},
   "outputs": [],
   "source": [
    "model.latent_logits"
   ]
  },
  {
   "cell_type": "code",
   "execution_count": null,
   "metadata": {},
   "outputs": [],
   "source": [
    "model.weights"
   ]
  },
  {
   "cell_type": "code",
   "execution_count": null,
   "metadata": {},
   "outputs": [],
   "source": [
    "plt.plot(np.array(hist)[:, 0])\n",
    "plt.plot(np.array(hist)[:, 1])"
   ]
  },
  {
   "cell_type": "code",
   "execution_count": null,
   "metadata": {},
   "outputs": [],
   "source": [
    "model.models[0].weights, model.models[1].weights"
   ]
  },
  {
   "cell_type": "code",
   "execution_count": null,
   "metadata": {},
   "outputs": [],
   "source": [
    "model.weights, model.latent_logits, l"
   ]
  },
  {
   "cell_type": "code",
   "execution_count": null,
   "metadata": {},
   "outputs": [],
   "source": [
    "a"
   ]
  },
  {
   "cell_type": "code",
   "execution_count": null,
   "metadata": {},
   "outputs": [],
   "source": [
    "model.latent_logits = l\n",
    "w = model._expectation(dataset)"
   ]
  },
  {
   "cell_type": "code",
   "execution_count": null,
   "metadata": {},
   "outputs": [],
   "source": [
    "w.shape"
   ]
  },
  {
   "cell_type": "code",
   "execution_count": null,
   "metadata": {},
   "outputs": [],
   "source": [
    "w"
   ]
  },
  {
   "cell_type": "code",
   "execution_count": null,
   "metadata": {},
   "outputs": [],
   "source": [
    "model = SimpleMNL(optimizer=\"lbfgs\", intercept=None)\n",
    "model.fit(dataset, sample_weight=np.concatenate([[1.], [.0]*(len(dataset)-1)]))"
   ]
  },
  {
   "cell_type": "code",
   "execution_count": null,
   "metadata": {},
   "outputs": [],
   "source": [
    "model.predict_probas(dataset)[0]"
   ]
  },
  {
   "cell_type": "code",
   "execution_count": null,
   "metadata": {},
   "outputs": [],
   "source": [
    "model = SimpleMNL(optimizer=\"lbfgs\", intercept=None)\n",
    "model.fit(dataset, sample_weight=np.concatenate([[0.], [.1]*(len(dataset)-1)]))\n",
    "model.weights"
   ]
  },
  {
   "cell_type": "code",
   "execution_count": null,
   "metadata": {},
   "outputs": [],
   "source": [
    "model.predict_probas(dataset)[:10], np.min(model.predict_probas(dataset)), np.max(model.predict_probas(dataset))"
   ]
  },
  {
   "cell_type": "code",
   "execution_count": null,
   "metadata": {},
   "outputs": [],
   "source": [
    "model = SimpleMNL(optimizer=\"lbfgs\", intercept=None)\n",
    "model.fit(dataset)\n",
    "model.predict_probas(dataset)[:10]"
   ]
  },
  {
   "cell_type": "code",
   "execution_count": null,
   "metadata": {},
   "outputs": [],
   "source": []
  },
  {
   "cell_type": "code",
   "execution_count": null,
   "metadata": {},
   "outputs": [],
   "source": []
  },
  {
   "cell_type": "code",
   "execution_count": null,
   "metadata": {},
   "outputs": [],
   "source": [
    "model.instantiate()\n",
    "model._em_fit(dataset)"
   ]
  },
  {
   "cell_type": "code",
   "execution_count": null,
   "metadata": {},
   "outputs": [],
   "source": [
    "model.models[0].weights"
   ]
  },
  {
   "cell_type": "code",
   "execution_count": null,
   "metadata": {},
   "outputs": [],
   "source": [
    "model.models[1].weights"
   ]
  },
  {
   "cell_type": "code",
   "execution_count": null,
   "metadata": {},
   "outputs": [],
   "source": [
    "model.latent_logits"
   ]
  },
  {
   "cell_type": "code",
   "execution_count": null,
   "metadata": {},
   "outputs": [],
   "source": [
    "\n",
    "predicted_probas = [m.predict_probas(dataset) for m in model.models]\n"
   ]
  },
  {
   "cell_type": "code",
   "execution_count": null,
   "metadata": {},
   "outputs": [],
   "source": [
    "predicted_probas"
   ]
  },
  {
   "cell_type": "code",
   "execution_count": null,
   "metadata": {},
   "outputs": [],
   "source": [
    "for latent, proba in zip(model.latent_logits, predicted_probas):\n",
    "    print(latent, proba[:4])\n",
    "    print(latent\n",
    "    * tf.gather_nd(\n",
    "        params=proba,\n",
    "        indices=tf.stack([tf.range(0, len(dataset), 1), dataset.choices], axis=1),\n",
    "    )[:4])"
   ]
  },
  {
   "cell_type": "code",
   "execution_count": null,
   "metadata": {},
   "outputs": [],
   "source": [
    "predicted_probas = [\n",
    "    latent\n",
    "    * tf.gather_nd(\n",
    "        params=proba,\n",
    "        indices=tf.stack([tf.range(0, len(dataset), 1), dataset.choices], axis=1),\n",
    "    )\n",
    "    for latent, proba in zip(model.latent_logits, predicted_probas)\n",
    "]\n"
   ]
  },
  {
   "cell_type": "code",
   "execution_count": null,
   "metadata": {},
   "outputs": [],
   "source": [
    "predicted_probas"
   ]
  },
  {
   "cell_type": "code",
   "execution_count": null,
   "metadata": {},
   "outputs": [],
   "source": [
    "\n",
    "weights = predicted_probas / tf.reduce_sum(predicted_probas, axis=0, keepdims=True)\n",
    "weights"
   ]
  },
  {
   "cell_type": "code",
   "execution_count": null,
   "metadata": {},
   "outputs": [],
   "source": [
    "for q in range(self.n_latent_classes):\n",
    "    self.models[q].fit(dataset, sample_weight=weights[q])\n",
    "\n",
    "self.latent_logits = tf.reduce_mean(weights, axis=1)"
   ]
  },
  {
   "cell_type": "code",
   "execution_count": null,
   "metadata": {},
   "outputs": [],
   "source": [
    "model = SimpleMNL(optimizer=\"lbfgs\", intercept=\"item\")\n",
    "model.fit(dataset, sample_weight=np.random.rand(len(dataset)))"
   ]
  },
  {
   "cell_type": "code",
   "execution_count": null,
   "metadata": {},
   "outputs": [],
   "source": [
    "model.weights"
   ]
  },
  {
   "cell_type": "code",
   "execution_count": null,
   "metadata": {},
   "outputs": [],
   "source": [
    "model = SimpleMNL(optimizer=\"lbfgs\", intercept=\"item\")\n",
    "model.fit(dataset)\n",
    "model.weights"
   ]
  },
  {
   "cell_type": "code",
   "execution_count": null,
   "metadata": {},
   "outputs": [],
   "source": [
    "predicted_probas = np.array([[[.1, .1, .8], [.5, .4, .1]], [[.2, .3, .5], [.3, .3, .4]]])\n",
    "latent_probas = [.3, .7]"
   ]
  },
  {
   "cell_type": "code",
   "execution_count": null,
   "metadata": {},
   "outputs": [],
   "source": [
    "\n",
    "predicted_probas = np.concatenate([latent_probas[q]*predicted_probas[q][np.arange(2), [1, 2]].reshape((-1,1)) for q in range(2)], axis = 1)"
   ]
  },
  {
   "cell_type": "code",
   "execution_count": null,
   "metadata": {},
   "outputs": [],
   "source": [
    "print(predicted_probas)\n",
    "weights = predicted_probas/np.sum(predicted_probas,axis = 1,keepdims=True)\n",
    "print(weights)"
   ]
  },
  {
   "cell_type": "code",
   "execution_count": null,
   "metadata": {},
   "outputs": [],
   "source": []
  }
 ],
 "metadata": {
  "kernelspec": {
   "display_name": "tf_env",
   "language": "python",
   "name": "python3"
  },
  "language_info": {
   "codemirror_mode": {
    "name": "ipython",
    "version": 3
   },
   "file_extension": ".py",
   "mimetype": "text/x-python",
   "name": "python",
   "nbconvert_exporter": "python",
   "pygments_lexer": "ipython3",
   "version": "3.11.4"
  }
 },
 "nbformat": 4,
 "nbformat_minor": 2
}
