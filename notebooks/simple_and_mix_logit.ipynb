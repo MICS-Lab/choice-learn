{
 "cells": [
  {
   "cell_type": "code",
   "execution_count": null,
   "metadata": {},
   "outputs": [],
   "source": [
    "import os\n",
    "\n",
    "# Remove GPU use\n",
    "os.environ[\"CUDA_VISIBLE_DEVICES\"] = \"\"\n",
    "\n",
    "import sys\n",
    "\n",
    "sys.path.append(\"../\")\n",
    "\n",
    "import matplotlib.pyplot as plt\n",
    "import numpy as np\n",
    "\n",
    "from choice_learn.models.simple_mnl import SimpleMNL\n",
    "from choice_learn.data import ChoiceDataset\n",
    "from choice_learn.datasets.base import load_heating"
   ]
  },
  {
   "cell_type": "markdown",
   "metadata": {},
   "source": [
    "Let's recreate this [tutorial](https://cran.r-project.org/web/packages/mlogit/vignettes/e1mlogit.html) by Yves Croissant for the mlogit R package.\n",
    "\n",
    "It uses the Heating dataset, where we try to predict which heating harware a houseold will chose. The dataset is integrated in the package, you can find information [here]."
   ]
  },
  {
   "cell_type": "code",
   "execution_count": null,
   "metadata": {},
   "outputs": [],
   "source": [
    "heating_df = load_heating(as_frame=True)\n",
    "\n",
    "contexts_features = [\"income\", \"agehed\", \"rooms\"]\n",
    "choice = [\"depvar\"]\n",
    "contexts_items_features = [\"ic.\", \"oc.\"]\n",
    "items = [\"hp\", \"gc\", \"gr\", \"ec\", \"er\"]\n",
    "\n",
    "choices = np.array([items.index(val) for val in heating_df[choice].to_numpy().ravel()])\n",
    "contexts = heating_df[contexts_features].to_numpy()\n",
    "contexts_items = np.stack([heating_df[[feat + item for feat in contexts_items_features]].to_numpy() for item in items], axis=1)"
   ]
  },
  {
   "cell_type": "markdown",
   "metadata": {},
   "source": [
    "First part estimates a simple MNL without intercept from the 'ic' and 'oc' features. By default, SimpleMNL does not integrate any intercept, but you can precise 'None'."
   ]
  },
  {
   "cell_type": "code",
   "execution_count": null,
   "metadata": {},
   "outputs": [],
   "source": [
    "dataset = ChoiceDataset(contexts_items_features=contexts_items, choices=choices)\n",
    "model = SimpleMNL(optimizer=\"lbfgs\", intercept=None)\n",
    "history = model.fit(dataset, epochs=100, get_report=True)"
   ]
  },
  {
   "cell_type": "code",
   "execution_count": null,
   "metadata": {},
   "outputs": [],
   "source": [
    "print(\"Estimation Negative LogLikelihood:\",\n",
    "      model.evaluate(dataset) * len(dataset))"
   ]
  },
  {
   "cell_type": "code",
   "execution_count": null,
   "metadata": {},
   "outputs": [],
   "source": [
    "model.report"
   ]
  },
  {
   "cell_type": "markdown",
   "metadata": {},
   "source": [
    "We reach very similar results. The second part is about modelling useing the ic + oc/0.12 ratio. Here is how it can be done:"
   ]
  },
  {
   "cell_type": "code",
   "execution_count": null,
   "metadata": {},
   "outputs": [],
   "source": [
    "ratio_contexts_items = []\n",
    "for case in range(contexts_items.shape[0]):\n",
    "    feat = []\n",
    "    for item in range(contexts_items.shape[1]):\n",
    "        feat.append([contexts_items[case, item, 0] + contexts_items[case, item, 1] / 0.12])\n",
    "    ratio_contexts_items.append(feat)\n",
    "ratio_contexts_items = np.array(ratio_contexts_items)\n",
    "ratio_contexts_items.shape"
   ]
  },
  {
   "cell_type": "code",
   "execution_count": null,
   "metadata": {},
   "outputs": [],
   "source": [
    "ratio_dataset = ChoiceDataset(contexts_items_features=ratio_contexts_items, choices=choices)\n",
    "model = SimpleMNL(optimizer=\"lbfgs\")\n",
    "history = model.fit(ratio_dataset, epochs=100, get_report=False)"
   ]
  },
  {
   "cell_type": "code",
   "execution_count": null,
   "metadata": {},
   "outputs": [],
   "source": [
    "print(\"Weights:\", model.weights)\n",
    "print(\"Estimation Negative LogLikelihood:\", model.evaluate(ratio_dataset) * len(ratio_dataset))"
   ]
  },
  {
   "cell_type": "markdown",
   "metadata": {},
   "source": [
    "Finally, to add itemwise intercept for the last part, here is how it can be done:"
   ]
  },
  {
   "cell_type": "code",
   "execution_count": null,
   "metadata": {},
   "outputs": [],
   "source": [
    "model = SimpleMNL(optimizer=\"lbfgs\", intercept=\"item\")\n",
    "history = model.fit(dataset, epochs=100, get_report=True)"
   ]
  },
  {
   "cell_type": "code",
   "execution_count": null,
   "metadata": {},
   "outputs": [],
   "source": [
    "model.report"
   ]
  },
  {
   "cell_type": "code",
   "execution_count": null,
   "metadata": {},
   "outputs": [],
   "source": [
    "from choice_learn.datasets import load_swissmetro\n",
    "from choice_learn.models.base_model import BaseMixtureModel"
   ]
  },
  {
   "cell_type": "code",
   "execution_count": null,
   "metadata": {},
   "outputs": [],
   "source": [
    "sm_df = load_swissmetro(as_frame=True)\n",
    "sm_df = sm_df.loc[sm_df.CHOICE != 0]\n",
    "sm_df.head()"
   ]
  },
  {
   "cell_type": "code",
   "execution_count": null,
   "metadata": {},
   "outputs": [],
   "source": [
    "[sm_df[[f\"{item}_{feature}\" for feature in [\"CO\", \"TT\"]]] for item in [\"CAR\", \"TRAIN\", \"SM\"]]"
   ]
  },
  {
   "cell_type": "code",
   "execution_count": null,
   "metadata": {},
   "outputs": [],
   "source": [
    "sm_df.CHOICE"
   ]
  },
  {
   "cell_type": "code",
   "execution_count": null,
   "metadata": {},
   "outputs": [],
   "source": [
    "contexts_items = np.stack([sm_df[[f\"{item}_{feature}\" for feature in [\"CO\", \"TT\"]]].to_numpy() for item in [\"CAR\", \"TRAIN\", \"SM\"]],\n",
    "axis=1)\n",
    "contexts_items[:, :, 0] = contexts_items[:, :, 0] / 100\n",
    "contexts_items[:, :, 1] = contexts_items[:, :, 1] / 100\n",
    "dataset = ChoiceDataset(\n",
    "    contexts_items_features=contexts_items,\n",
    "    choices=sm_df.CHOICE.to_numpy()-1\n",
    ")"
   ]
  },
  {
   "cell_type": "code",
   "execution_count": null,
   "metadata": {},
   "outputs": [],
   "source": [
    "np.unique(dataset.choices)"
   ]
  },
  {
   "cell_type": "code",
   "execution_count": null,
   "metadata": {},
   "outputs": [],
   "source": [
    "import tensorflow as tf\n",
    "import importlib\n",
    "import choice_learn.models.base_model\n",
    "importlib.reload(choice_learn.models.base_model)\n",
    "\n",
    "from choice_learn.models.base_model import BaseMixtureModel"
   ]
  },
  {
   "cell_type": "code",
   "execution_count": null,
   "metadata": {},
   "outputs": [],
   "source": [
    "model = BaseMixtureModel(\n",
    "    n_latent_classes=2,\n",
    "    model_class=SimpleMNL,\n",
    "    model_parameters={\"optimizer\": \"lbfgs\", \"epochs\": 20},\n",
    "    fit_method=\"EM\",\n",
    "    epochs=2,\n",
    ")"
   ]
  },
  {
   "cell_type": "code",
   "execution_count": null,
   "metadata": {},
   "outputs": [],
   "source": [
    "model.instantiate()\n",
    "model._em_fit(dataset)"
   ]
  },
  {
   "cell_type": "code",
   "execution_count": null,
   "metadata": {},
   "outputs": [],
   "source": [
    "model.models[0].weights"
   ]
  },
  {
   "cell_type": "code",
   "execution_count": null,
   "metadata": {},
   "outputs": [],
   "source": [
    "model.models[1].weights"
   ]
  },
  {
   "cell_type": "code",
   "execution_count": null,
   "metadata": {},
   "outputs": [],
   "source": [
    "model.latent_logits"
   ]
  },
  {
   "cell_type": "code",
   "execution_count": null,
   "metadata": {},
   "outputs": [],
   "source": [
    "\n",
    "predicted_probas = [m.predict_probas(dataset) for m in model.models]\n"
   ]
  },
  {
   "cell_type": "code",
   "execution_count": null,
   "metadata": {},
   "outputs": [],
   "source": [
    "predicted_probas"
   ]
  },
  {
   "cell_type": "code",
   "execution_count": null,
   "metadata": {},
   "outputs": [],
   "source": [
    "for latent, proba in zip(model.latent_logits, predicted_probas):\n",
    "    print(latent, proba[:4])\n",
    "    print(latent\n",
    "    * tf.gather_nd(\n",
    "        params=proba,\n",
    "        indices=tf.stack([tf.range(0, len(dataset), 1), dataset.choices], axis=1),\n",
    "    )[:4])"
   ]
  },
  {
   "cell_type": "code",
   "execution_count": null,
   "metadata": {},
   "outputs": [],
   "source": [
    "predicted_probas = [\n",
    "    latent\n",
    "    * tf.gather_nd(\n",
    "        params=proba,\n",
    "        indices=tf.stack([tf.range(0, len(dataset), 1), dataset.choices], axis=1),\n",
    "    )\n",
    "    for latent, proba in zip(model.latent_logits, predicted_probas)\n",
    "]\n"
   ]
  },
  {
   "cell_type": "code",
   "execution_count": null,
   "metadata": {},
   "outputs": [],
   "source": [
    "predicted_probas"
   ]
  },
  {
   "cell_type": "code",
   "execution_count": null,
   "metadata": {},
   "outputs": [],
   "source": [
    "\n",
    "weights = predicted_probas / tf.reduce_sum(predicted_probas, axis=0, keepdims=True)\n",
    "weights"
   ]
  },
  {
   "cell_type": "code",
   "execution_count": null,
   "metadata": {},
   "outputs": [],
   "source": [
    "for q in range(self.n_latent_classes):\n",
    "    self.models[q].fit(dataset, sample_weight=weights[q])\n",
    "\n",
    "self.latent_logits = tf.reduce_mean(weights, axis=1)"
   ]
  },
  {
   "cell_type": "code",
   "execution_count": null,
   "metadata": {},
   "outputs": [],
   "source": [
    "model = SimpleMNL(optimizer=\"lbfgs\", intercept=\"item\")\n",
    "model.fit(dataset, sample_weight=np.random.rand(len(dataset)))"
   ]
  },
  {
   "cell_type": "code",
   "execution_count": null,
   "metadata": {},
   "outputs": [],
   "source": [
    "model.weights"
   ]
  },
  {
   "cell_type": "code",
   "execution_count": null,
   "metadata": {},
   "outputs": [],
   "source": [
    "model = SimpleMNL(optimizer=\"lbfgs\", intercept=\"item\")\n",
    "model.fit(dataset)\n",
    "model.weights"
   ]
  },
  {
   "cell_type": "code",
   "execution_count": null,
   "metadata": {},
   "outputs": [],
   "source": []
  }
 ],
 "metadata": {
  "kernelspec": {
   "display_name": "tf_env",
   "language": "python",
   "name": "python3"
  },
  "language_info": {
   "codemirror_mode": {
    "name": "ipython",
    "version": 3
   },
   "file_extension": ".py",
   "mimetype": "text/x-python",
   "name": "python",
   "nbconvert_exporter": "python",
   "pygments_lexer": "ipython3",
   "version": "3.11.4"
  }
 },
 "nbformat": 4,
 "nbformat_minor": 2
}
