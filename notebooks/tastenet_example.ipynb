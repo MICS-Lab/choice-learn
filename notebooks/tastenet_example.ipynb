{
 "cells": [
  {
   "cell_type": "markdown",
   "metadata": {},
   "source": [
    "# TasteNet"
   ]
  },
  {
   "cell_type": "code",
   "execution_count": null,
   "metadata": {},
   "outputs": [],
   "source": [
    "import sys\n",
    "sys.path.append(\"../\")\n",
    "\n",
    "import numpy as np\n",
    "import pandas as pd\n",
    "\n",
    "from choice_learn.datasets import load_swissmetro\n",
    "from choice_learn.models.tastenet import TasteNet"
   ]
  },
  {
   "cell_type": "code",
   "execution_count": null,
   "metadata": {},
   "outputs": [],
   "source": [
    "dataset = load_swissmetro(preprocessing=\"tastenet\", as_frame=False)"
   ]
  },
  {
   "cell_type": "code",
   "execution_count": null,
   "metadata": {},
   "outputs": [],
   "source": [
    "dataset.items_features_by_choice[0].shape"
   ]
  },
  {
   "cell_type": "code",
   "execution_count": null,
   "metadata": {},
   "outputs": [],
   "source": [
    "dataset.items_features_by_choice_names, dataset.shared_features_by_choice_names"
   ]
  },
  {
   "cell_type": "code",
   "execution_count": null,
   "metadata": {},
   "outputs": [],
   "source": [
    "taste_net_layers = [16, 16]\n",
    "taste_net_activation = \"relu\"\n",
    "items_features_by_choice_parametrization = [[-1., \"relu\", \"relu\", 0., \"linear\", 0., 0.],\n",
    "                            [-1., \"relu\", \"relu\", \"linear\", 0., \"linear\", 0.],\n",
    "                            [-1., \"relu\", 0., 0., 0., 0., 0.]]\n",
    "\n",
    "tastenet = TasteNet(taste_net_layers=taste_net_layers,\n",
    "                    taste_net_activation=taste_net_activation,\n",
    "                    items_features_by_choice_parametrization=items_features_by_choice_parametrization,\n",
    "                    optimizer=\"Adam\",\n",
    "                    epochs=50)\n",
    "tastenet.instantiate(n_shared_features=12)"
   ]
  },
  {
   "cell_type": "code",
   "execution_count": null,
   "metadata": {},
   "outputs": [],
   "source": [
    "hist = tastenet.fit(dataset)"
   ]
  },
  {
   "cell_type": "code",
   "execution_count": null,
   "metadata": {},
   "outputs": [],
   "source": [
    "import matplotlib.pyplot as plt\n",
    "plt.plot(hist[\"train_loss\"])"
   ]
  },
  {
   "cell_type": "code",
   "execution_count": null,
   "metadata": {},
   "outputs": [],
   "source": [
    "hist[\"train_loss\"]"
   ]
  },
  {
   "cell_type": "code",
   "execution_count": null,
   "metadata": {},
   "outputs": [],
   "source": [
    "err = []\n",
    "for i, c in enumerate(dataset.choices):\n",
    "    err.append(tastenet.predict_probas(dataset)[i, c])"
   ]
  },
  {
   "cell_type": "code",
   "execution_count": null,
   "metadata": {},
   "outputs": [],
   "source": [
    "err"
   ]
  },
  {
   "cell_type": "code",
   "execution_count": null,
   "metadata": {},
   "outputs": [],
   "source": [
    "# Handle tuple and not tuple\n",
    "# Lazy instantiation with number of customer features\n",
    "# Test that parametrization matches with number of items_features"
   ]
  }
 ],
 "metadata": {
  "kernelspec": {
   "display_name": "tf_env",
   "language": "python",
   "name": "python3"
  },
  "language_info": {
   "codemirror_mode": {
    "name": "ipython",
    "version": 3
   },
   "file_extension": ".py",
   "mimetype": "text/x-python",
   "name": "python",
   "nbconvert_exporter": "python",
   "pygments_lexer": "ipython3",
   "version": "3.11.4"
  }
 },
 "nbformat": 4,
 "nbformat_minor": 2
}
