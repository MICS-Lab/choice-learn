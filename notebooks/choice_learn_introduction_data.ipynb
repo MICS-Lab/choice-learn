{
 "cells": [
  {
   "cell_type": "markdown",
   "metadata": {},
   "source": [
    "## Introduction to choice-learn's data management"
   ]
  },
  {
   "cell_type": "code",
   "execution_count": null,
   "metadata": {},
   "outputs": [],
   "source": [
    "import os\n",
    "import sys\n",
    "from pathlib import Path\n",
    "\n",
    "sys.path.append(\"../\")\n",
    "\n",
    "import numpy as np\n",
    "import pandas as pd"
   ]
  },
  {
   "cell_type": "markdown",
   "metadata": {},
   "source": [
    "### ChoiceDataset - Getting Started (Fast-track start ??)\n",
    "\n",
    "choice-learn package aims at being able to handle large datasets. It uses a data structure similar to the one defined in the torch-choice package.\n",
    "\n",
    "Particularly, it defines 5 types of different data, storing them separatly in order to avoid redundancy in memory:\n",
    "\n",
    "- items_features: features of considered items that never change (e.g. size, color, etc...)\n",
    "- session_features: features that depend on the session (time) of the choice and that are common to all items (e.g. day of week, etc...)\n",
    "- session_items_features: features that depend on the item and on the session (e.g. price)\n",
    "\n",
    "- items_sessions_availabilities: For each session whether the item it present (1.) or not (0.)\n",
    "- choices: chosen item among available ones\n",
    "\n",
    "\n",
    "In order to estimate a model using the choice-learn API, you will first need to wrap your dataset within a ChoiceDataset. The easiest way to do it is to use a pandas DataFrame, let's see how to do it !"
   ]
  },
  {
   "cell_type": "code",
   "execution_count": null,
   "metadata": {
    "keep_output": true
   },
   "outputs": [
    {
     "name": "stdout",
     "output_type": "stream",
     "text": [
      "Let's look at the dataframe:\n"
     ]
    },
    {
     "data": {
      "text/html": [
       "<div>\n",
       "<style scoped>\n",
       "    .dataframe tbody tr th:only-of-type {\n",
       "        vertical-align: middle;\n",
       "    }\n",
       "\n",
       "    .dataframe tbody tr th {\n",
       "        vertical-align: top;\n",
       "    }\n",
       "\n",
       "    .dataframe thead th {\n",
       "        text-align: right;\n",
       "    }\n",
       "</style>\n",
       "<table border=\"1\" class=\"dataframe\">\n",
       "  <thead>\n",
       "    <tr style=\"text-align: right;\">\n",
       "      <th></th>\n",
       "      <th>case</th>\n",
       "      <th>alt</th>\n",
       "      <th>choice</th>\n",
       "      <th>dist</th>\n",
       "      <th>cost</th>\n",
       "      <th>ivt</th>\n",
       "      <th>ovt</th>\n",
       "      <th>freq</th>\n",
       "      <th>income</th>\n",
       "      <th>urban</th>\n",
       "      <th>noalt</th>\n",
       "    </tr>\n",
       "  </thead>\n",
       "  <tbody>\n",
       "    <tr>\n",
       "      <th>1</th>\n",
       "      <td>1</td>\n",
       "      <td>train</td>\n",
       "      <td>0</td>\n",
       "      <td>83</td>\n",
       "      <td>28.25</td>\n",
       "      <td>50</td>\n",
       "      <td>66</td>\n",
       "      <td>4</td>\n",
       "      <td>45</td>\n",
       "      <td>0</td>\n",
       "      <td>2</td>\n",
       "    </tr>\n",
       "    <tr>\n",
       "      <th>2</th>\n",
       "      <td>1</td>\n",
       "      <td>car</td>\n",
       "      <td>1</td>\n",
       "      <td>83</td>\n",
       "      <td>15.77</td>\n",
       "      <td>61</td>\n",
       "      <td>0</td>\n",
       "      <td>0</td>\n",
       "      <td>45</td>\n",
       "      <td>0</td>\n",
       "      <td>2</td>\n",
       "    </tr>\n",
       "    <tr>\n",
       "      <th>3</th>\n",
       "      <td>2</td>\n",
       "      <td>train</td>\n",
       "      <td>0</td>\n",
       "      <td>83</td>\n",
       "      <td>28.25</td>\n",
       "      <td>50</td>\n",
       "      <td>66</td>\n",
       "      <td>4</td>\n",
       "      <td>25</td>\n",
       "      <td>0</td>\n",
       "      <td>2</td>\n",
       "    </tr>\n",
       "    <tr>\n",
       "      <th>4</th>\n",
       "      <td>2</td>\n",
       "      <td>car</td>\n",
       "      <td>1</td>\n",
       "      <td>83</td>\n",
       "      <td>15.77</td>\n",
       "      <td>61</td>\n",
       "      <td>0</td>\n",
       "      <td>0</td>\n",
       "      <td>25</td>\n",
       "      <td>0</td>\n",
       "      <td>2</td>\n",
       "    </tr>\n",
       "    <tr>\n",
       "      <th>5</th>\n",
       "      <td>3</td>\n",
       "      <td>train</td>\n",
       "      <td>0</td>\n",
       "      <td>83</td>\n",
       "      <td>28.25</td>\n",
       "      <td>50</td>\n",
       "      <td>66</td>\n",
       "      <td>4</td>\n",
       "      <td>70</td>\n",
       "      <td>0</td>\n",
       "      <td>2</td>\n",
       "    </tr>\n",
       "  </tbody>\n",
       "</table>\n",
       "</div>"
      ],
      "text/plain": [
       "   case    alt  choice  dist   cost  ivt  ovt  freq  income  urban  noalt\n",
       "1     1  train       0    83  28.25   50   66     4      45      0      2\n",
       "2     1    car       1    83  15.77   61    0     0      45      0      2\n",
       "3     2  train       0    83  28.25   50   66     4      25      0      2\n",
       "4     2    car       1    83  15.77   61    0     0      25      0      2\n",
       "5     3  train       0    83  28.25   50   66     4      70      0      2"
      ]
     },
     "execution_count": null,
     "metadata": {},
     "output_type": "execute_result"
    }
   ],
   "source": [
    "from choice_learn.data import ChoiceDataset\n",
    "\n",
    "# path to dataset file is:\n",
    "filepath = \"choice_learn/datasets/data/ModeCanada.csv.gz\"\n",
    "canada_transport_df = pd.read_csv((Path(\"..\") / filepath), index_col=0)\n",
    "\n",
    "print(\"Let's look at the dataframe:\")\n",
    "canada_transport_df.head()"
   ]
  },
  {
   "cell_type": "markdown",
   "metadata": {},
   "source": [
    "This dataframe is the raw version of the Canada Transport Dataset \\cite. We need to follow some specifications in order to use it as a ChoiceDataset.\n",
    "\n",
    "The dataset does not contain any items_features (i.e. fixed features for the different items). We will create a One-Hot encoding that will be represent these items_features for the example."
   ]
  },
  {
   "cell_type": "code",
   "execution_count": null,
   "metadata": {},
   "outputs": [],
   "source": [
    "transport_df = canada_transport_df.copy()\n",
    "items = [\"air\", \"bus\", \"car\", \"train\"]\n",
    "\n",
    "transport_df[\"oh0\"] = transport_df.apply(lambda row: 1. if row.alt == items[0] else 0., axis=1)\n",
    "transport_df[\"oh1\"] = transport_df.apply(lambda row: 1. if row.alt == items[1] else 0., axis=1)\n",
    "transport_df[\"oh2\"] = transport_df.apply(lambda row: 1. if row.alt == items[2] else 0., axis=1)\n",
    "transport_df[\"oh3\"] = transport_df.apply(lambda row: 1. if row.alt == items[3] else 0., axis=1)\n",
    "\n",
    "# Just some typing\n",
    "transport_df.income = transport_df.income.astype(\"float32\")"
   ]
  },
  {
   "cell_type": "markdown",
   "metadata": {},
   "source": [
    "In order to create the ChoiceDataset from the dataframe, we need to specify:\n",
    "- the columns representing the items_features\n",
    "- the columns representing the sessions_features\n",
    "- the columns representing the sessions_items_features\n",
    "- the column where the item is identified \n",
    "- the column where the session is identified\n",
    "- the column in which the choice is given\n",
    "\n",
    "For our Canada Transport example, here is how it should be done:"
   ]
  },
  {
   "cell_type": "code",
   "execution_count": null,
   "metadata": {},
   "outputs": [],
   "source": [
    "dataset = ChoiceDataset.from_single_df(df=transport_df,\n",
    "                                       items_features_columns=[\"oh0\", \"oh1\", \"oh2\", \"oh3\"],\n",
    "                                       sessions_features_columns=[\"income\"],\n",
    "                                       sessions_items_features_columns=['cost', 'freq', 'ovt', 'ivt'],\n",
    "                                       items_id_column=\"alt\",\n",
    "                                       sessions_id_column=\"case\",\n",
    "                                       choices_column=\"choice\",\n",
    "                                       choice_mode=\"one_zero\")"
   ]
  },
  {
   "cell_type": "markdown",
   "metadata": {},
   "source": [
    "In our case, the items_feature are the one-hot values we have created. The column 'income' represents the income of the subject and is shared by all items durint a session. It thus falls in the sessions_features category. On the contrary, 'cost', 'freq', 'ovt' and 'ivt' describe each transportation mode (items) and change for each session (or each case of the survey). They are considered sessions_items_features.\n",
    "\n",
    "An argument that needs to be precised is choice-mode. It precised how the choice is encoded in the dataframe. Currently two modes are availble:\n",
    "\n",
    "**one_zero:**\n",
    "The choice column contains a 0 when the alternative/item is not chosen in the session and a 1 if it is chosen.\n",
    "This is the case here with Canada Transport.\n",
    "\n",
    "**item_id:**\n",
    "The choice column contains the id of the choice during the session. The id corresponds to the values used in the column 'items_id_column'.\n",
    "In this case of Canada Transport, the dataframe would need to be:\n",
    "\n",
    "| | case | alt | choice | dist | cost | ivt | ovt | freq | \tincome | urban | noalt | \n",
    "|---|---|---|---|---|---|---|---|---|---|---|---|\n",
    "| 1 | 1 | train | car | 83 | 28.25 | 50 | 66 | 4 | 45 | 0 | 2 |\n",
    "| 2 | 1 | car | car | 83 | 15.77 | 61 | 0 | 0 | 45 | 0 | 2 |\n",
    "| 3 | 2 | train | car | 83 | 28.25 | 50 | 66 | 4 | 25 | 0 | 2 |\n",
    "| 4 | 2 | car | car | 83 | 15.77 | 61 | 0 | 0 | 25 | 0 | 2 |\n",
    "| 5 | 3 | train | car | 83 | 28.25 | 50 | 66 | 4 | 70 | 0 | 2 |\n",
    "\n",
    "In the first 5 examples, the chosen transportation is always the car."
   ]
  },
  {
   "cell_type": "code",
   "execution_count": null,
   "metadata": {
    "keep_output": true
   },
   "outputs": [],
   "source": [
    "dataset.sessions_features[0].shape, dataset.items_features[0].shape, dataset.sessions_items_features[0].shape"
   ]
  },
  {
   "cell_type": "markdown",
   "metadata": {},
   "source": [
    "### ChoiceDataset - Inside the machine\n",
    "\n",
    "Let's see an example of ChoiceDataset instantiation from numpy arrays:"
   ]
  },
  {
   "cell_type": "code",
   "execution_count": null,
   "metadata": {},
   "outputs": [],
   "source": [
    "# Let's see an example of ChoiceDataset instantiation\n",
    "\n",
    "# from choice-learn.data import ChoiceDataset\n",
    "\n",
    "# Let's consider three items whose features are:\n",
    "# - Size\n",
    "# - Weight\n",
    "# - price\n",
    "# - whether is is on promotion or not\n",
    "\n",
    "items_features = [\n",
    "    [1, 2], # item 1 [size, weight]\n",
    "    [2, 4], # item 2 [size, weight]\n",
    "    [1.5, 1.5], # item 3 [size, weight]\n",
    "]\n",
    "\n",
    "# We have two customers whose features are\n",
    "# - Budget\n",
    "# - Age\n",
    "# Customer 1 bought item 1 at session 1 and item 2 at session 3\n",
    "# Customer 2 bought item 3 at session 2\n",
    "\n",
    "choices = [0, 2, 1]\n",
    "sessions_items_availabilities = [\n",
    "    [1, 1, 1], # All items available at session 1\n",
    "    [1, 1, 1], # All items available at session 2\n",
    "    [0, 1, 1], # Item 1 not available at session 3\n",
    "]\n",
    "\n",
    "sessions_features = [\n",
    "    [100, 20], # session 1, customer 1 [budget, age]\n",
    "    [200, 40], # session 2, customer 2 [budget, age]\n",
    "    [80, 20], # session 3, customer 1 [budget, age]\n",
    "]\n",
    "\n",
    "sessions_items_features = [\n",
    "    [\n",
    "        [100, 0], # Session 1, Item 1 [price, promotion]\n",
    "        [140, 0], # Session 1, Item 2 [price, promotion]\n",
    "        [200, 0], # Session 1, Item 2 [price, promotion]\n",
    "    ],\n",
    "    [\n",
    "        [100, 0], # Session 2 Item 1 [price, promotion]\n",
    "        [120, 1], # Session 2, Item 2 [price, promotion]\n",
    "        [200, 0], # Session 2, Item 2 [price, promotion]\n",
    "    ],\n",
    "    [\n",
    "        [100, 0], # Session 3, Item 1 [price, promotion], values do not really matter, but needs to exist for shapes sake\n",
    "        [120, 1], # Session 3, Item 2 [price, promotion]\n",
    "        [180, 1], # Session 3, Item 2 [price, promotion]\n",
    "    ],\n",
    "]\n"
   ]
  },
  {
   "cell_type": "markdown",
   "metadata": {},
   "source": [
    "Note that in items_features and sessions_items_features, the features need to be well ordered:\n",
    "- The features are ordered the same for all items\n",
    "- The items are ordered the same for items_features and sessions_items_features, and their index is used in choices:\n",
    "\n",
    "\n",
    "**items_features** = [[feature_1_item_A, feature_2_item_A, ...], [features_1_item_B, feature_2_item_B, ...], ...]\n",
    "\n",
    "**session_items_features** = [[[session_1_feature_1_item_A, ...], [session_1_feature_1_item_B, ...]], [[session_2_feature_1_item_A, ...], [session_2_feature_1_item_B, ...]], ...]\n",
    "\n",
    "**choices** then represent the index of the item: 0 when item_1 is chose, 1 when item_2, etc..., e.g. [0, 0, 2, 1, ...]"
   ]
  },
  {
   "cell_type": "code",
   "execution_count": null,
   "metadata": {},
   "outputs": [],
   "source": [
    "dataset = ChoiceDataset(\n",
    "    items_features=items_features,\n",
    "    items_features_names=[\"size\", \"weight\"], # You can precise the names of the features if you want\n",
    "    sessions_features=sessions_features,\n",
    "    sessions_features_names=[\"budget\", \"age\"], # same, not mandatory\n",
    "    sessions_items_features=sessions_items_features,\n",
    "    sessions_items_features_names=[\"price\", \"promotion\"], # same, not mandatory\n",
    "    sessions_items_availabilities=sessions_items_availabilities,\n",
    "    choices=choices,\n",
    ")"
   ]
  },
  {
   "cell_type": "code",
   "execution_count": null,
   "metadata": {
    "keep_output": true
   },
   "outputs": [
    {
     "data": {
      "text/plain": [
       "(3, 3, 2)"
      ]
     },
     "execution_count": null,
     "metadata": {},
     "output_type": "execute_result"
    }
   ],
   "source": [
    "dataset.sessions_items_features[0].shape"
   ]
  },
  {
   "cell_type": "markdown",
   "metadata": {},
   "source": [
    "ChoiceDataset is indexed by session. You can use [] to subset it.\n",
    "It is particularly useful for train/test split:"
   ]
  },
  {
   "cell_type": "code",
   "execution_count": null,
   "metadata": {
    "keep_output": true
   },
   "outputs": [
    {
     "name": "stdout",
     "output_type": "stream",
     "text": [
      "Some choices never happen in the dataset: {1}\n",
      "Some choices never happen in the dataset: {0, 2}\n",
      "Train Dataset length: 2 Test Dataset lenght: 1\n"
     ]
    }
   ],
   "source": [
    "train_index = [0, 1]\n",
    "test_index = [2]\n",
    "train_dataset = dataset[train_index]\n",
    "test_dataset = dataset[test_index]\n",
    "print(\"Train Dataset length:\", len(train_dataset), \"Test Dataset lenght:\", len(test_dataset))"
   ]
  },
  {
   "cell_type": "markdown",
   "metadata": {},
   "source": [
    "If you want to access the features you can use the .iloc function with sessions indexes \n",
    "It returns the features in this order:\n",
    "\n",
    "- items_features (n_items, n_items_features)\n",
    "- sessions_features (n_sessions_indexes, n_sessions_features)\n",
    "- sessions_items_features (n_sessions_indexes, n_items, n_sessions_items_features)\n",
    "- sessions_items_availabilities (n_sessions_indexes, n_items)\n",
    "- choices (n_sessions_indexes,)"
   ]
  },
  {
   "cell_type": "markdown",
   "metadata": {},
   "source": [
    "| index | feature  | shape  |   \n",
    "|---|---|---|\n",
    "| 0 | items_features | (n_items, n_items_features) |\n",
    "| 1 | sessions_features | (n_sessions_indexes, n_sessions_features) |\n",
    "| 2 | sessions_items_features | (n_sessions_indexes, n_items, n_sessions_items_features) |\n",
    "| 3 | sessions_items_availabilities | (n_sessions_indexes, n_items) |\n",
    "| 4 | choices | (n_sessions_indexes,) |"
   ]
  },
  {
   "cell_type": "code",
   "execution_count": null,
   "metadata": {
    "keep_output": true
   },
   "outputs": [
    {
     "name": "stdout",
     "output_type": "stream",
     "text": [
      "Items features: (array([[1. , 2. ],\n",
      "       [2. , 4. ],\n",
      "       [1.5, 1.5]], dtype=float32),)\n",
      "Sessions features: (array([[100,  20],\n",
      "       [200,  40]], dtype=int32),)\n",
      "Sessions Items features: (array([[[100,   0],\n",
      "        [140,   0],\n",
      "        [200,   0]],\n",
      "\n",
      "       [[100,   0],\n",
      "        [120,   1],\n",
      "        [200,   0]]], dtype=int32),)\n",
      "Sessions Items Availabilities features: [[1. 1. 1.]\n",
      " [1. 1. 1.]]\n",
      "Sessions Choices: [0 2]\n"
     ]
    }
   ],
   "source": [
    "sessions_indexes = [0, 1]\n",
    "print(\"Items features:\", train_dataset.batch[sessions_indexes][0])\n",
    "print(\"Sessions features:\", train_dataset.batch[sessions_indexes][1])\n",
    "print(\"Sessions Items features:\", train_dataset.batch[sessions_indexes][2])\n",
    "print(\"Sessions Items Availabilities features:\", train_dataset.batch[sessions_indexes][3])\n",
    "print(\"Sessions Choices:\", train_dataset.batch[sessions_indexes][4])"
   ]
  },
  {
   "cell_type": "markdown",
   "metadata": {},
   "source": [
    "To simplify the iteration over the dataset you can call the .batch method, with the batch_size argument.\n",
    "\n",
    "Note that batch_size=-1 returns the whole dataset"
   ]
  },
  {
   "cell_type": "code",
   "execution_count": null,
   "metadata": {
    "keep_output": true
   },
   "outputs": [
    {
     "name": "stdout",
     "output_type": "stream",
     "text": [
      "0 (array([[1. , 2. ],\n",
      "       [2. , 4. ],\n",
      "       [1.5, 1.5]], dtype=float32), array([[100,  20]], dtype=int32), array([[[100,   0],\n",
      "        [140,   0],\n",
      "        [200,   0]]], dtype=int32), array([[1., 1., 1.]], dtype=float32), array([0], dtype=int32))\n",
      "1 (array([[1. , 2. ],\n",
      "       [2. , 4. ],\n",
      "       [1.5, 1.5]], dtype=float32), array([[200,  40]], dtype=int32), array([[[100,   0],\n",
      "        [120,   1],\n",
      "        [200,   0]]], dtype=int32), array([[1., 1., 1.]], dtype=float32), array([2], dtype=int32))\n",
      "2 (array([[1. , 2. ],\n",
      "       [2. , 4. ],\n",
      "       [1.5, 1.5]], dtype=float32), array([[80, 20]], dtype=int32), array([[[100,   0],\n",
      "        [120,   1],\n",
      "        [180,   1]]], dtype=int32), array([[0., 1., 1.]], dtype=float32), array([1], dtype=int32))\n"
     ]
    }
   ],
   "source": [
    "# All the features are given for each session, in order to compute utility and NegativeLogLikelihood\n",
    "for n_batch, batch in enumerate(dataset.iter_batch(batch_size=1)):\n",
    "    print(n_batch, batch)"
   ]
  },
  {
   "cell_type": "markdown",
   "metadata": {},
   "source": [
    "Note that you will need to use a ChoiceDataset to use the models."
   ]
  },
  {
   "cell_type": "markdown",
   "metadata": {},
   "source": [
    "**Stacking features**\n",
    "If you need to keep a clear distinction between different features, you can use stacking in the ChoiceDataset. For example if we have two kind of items_features and we do not want them to be within the same np.ndarray we can as follow:"
   ]
  },
  {
   "cell_type": "code",
   "execution_count": null,
   "metadata": {},
   "outputs": [],
   "source": [
    "items_features_2 = [\n",
    "    [11, 12], # item 1 \n",
    "    [12, 14], # item 2 \n",
    "    [11.5, 11.5], # item 3 \n",
    "]\n",
    "dataset = ChoiceDataset(\n",
    "    items_features=(items_features, items_features_2), # Here items_features specified as a tuple of the two features lists\n",
    "    sessions_features=sessions_features,\n",
    "    sessions_items_features=sessions_items_features,\n",
    "    sessions_items_availabilities=sessions_items_availabilities,\n",
    "    choices=choices,\n",
    ")"
   ]
  },
  {
   "cell_type": "markdown",
   "metadata": {},
   "source": [
    "When indexing or batching your ChoiceDataset, you will now get items_features as a tuple, with elements corresponding to (items_features, items_features_2)"
   ]
  },
  {
   "cell_type": "code",
   "execution_count": null,
   "metadata": {
    "keep_output": true
   },
   "outputs": [
    {
     "data": {
      "text/plain": [
       "((array([[1. , 2. ],\n",
       "         [2. , 4. ],\n",
       "         [1.5, 1.5]], dtype=float32),\n",
       "  array([[11. , 12. ],\n",
       "         [12. , 14. ],\n",
       "         [11.5, 11.5]], dtype=float32)),\n",
       " array([100,  20], dtype=int32),\n",
       " array([[100,   0],\n",
       "        [140,   0],\n",
       "        [200,   0]], dtype=int32),\n",
       " array([1., 1., 1.], dtype=float32),\n",
       " 0)"
      ]
     },
     "execution_count": null,
     "metadata": {},
     "output_type": "execute_result"
    }
   ],
   "source": [
    "dataset.batch[0]"
   ]
  },
  {
   "cell_type": "markdown",
   "metadata": {},
   "source": [
    "This is possible with:\n",
    "- items_features\n",
    "- sessions_features\n",
    "- sessions_items_features\n",
    "As the other should not need any superposition of values."
   ]
  },
  {
   "cell_type": "code",
   "execution_count": null,
   "metadata": {},
   "outputs": [],
   "source": [
    "dataset = ChoiceDataset(\n",
    "    items_features=(items_features, items_features_2), # Here items_features specified as a tuple of the two features lists\n",
    "    sessions_features=(sessions_features, sessions_features),\n",
    "    sessions_items_features=(sessions_items_features, sessions_items_features),\n",
    "    sessions_items_availabilities=sessions_items_availabilities,\n",
    "    choices=choices,\n",
    ")\n",
    "\n",
    "dataset.batch[0]"
   ]
  },
  {
   "cell_type": "markdown",
   "metadata": {},
   "source": [
    "## More Advanced use: the FeatureStore & OneHotStore"
   ]
  },
  {
   "cell_type": "markdown",
   "metadata": {},
   "source": [
    "The FeaturseStore class is here to stock values that regularly repeat themselves over a sequence.\n",
    "Let's take an example where several stores are considered. If we want to model the utility from store features (such as surface, average number of customers, etc...), these features are shared by several choices in our dataset."
   ]
  },
  {
   "cell_type": "code",
   "execution_count": null,
   "metadata": {},
   "outputs": [],
   "source": [
    "# We have three stores, represented by their (surface, average_number_of_customers):\n",
    "store_features = [[100, 250], [150, 500], [80, 100]]\n",
    "# Now we consider a sequence of choices that happen in [store_1, store_1, store_2, store_3, store_2, store_1, store_3]\n",
    "# The usual way to store the features would be:\n",
    "usual_store_features = [[100, 250], [100, 250], [150, 500], [80, 100], [150, 500], [100, 250], [80, 100]]\n",
    "# There are a lot of repetetitions, which is not very efficient...\n",
    "# Let's multiply this with 600 stores represented as one-hot over thousands of sessions, we will have a memory problem !\n",
    "# Now the StoreFeatures tries to be more efficient:\n",
    "\n",
    "store = {1: [100, 250], 2: [150, 500], 3: [80, 100]} # We can use a dictionary to store the features of each store\n",
    "sequence = [1, 1, 2, 3, 2, 1, 3] # We can use a sequence of keys to represent the sequence of stores\n",
    "\n",
    "from choice_learn.data import FeaturesStore\n",
    "feat_store = FeaturesStore.from_dict(store, sequence)"
   ]
  },
  {
   "cell_type": "code",
   "execution_count": null,
   "metadata": {
    "keep_output": true
   },
   "outputs": [
    {
     "name": "stdout",
     "output_type": "stream",
     "text": [
      "[100, 250]\n",
      "[[100, 250], [100, 250], [100, 250]]\n"
     ]
    }
   ],
   "source": [
    "# Now we can access the features of the store appearing at index i in the sequence with the iloc method:\n",
    "\n",
    "# Let's see the features of the store at index 0\n",
    "print(feat_store.batch[0])\n",
    "# Now we can also take a whole batch:\n",
    "print(feat_store.batch[[0, 1, 5]])\n",
    "# Ah ! We selected all the indexes where the store is 1, which is why we always have the same features !"
   ]
  },
  {
   "cell_type": "markdown",
   "metadata": {},
   "source": [
    "In order to further optimize RAM usage, you can use the OneHotStore, built specifically for one-hot encoded features. The store will only keep the index of the one of each element and will consitute the one-hot vector only when needed."
   ]
  },
  {
   "cell_type": "code",
   "execution_count": null,
   "metadata": {},
   "outputs": [],
   "source": [
    "from choice_learn.data import OneHotStore"
   ]
  },
  {
   "cell_type": "code",
   "execution_count": null,
   "metadata": {
    "keep_output": true
   },
   "outputs": [
    {
     "name": "stdout",
     "output_type": "stream",
     "text": [
      "RAM storage of the OneHotStore: {'a': 0, 'b': 1, 'c': 2} with sequence: ['a' 'a' 'a' 'c' 'b' 'b' 'a']\n",
      "One-hot vector at index 0: [1. 0. 0.]\n",
      "One-hot vector at indexes [0, 1, 3]:\n",
      "[[1. 0. 0.]\n",
      " [1. 0. 0.]\n",
      " [0. 0. 1.]]\n"
     ]
    }
   ],
   "source": [
    "store = OneHotStore.from_sequence([\"a\", \"a\", \"a\", \"c\", \"b\", \"b\", \"a\"])\n",
    "\n",
    "# When using from_sequence, the store collects ranked order (lower to higher) of each element as index\n",
    "print(\"RAM storage of the OneHotStore:\", store.store, \"with sequence:\", store.sequence)\n",
    "# When indexing with iloc, we can access the one-hot encoding of the element at index i in the sequence\n",
    "print(\"One-hot vector at index 0:\", store.batch[0])\n",
    "print(\"One-hot vector at indexes [0, 1, 3]:\")\n",
    "print(store.batch[[0, 1, 3]])"
   ]
  },
  {
   "cell_type": "markdown",
   "metadata": {},
   "source": [
    "- Add: Example from pandas.DataFrame"
   ]
  },
  {
   "cell_type": "markdown",
   "metadata": {},
   "source": [
    "### Ready-to-use datasets\n",
    "A few well-known open source datasets are directly integrated and the package and can be downloaded in one line:\n",
    "- SwissMetro from Bierlaire et al (2001)\n",
    "- ModeCanada from Koppleman et al. (1993)\n",
    "\n",
    "If you feel like another open-source dataset should be included, reach out !"
   ]
  },
  {
   "cell_type": "code",
   "execution_count": null,
   "metadata": {},
   "outputs": [],
   "source": [
    "from choice_learn.datasets import load_swissmetro, load_modecanada\n",
    "\n",
    "canada_choice_dataset = load_modecanada()\n",
    "swissmetro_choice_dataset = load_swissmetro()"
   ]
  },
  {
   "cell_type": "markdown",
   "metadata": {},
   "source": [
    "The datasets can also be downloaded as dataframes:"
   ]
  },
  {
   "cell_type": "code",
   "execution_count": null,
   "metadata": {
    "keep_output": true
   },
   "outputs": [
    {
     "data": {
      "text/html": [
       "<div>\n",
       "<style scoped>\n",
       "    .dataframe tbody tr th:only-of-type {\n",
       "        vertical-align: middle;\n",
       "    }\n",
       "\n",
       "    .dataframe tbody tr th {\n",
       "        vertical-align: top;\n",
       "    }\n",
       "\n",
       "    .dataframe thead th {\n",
       "        text-align: right;\n",
       "    }\n",
       "</style>\n",
       "<table border=\"1\" class=\"dataframe\">\n",
       "  <thead>\n",
       "    <tr style=\"text-align: right;\">\n",
       "      <th></th>\n",
       "      <th>case</th>\n",
       "      <th>alt</th>\n",
       "      <th>choice</th>\n",
       "      <th>dist</th>\n",
       "      <th>cost</th>\n",
       "      <th>ivt</th>\n",
       "      <th>ovt</th>\n",
       "      <th>freq</th>\n",
       "      <th>income</th>\n",
       "      <th>urban</th>\n",
       "      <th>noalt</th>\n",
       "    </tr>\n",
       "  </thead>\n",
       "  <tbody>\n",
       "    <tr>\n",
       "      <th>1</th>\n",
       "      <td>1</td>\n",
       "      <td>train</td>\n",
       "      <td>0</td>\n",
       "      <td>83</td>\n",
       "      <td>28.25</td>\n",
       "      <td>50</td>\n",
       "      <td>66</td>\n",
       "      <td>4</td>\n",
       "      <td>45.0</td>\n",
       "      <td>0</td>\n",
       "      <td>2</td>\n",
       "    </tr>\n",
       "    <tr>\n",
       "      <th>2</th>\n",
       "      <td>1</td>\n",
       "      <td>car</td>\n",
       "      <td>1</td>\n",
       "      <td>83</td>\n",
       "      <td>15.77</td>\n",
       "      <td>61</td>\n",
       "      <td>0</td>\n",
       "      <td>0</td>\n",
       "      <td>45.0</td>\n",
       "      <td>0</td>\n",
       "      <td>2</td>\n",
       "    </tr>\n",
       "    <tr>\n",
       "      <th>3</th>\n",
       "      <td>2</td>\n",
       "      <td>train</td>\n",
       "      <td>0</td>\n",
       "      <td>83</td>\n",
       "      <td>28.25</td>\n",
       "      <td>50</td>\n",
       "      <td>66</td>\n",
       "      <td>4</td>\n",
       "      <td>25.0</td>\n",
       "      <td>0</td>\n",
       "      <td>2</td>\n",
       "    </tr>\n",
       "    <tr>\n",
       "      <th>4</th>\n",
       "      <td>2</td>\n",
       "      <td>car</td>\n",
       "      <td>1</td>\n",
       "      <td>83</td>\n",
       "      <td>15.77</td>\n",
       "      <td>61</td>\n",
       "      <td>0</td>\n",
       "      <td>0</td>\n",
       "      <td>25.0</td>\n",
       "      <td>0</td>\n",
       "      <td>2</td>\n",
       "    </tr>\n",
       "    <tr>\n",
       "      <th>5</th>\n",
       "      <td>3</td>\n",
       "      <td>train</td>\n",
       "      <td>0</td>\n",
       "      <td>83</td>\n",
       "      <td>28.25</td>\n",
       "      <td>50</td>\n",
       "      <td>66</td>\n",
       "      <td>4</td>\n",
       "      <td>70.0</td>\n",
       "      <td>0</td>\n",
       "      <td>2</td>\n",
       "    </tr>\n",
       "  </tbody>\n",
       "</table>\n",
       "</div>"
      ],
      "text/plain": [
       "   case    alt  choice  dist   cost  ivt  ovt  freq  income  urban  noalt\n",
       "1     1  train       0    83  28.25   50   66     4    45.0      0      2\n",
       "2     1    car       1    83  15.77   61    0     0    45.0      0      2\n",
       "3     2  train       0    83  28.25   50   66     4    25.0      0      2\n",
       "4     2    car       1    83  15.77   61    0     0    25.0      0      2\n",
       "5     3  train       0    83  28.25   50   66     4    70.0      0      2"
      ]
     },
     "execution_count": null,
     "metadata": {},
     "output_type": "execute_result"
    }
   ],
   "source": [
    "canada_df = load_modecanada(as_frame=True)\n",
    "canada_df.head()"
   ]
  },
  {
   "cell_type": "markdown",
   "metadata": {},
   "source": []
  },
  {
   "cell_type": "markdown",
   "metadata": {},
   "source": []
  }
 ],
 "metadata": {
  "kernelspec": {
   "display_name": "tf_env",
   "language": "python",
   "name": "python3"
  },
  "language_info": {
   "codemirror_mode": {
    "name": "ipython",
    "version": 3
   },
   "file_extension": ".py",
   "mimetype": "text/x-python",
   "name": "python",
   "nbconvert_exporter": "python",
   "pygments_lexer": "ipython3",
   "version": "3.11.4"
  }
 },
 "nbformat": 4,
 "nbformat_minor": 2
}
