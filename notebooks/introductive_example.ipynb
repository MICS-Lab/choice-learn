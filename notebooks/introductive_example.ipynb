{
 "cells": [
  {
   "cell_type": "markdown",
   "metadata": {},
   "source": [
    "<img src=\"../docs/choice_learn_official_logo.png\" width=\"256\">\n",
    "\n",
    "Choice-Learn is a Python package designed to help building discrete choice models. In particular you will find:\n",
    "\n",
    "- Optimized **Data** handling with the ChoiceDataset object and ready-to-use datasets\n",
    "- **Modelling** tools with:\n",
    "    - Efficient well-known choice models\n",
    "    - Customizable class ChoiceModel to build your own model\n",
    "    - Estimation options such as choosing the method (LBFGS, Gradient Descent, etc...)\n",
    "- Divers **Tools** revolving around choice models such as an Assortment Optimizer\n",
    "\n",
    "\n",
    "### Discrete Choice Modelling\n",
    "Discrete choice models aim at explaining or predicting a choice from a set of alternatives. Well known use-cases include analyzing people choice of mean of transport or products purchases in stores.\n",
    "\n",
    "If you are new to choice modelling, you can check this [resource](https://www.publichealth.columbia.edu/research/population-health-methods/discrete-choice-model-and-analysis). \n",
    "\n",
    "### Tutorial\n",
    "In this notebook we will describe step-by-step the estimation of a choice model.\n",
    "\n",
    "\n"
   ]
  },
  {
   "cell_type": "code",
   "execution_count": null,
   "metadata": {},
   "outputs": [],
   "source": []
  }
 ],
 "metadata": {
  "kernelspec": {
   "display_name": "tf_env",
   "language": "python",
   "name": "python3"
  },
  "language_info": {
   "codemirror_mode": {
    "name": "ipython",
    "version": 3
   },
   "file_extension": ".py",
   "mimetype": "text/x-python",
   "name": "python",
   "nbconvert_exporter": "python",
   "pygments_lexer": "ipython3",
   "version": "3.11.4"
  }
 },
 "nbformat": 4,
 "nbformat_minor": 2
}
