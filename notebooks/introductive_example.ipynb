{
 "cells": [
  {
   "cell_type": "code",
   "execution_count": null,
   "metadata": {},
   "outputs": [],
   "source": [
    "import os\n",
    "import sys\n",
    "\n",
    "sys.path.append(\"../\")"
   ]
  },
  {
   "cell_type": "markdown",
   "metadata": {},
   "source": [
    "<img src=\"../docs/choice_learn_official_logo.png\" width=\"256\"> \n",
    "\n",
    "Choice-Learn is a Python package designed to help building discrete choice models. In particular you will find:\n",
    "\n",
    "- Optimized **Data** handling with the ChoiceDataset object and ready-to-use datasets\n",
    "- **Modelling** tools with:\n",
    "    - Efficient well-known choice models\n",
    "    - Customizable class ChoiceModel to build your own model\n",
    "    - Estimation options such as choosing the method (LBFGS, Gradient Descent, etc...)\n",
    "- Divers **Tools** revolving around choice models such as an Assortment Optimizer\n",
    "\n",
    "\n",
    "### Discrete Choice Modelling\n",
    "Discrete choice models aim at explaining or predicting a choice from a set of alternatives. Well known use-cases include analyzing people choice of mean of transport or products purchases in stores.\n",
    "\n",
    "If you are new to choice modelling, you can check this [resource](https://www.publichealth.columbia.edu/research/population-health-methods/discrete-choice-model-and-analysis). \n",
    "\n",
    "### Tutorial\n",
    "In this notebook we will describe step-by-step the estimation of a choice model.\n",
    "\n",
    "- [Data Handling](#Data:-items,-features-and-choices)\n",
    "- [Modelling](#modelling:-estimation-and-choice-probabilities)\n",
    "\n"
   ]
  },
  {
   "cell_type": "markdown",
   "metadata": {},
   "source": [
    "## Data: items, features and choices\n",
    "\n",
    "The data structure for choice modelling is somehow different than usual prediction use-cases.\n",
    "We consider a set of variable size of different alternatives. Each alternative is described by features and one is chosen among the set. Some contexts features (describing a customer, or time) can also affect the choice.\n",
    "Let's take an example where we want to predict a customer's next purchase.\n",
    "\n",
    "Three different items, i<sub>1</sub>, i<sub>2</sub> and i<sub>3</sub> are sold and we have gathered a small dataset:\n",
    "\n",
    "<table>\n",
    "<tr><th>1st Purchase: </th><th>2nd Purchase:</th><th>3rd Purchase:</th></tr>\n",
    "\n",
    "<tr><td>\n",
    "\n",
    "**Shelf**:\n",
    "\n",
    "| Item           | Price   | Promotion |\n",
    "| -------------- | ------- | --------- |\n",
    "| i<sub>1</sub>  | $100    | no        |\n",
    "| i<sub>2</sub>  | $140    | no        |\n",
    "| i<sub>3</sub>  | $200    | no        |\n",
    "\n",
    "**Customer Purchase:** i<sub>1</sub>\n",
    "\n",
    "</td><td>\n",
    "\n",
    "**Shelf**:\n",
    "\n",
    "| Item           | Price   | Promotion |\n",
    "| -------------- | ------- | --------- |\n",
    "| i<sub>1</sub>  | $100    | no        |\n",
    "| i<sub>2</sub>  | $120    | yes       |\n",
    "| i<sub>3</sub>  | $200    | no        |\n",
    "\n",
    "**Customer Purchase:** i<sub>2</sub>\n",
    "\n",
    "</td><td>\n",
    "\n",
    "**Shelf**:\n",
    "\n",
    "| Item           | Price        | Promotion    |\n",
    "| -------------- | ------------ | ------------ |\n",
    "| i<sub>1</sub>  | $100         | no           |\n",
    "| i<sub>2</sub>  | Out-Of-Stock | Out-Of-Stock |\n",
    "| i<sub>3</sub>  | $180         | yes          |\n",
    "\n",
    "**Customer Purchase:** i<sub>3</sub>\n",
    "\n",
    "</td></tr> </table>\n",
    "\n",
    "Indexing the items in the same order, we create the ChoiceDataset as follows:"
   ]
  },
  {
   "cell_type": "code",
   "execution_count": null,
   "metadata": {},
   "outputs": [],
   "source": [
    "choices = [0, 1, 2] # Indexes of the items chosen\n",
    "\n",
    "items_features_by_choice =  [\n",
    "    [\n",
    "        [100, 0], # choice 1, Item 1 [price, promotion]\n",
    "        [140, 0], # choice 1, Item 2 [price, promotion]\n",
    "        [200, 0], # choice 1, Item 2 [price, promotion]\n",
    "    ],\n",
    "    [\n",
    "        [100, 0], # choice 2, Item 1 [price, promotion]\n",
    "        [120, 1], # choice 2, Item 2 [price, promotion]\n",
    "        [200, 0], # choice 2, Item 2 [price, promotion]\n",
    "    ],\n",
    "    [\n",
    "        [100, 0], # choice 3, Item 1 [price, promotion]\n",
    "        [120, 1], # choice 3, Item 2 [price, promotion]\n",
    "        [180, 1], # choice 3, Item 2 [price, promotion]\n",
    "    ],\n",
    "]"
   ]
  },
  {
   "cell_type": "markdown",
   "metadata": {},
   "source": [
    "Item i<sub>2</sub> was out of stock during the last choice. Thus it could not have been chosen. In order to keep this information we create a matric indicating which items were available during each of the choices:"
   ]
  },
  {
   "cell_type": "code",
   "execution_count": null,
   "metadata": {},
   "outputs": [],
   "source": [
    "available_items_by_choice = [\n",
    "    [1, 1, 1], # All items available for choice 1\n",
    "    [1, 1, 1], # All items available for choice 2\n",
    "    [1, 0, 1], # Item 2 not available for choice 3\n",
    "]"
   ]
  },
  {
   "cell_type": "markdown",
   "metadata": {},
   "source": [
    "And now let's create the ChoiceDataset! We can also specify the features names if we want to."
   ]
  },
  {
   "cell_type": "code",
   "execution_count": null,
   "metadata": {},
   "outputs": [],
   "source": [
    "from choice_learn.data import ChoiceDataset\n",
    "\n",
    "dataset = ChoiceDataset(\n",
    "    choices=choices,\n",
    "    items_features_by_choice=items_features_by_choice,\n",
    "    items_features_by_choice_names=[\"price\", \"promotion\"],\n",
    "    available_items_by_choice=available_items_by_choice,\n",
    ")"
   ]
  },
  {
   "cell_type": "markdown",
   "metadata": {},
   "source": [
    "## Modelling: Estimation and choice probabilities"
   ]
  },
  {
   "cell_type": "markdown",
   "metadata": {},
   "source": []
  }
 ],
 "metadata": {
  "kernelspec": {
   "display_name": "tf_env",
   "language": "python",
   "name": "python3"
  },
  "language_info": {
   "codemirror_mode": {
    "name": "ipython",
    "version": 3
   },
   "file_extension": ".py",
   "mimetype": "text/x-python",
   "name": "python",
   "nbconvert_exporter": "python",
   "pygments_lexer": "ipython3",
   "version": "3.11.4"
  }
 },
 "nbformat": 4,
 "nbformat_minor": 2
}
