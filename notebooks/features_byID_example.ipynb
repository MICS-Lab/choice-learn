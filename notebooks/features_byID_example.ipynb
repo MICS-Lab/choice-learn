{
 "cells": [
  {
   "cell_type": "code",
   "execution_count": null,
   "metadata": {},
   "outputs": [],
   "source": [
    "import os\n",
    "\n",
    "# Remove GPU use\n",
    "os.environ[\"CUDA_VISIBLE_DEVICES\"] = \"\"\n",
    "\n",
    "import sys\n",
    "from pathlib import Path\n",
    "\n",
    "sys.path.append(\"../\")\n",
    "\n",
    "import numpy as np\n",
    "import pandas as pd"
   ]
  },
  {
   "cell_type": "code",
   "execution_count": null,
   "metadata": {},
   "outputs": [],
   "source": [
    "from choice_learn.data.storage import FeaturesStorage, OneHotStorage\n",
    "from choice_learn.data import ChoiceDataset"
   ]
  },
  {
   "cell_type": "markdown",
   "metadata": {},
   "source": [
    "### Different Instantiation Possibilities for Storage:"
   ]
  },
  {
   "cell_type": "code",
   "execution_count": null,
   "metadata": {},
   "outputs": [],
   "source": [
    "features = {\"customerA\": [1, 2, 3], \"customerB\": [4, 5, 6], \"customerC\": [7, 8, 9]}\n",
    "storage = FeaturesStorage(values=features, values_names=[\"age\", \"income\", \"children_nb\"], name=\"customers_features\")"
   ]
  },
  {
   "cell_type": "code",
   "execution_count": null,
   "metadata": {},
   "outputs": [],
   "source": [
    "storage[[\"customerA\", \"customerC\"]]"
   ]
  },
  {
   "cell_type": "code",
   "execution_count": null,
   "metadata": {},
   "outputs": [],
   "source": [
    "storage.batch[[\"customerA\", \"customerC\", \"customerA\", \"customerC\"]]"
   ]
  },
  {
   "cell_type": "code",
   "execution_count": null,
   "metadata": {},
   "outputs": [],
   "source": []
  },
  {
   "cell_type": "code",
   "execution_count": null,
   "metadata": {},
   "outputs": [],
   "source": [
    "features = [[1, 2, 3], [4, 5, 6], [7, 8, 9]]\n",
    "ids = [\"customerA\", \"customerB\", \"customerC\"]\n",
    "\n",
    "storage = FeaturesStorage(ids=ids, values=features, values_names=[\"age\", \"income\", \"children_nb\"], name=\"customers\")\n",
    "storage.batch[[\"customerA\", \"customerC\", \"customerA\", \"customerC\"]]"
   ]
  },
  {
   "cell_type": "code",
   "execution_count": null,
   "metadata": {},
   "outputs": [],
   "source": [
    "features = [[1, 2, 3], [4, 5, 6], [7, 8, 9]]\n",
    "\n",
    "storage = FeaturesStorage(values=features, values_names=[\"age\", \"income\", \"children_nb\"], name=\"customers\")\n",
    "storage.batch[[0, 2, 0, 2]]"
   ]
  },
  {
   "cell_type": "code",
   "execution_count": null,
   "metadata": {},
   "outputs": [],
   "source": [
    "features = {\"age\": [1, 2, 3], \"income\": [4, 5, 6], \"children_nb\": [7, 8, 9], \"id\": [\"customerA\", \"customerB\", \"customerC\"]}\n",
    "features = pd.DataFrame(features)\n",
    "storage = FeaturesStorage(values=features, name=\"customers\")\n",
    "storage.batch[[\"customerA\", \"customerC\", \"customerA\", \"customerC\"]]"
   ]
  },
  {
   "cell_type": "code",
   "execution_count": null,
   "metadata": {},
   "outputs": [],
   "source": [
    "features = {\"age\": [1, 2, 3], \"income\": [4, 5, 6], \"children_nb\": [7, 8, 9]}\n",
    "features = pd.DataFrame(features, index=[\"customerA\", \"customerB\", \"customerC\"])\n",
    "storage = FeaturesStorage(values=features, name=\"customers\")\n",
    "storage.batch[[\"customerA\", \"customerC\", \"customerA\", \"customerC\"]]"
   ]
  },
  {
   "cell_type": "code",
   "execution_count": null,
   "metadata": {},
   "outputs": [],
   "source": [
    "ids = [0, 1, 2, 3, 4]\n",
    "values = [4, 3, 2, 1, 0]\n",
    "\n",
    "oh_storage = OneHotStorage(ids=ids, values=values, name=\"OneHotTest\")"
   ]
  },
  {
   "cell_type": "code",
   "execution_count": null,
   "metadata": {},
   "outputs": [],
   "source": [
    "oh_storage.batch[[0, 2, 4]], oh_storage.get_element_from_index(0)"
   ]
  },
  {
   "cell_type": "code",
   "execution_count": null,
   "metadata": {},
   "outputs": [],
   "source": [
    "oh_storage = OneHotStorage(values=values, name=\"OneHotTest\")\n",
    "oh_storage.batch[[0, 2, 4]]"
   ]
  },
  {
   "cell_type": "code",
   "execution_count": null,
   "metadata": {},
   "outputs": [],
   "source": [
    "oh_storage = OneHotStorage(ids=ids, name=\"OneHotTest\")\n",
    "oh_storage.batch[[0, 2, 4]]"
   ]
  },
  {
   "cell_type": "code",
   "execution_count": null,
   "metadata": {},
   "outputs": [],
   "source": [
    "values_dict = {k:v for k, v in zip(ids, values)}\n",
    "oh_storage = OneHotStorage(values=values_dict, name=\"OneHotTest\")\n",
    "oh_storage.batch[[0, 2, 4]]"
   ]
  },
  {
   "cell_type": "code",
   "execution_count": null,
   "metadata": {},
   "outputs": [],
   "source": [
    "oh_storage = OneHotStorage(ids=ids, values=values_dict, name=\"OneHotTest\")\n",
    "try:\n",
    "    oh_storage = OneHotStorage(name=\"OneHotTest\")\n",
    "    assert False\n",
    "except:\n",
    "    assert True"
   ]
  },
  {
   "cell_type": "markdown",
   "metadata": {},
   "source": [
    "### Use of FeaturesByID and Storage in the ChoiceDataset"
   ]
  },
  {
   "cell_type": "code",
   "execution_count": null,
   "metadata": {},
   "outputs": [],
   "source": [
    "features = {\"customerA\": [1, 2, 3], \"customerB\": [4, 5, 6], \"customerC\": [7, 8, 9]}\n",
    "storage = FeaturesStorage(values=features, values_names=[\"age\", \"income\", \"children_nb\"], name=\"customers_features\")"
   ]
  },
  {
   "cell_type": "code",
   "execution_count": null,
   "metadata": {},
   "outputs": [],
   "source": [
    "fixed_items_features = np.eye(3)\n",
    "prices = [[[4, 1], [4, 1], [5, 1]], [[5, 2], [4, 2], [6, 2]],\n",
    "          [[6, 3], [7, 3], [8, 3]], [[4, 4], [5, 4], [4, 4]]]\n",
    "choices = [0, 1 , 2, 2]\n",
    "contexts_features = [[\"customerA\"], [\"customerB\"], [\"customerC\"], [\"customerA\"]]\n",
    "\n",
    "dataset = ChoiceDataset(\n",
    "    fixed_items_features=fixed_items_features,\n",
    "    contexts_features=contexts_features,\n",
    "    choices=choices,\n",
    "    contexts_items_features=prices,\n",
    "    features_by_ids=[storage],\n",
    "    contexts_features_names=[\"customers_features\"],\n",
    "    )"
   ]
  },
  {
   "cell_type": "code",
   "execution_count": null,
   "metadata": {},
   "outputs": [],
   "source": [
    "dataset.get_choices_batch(0)"
   ]
  },
  {
   "cell_type": "code",
   "execution_count": null,
   "metadata": {},
   "outputs": [],
   "source": [
    "dataset.batch[0]"
   ]
  },
  {
   "cell_type": "code",
   "execution_count": null,
   "metadata": {},
   "outputs": [],
   "source": [
    "dataset.get_choices_batch([1, 2])"
   ]
  },
  {
   "cell_type": "code",
   "execution_count": null,
   "metadata": {},
   "outputs": [],
   "source": [
    "myd = {1: 2, 2:3, 3:4, 4:5}"
   ]
  },
  {
   "cell_type": "code",
   "execution_count": null,
   "metadata": {},
   "outputs": [],
   "source": [
    "np.sort(list(myd.keys()))"
   ]
  },
  {
   "cell_type": "code",
   "execution_count": null,
   "metadata": {},
   "outputs": [],
   "source": [
    "dataset.batch[1:3]"
   ]
  },
  {
   "cell_type": "code",
   "execution_count": null,
   "metadata": {},
   "outputs": [],
   "source": [
    "features = {\"item1\": [1, 2, 3], \"item2\": [4, 5, 6], \"item3\": [7, 8, 9], \"item4\": [10, 11, 12]}\n",
    "storage = FeaturesStorage(values=features, values_names=[\"f1\", \"f2\", \"f3\"], name=\"items_features\")\n",
    "\n",
    "price_storage = {\"price1\": [1], \"price2\": [2], \"price3\": [3], \"price4\": [4]}\n",
    "price_storage = FeaturesStorage(values=price_storage, values_names=[\"price\"], name=\"items_prices\")\n",
    "\n",
    "fixed_items_features = np.eye(3)\n",
    "prices = [[[4, 1], [4, 1], [5, 1]], [[5, 2], [4, 2], [6, 2]],\n",
    "          [[6, 3], [7, 3], [8, 3]], [[4, 4], [5, 4], [4, 4]]]\n",
    "contexts_items_features = [[[\"item1\", \"price1\"], [\"item2\", \"price2\"], [\"item3\", \"price3\"]],\n",
    "                           [[\"item1\", \"price1\"], [\"item4\", \"price2\"], [\"item3\", \"price4\"]],\n",
    "                           [[\"item1\", \"price1\"], [\"item2\", \"price3\"], [\"item3\", \"price4\"]],\n",
    "                           [[\"item1\", \"price1\"], [\"item2\", \"price3\"], [\"item3\", \"price4\"]]]\n",
    "choices = [0, 1 , 2, 2]\n",
    "contexts_features = [[0, 1], [1, 0], [1, 1], [0, 0]]\n",
    "\n",
    "dataset = ChoiceDataset(\n",
    "    fixed_items_features=fixed_items_features,\n",
    "    contexts_features=contexts_features,\n",
    "    choices=choices,\n",
    "    contexts_items_features=contexts_items_features,\n",
    "    features_by_ids=[storage, price_storage],\n",
    "    contexts_items_features_names=[\"items_features\", \"items_prices\"],\n",
    "    )"
   ]
  },
  {
   "cell_type": "code",
   "execution_count": null,
   "metadata": {},
   "outputs": [],
   "source": [
    "dataset.contexts_items_features_map[0][0].storage"
   ]
  },
  {
   "cell_type": "code",
   "execution_count": null,
   "metadata": {},
   "outputs": [],
   "source": [
    "dataset.get_choices_batch([0, 1])"
   ]
  },
  {
   "cell_type": "code",
   "execution_count": null,
   "metadata": {},
   "outputs": [],
   "source": [
    "dataset.batch[[0, 1]]"
   ]
  },
  {
   "cell_type": "code",
   "execution_count": null,
   "metadata": {},
   "outputs": [],
   "source": [
    "a = np.array([1, 2, 3])"
   ]
  },
  {
   "cell_type": "code",
   "execution_count": null,
   "metadata": {},
   "outputs": [],
   "source": [
    "a[2:2]"
   ]
  },
  {
   "cell_type": "code",
   "execution_count": null,
   "metadata": {},
   "outputs": [],
   "source": [
    "np.concatenate([a[:2], a[2:2], a[2:3]])"
   ]
  },
  {
   "cell_type": "code",
   "execution_count": null,
   "metadata": {},
   "outputs": [],
   "source": [
    "myd = {1:2, 2:3}"
   ]
  },
  {
   "cell_type": "code",
   "execution_count": null,
   "metadata": {},
   "outputs": [],
   "source": [
    "next(iter(myd.values()))"
   ]
  },
  {
   "cell_type": "code",
   "execution_count": null,
   "metadata": {},
   "outputs": [],
   "source": []
  }
 ],
 "metadata": {
  "kernelspec": {
   "display_name": "tf_env",
   "language": "python",
   "name": "python3"
  },
  "language_info": {
   "codemirror_mode": {
    "name": "ipython",
    "version": 3
   },
   "file_extension": ".py",
   "mimetype": "text/x-python",
   "name": "python",
   "nbconvert_exporter": "python",
   "pygments_lexer": "ipython3",
   "version": "3.11.4"
  }
 },
 "nbformat": 4,
 "nbformat_minor": 2
}
