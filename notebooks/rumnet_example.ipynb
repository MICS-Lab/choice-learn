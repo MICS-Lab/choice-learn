{
 "cells": [
  {
   "cell_type": "markdown",
   "metadata": {},
   "source": [
    "## Introduction to modelling with RUMnet"
   ]
  },
  {
   "cell_type": "markdown",
   "metadata": {},
   "source": []
  },
  {
   "cell_type": "code",
   "execution_count": null,
   "metadata": {},
   "outputs": [],
   "source": [
    "import os\n",
    "\n",
    "# Remove GPU use\n",
    "os.environ[\"CUDA_VISIBLE_DEVICES\"] = \"\"\n",
    "\n",
    "import sys\n",
    "\n",
    "sys.path.append(\"../\")\n",
    "\n",
    "import numpy as np\n",
    "import pandas as pd\n",
    "\n",
    "from choice_learn.data import ChoiceDataset\n",
    "from choice_learn.models import RUMnet\n",
    "from choice_learn.datasets import load_swissmetro"
   ]
  },
  {
   "cell_type": "code",
   "execution_count": null,
   "metadata": {},
   "outputs": [],
   "source": [
    "df = load_swissmetro(as_frame=True)"
   ]
  },
  {
   "cell_type": "code",
   "execution_count": null,
   "metadata": {},
   "outputs": [],
   "source": [
    "df = df.loc[df.CHOICE!=0]"
   ]
  },
  {
   "cell_type": "code",
   "execution_count": null,
   "metadata": {},
   "outputs": [],
   "source": [
    "len(df)"
   ]
  },
  {
   "cell_type": "code",
   "execution_count": null,
   "metadata": {},
   "outputs": [],
   "source": [
    "df.head()"
   ]
  },
  {
   "cell_type": "code",
   "execution_count": null,
   "metadata": {},
   "outputs": [],
   "source": [
    "choices = df.CHOICE.to_numpy() - 1\n",
    "contexts_items_availabilities = df[[\"TRAIN_AV\", \"SM_AV\", \"CAR_AV\"]].to_numpy()\n",
    "contexts_items_features = np.stack([df[[\"TRAIN_TT\", \"TRAIN_CO\", \"TRAIN_HE\"]].to_numpy(),\n",
    "                                    df[[\"SM_TT\", \"SM_CO\", \"SM_HE\"]].to_numpy(),\n",
    "                                    df[[\"CAR_TT\", \"CAR_CO\", \"CAR_HE\"]].to_numpy()], axis=1)\n",
    "# contexts_features = df[[\"GROUP\", \"PURPOSE\", \"FIRST\", \"TICKET\", \"WHO\", \"LUGGAGE\", \"AGE\", \"MALE\",\n",
    "#                         \"INCOME\", \"GA\", \"ORIGIN\", \"DEST\"]].to_numpy()\n",
    "fixed_items_features = np.eye(3)\n",
    "\n",
    "contexts_items_features[:, :, 0] = contexts_items_features[:, :, 0] / 1000\n",
    "contexts_items_features[:, :, 1] = contexts_items_features[:, :, 1] / 5000\n",
    "contexts_items_features[:, :, 2] = contexts_items_features[:, :, 2] / 100\n",
    "\n",
    "long_data = pd.get_dummies(df, columns=[\"GROUP\", \"PURPOSE\", \"FIRST\", \"TICKET\", \"WHO\", \"LUGGAGE\", \"AGE\", \"MALE\",\n",
    "                        \"INCOME\", \"GA\", \"ORIGIN\", \"DEST\"], drop_first=False)\n",
    "\n",
    "contexts_features = []\n",
    "for col in long_data.columns:\n",
    "    if col.startswith(\"GROUP\"):\n",
    "        contexts_features.append(col)\n",
    "    if col.startswith(\"PURPOSE\"):\n",
    "        contexts_features.append(col)\n",
    "    if col.startswith(\"FIRST\"):\n",
    "        contexts_features.append(col)\n",
    "    if col.startswith(\"TICKET\"):\n",
    "        contexts_features.append(col)\n",
    "    if col.startswith(\"WHO\"):\n",
    "        contexts_features.append(col)\n",
    "    if col.startswith(\"LUGGAGE\"):\n",
    "        contexts_features.append(col)\n",
    "    if col.startswith(\"AGE\"):\n",
    "        contexts_features.append(col)\n",
    "    if col.startswith(\"MALE\"):\n",
    "        contexts_features.append(col)\n",
    "    if col.startswith(\"INCOME\"):\n",
    "        contexts_features.append(col)\n",
    "    if col.startswith(\"GA\"):\n",
    "        contexts_features.append(col)\n",
    "    if col.startswith(\"ORIGIN\"):\n",
    "        contexts_features.append(col)\n",
    "    if col.startswith(\"DEST\"):\n",
    "        print(col)\n",
    "        contexts_features.append(col)\n",
    "\n",
    "contexts_features = long_data[contexts_features].to_numpy()"
   ]
  },
  {
   "cell_type": "code",
   "execution_count": null,
   "metadata": {},
   "outputs": [],
   "source": [
    "contexts_features.shape"
   ]
  },
  {
   "cell_type": "code",
   "execution_count": null,
   "metadata": {},
   "outputs": [],
   "source": [
    "dataset = ChoiceDataset(fixed_items_features=(fixed_items_features.astype(\"float32\"), ),\n",
    "                        contexts_features=(contexts_features.astype(\"float32\"), ),\n",
    "                        contexts_items_features=(contexts_items_features.astype(\"float32\"), ),\n",
    "                        contexts_items_availabilities=contexts_items_availabilities,\n",
    "                        choices=choices)"
   ]
  },
  {
   "cell_type": "code",
   "execution_count": null,
   "metadata": {},
   "outputs": [],
   "source": [
    "model_args = {\n",
    "    \"num_products_features\": 6,\n",
    "    \"num_customer_features\": 83,\n",
    "    \"width_eps_x\": 20,\n",
    "    \"depth_eps_x\": 5,\n",
    "    \"heterogeneity_x\": 10,\n",
    "    \"width_eps_z\": 20,\n",
    "    \"depth_eps_z\": 5,\n",
    "    \"heterogeneity_z\": 10,\n",
    "    \"width_u\": 20,\n",
    "    \"depth_u\": 5,\n",
    "    \"tol\": 1,\n",
    "    \"optimizer\": \"Adam\",\n",
    "    \"lr\": 0.002,\n",
    "    \"logmin\": 1e-10,\n",
    "    \"label_smoothing\": 0.02,\n",
    "    \"callbacks\": [],\n",
    "}\n",
    "model = RUMnet(**model_args)\n",
    "model.instantiate()"
   ]
  },
  {
   "cell_type": "code",
   "execution_count": null,
   "metadata": {},
   "outputs": [],
   "source": [
    "model.fit(dataset, n_epochs=100, batch_size=100)"
   ]
  },
  {
   "cell_type": "code",
   "execution_count": null,
   "metadata": {},
   "outputs": [],
   "source": []
  }
 ],
 "metadata": {
  "kernelspec": {
   "display_name": "tf_env",
   "language": "python",
   "name": "python3"
  },
  "language_info": {
   "codemirror_mode": {
    "name": "ipython",
    "version": 3
   },
   "file_extension": ".py",
   "mimetype": "text/x-python",
   "name": "python",
   "nbconvert_exporter": "python",
   "pygments_lexer": "ipython3",
   "version": "3.11.4"
  }
 },
 "nbformat": 4,
 "nbformat_minor": 2
}
