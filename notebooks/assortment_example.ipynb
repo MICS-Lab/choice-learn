{
 "cells": [
  {
   "cell_type": "markdown",
   "metadata": {},
   "source": [
    "# Assortment Example\n",
    "A short example for assortment optimization under the conditional MNL."
   ]
  },
  {
   "cell_type": "code",
   "execution_count": null,
   "metadata": {},
   "outputs": [],
   "source": [
    "# Importing the right base libraries\n",
    "import os\n",
    "# Remove GPU use\n",
    "os.environ[\"CUDA_VISIBLE_DEVICES\"] = \"\"\n",
    "\n",
    "import sys\n",
    "sys.path.append(\"../\")\n",
    "\n",
    "import matplotlib.pyplot as plt\n",
    "import numpy as np\n",
    "import pandas as pd"
   ]
  },
  {
   "cell_type": "markdown",
   "metadata": {},
   "source": [
    "We will use the TaFeng Dataset that is available on [Kaggle](https://www.kaggle.com/datasets/chiranjivdas09/ta-feng-grocery-dataset). You can load it automatically with Choice-Learn !"
   ]
  },
  {
   "cell_type": "code",
   "execution_count": null,
   "metadata": {},
   "outputs": [],
   "source": [
    "from choice_learn.datasets.examples import load_tafeng"
   ]
  },
  {
   "cell_type": "code",
   "execution_count": null,
   "metadata": {},
   "outputs": [],
   "source": [
    "# Short illustration of the dataset\n",
    "tafeng_df = load_tafeng(as_frame=True)\n",
    "tafeng_df.head()"
   ]
  },
  {
   "cell_type": "markdown",
   "metadata": {},
   "source": [
    "In this example we will use the sales_price and age_group features to estimate a discrete choice model in the form of a conditional MNL:\n",
    "\n",
    "for a customer $z$ and a product $i$, we define the utility function:\n",
    "\n",
    "$$U(i, z) = u_i + e_{dem(z)} \\cdot p_i$$\n",
    "\n",
    "with:\n",
    "- $u_i$ the base utility of product $i$\n",
    "- $p_i$ the price of product $i$\n",
    "- $e_{dem(z)}$ the price elasticity of customer $z$ depending of its age\n",
    "\n",
    "We decide to estimate three coefficients of price elasticity for customers <=25 y.o, 26<=.<=55 y.o. and =>56 y.o."
   ]
  },
  {
   "cell_type": "code",
   "execution_count": null,
   "metadata": {},
   "outputs": [],
   "source": [
    "# Let's reload the TaFeng dataset as a Choice Dataset\n",
    "dataset = load_tafeng(as_frame=False, preprocessing=\"assort_example\")\n",
    "\n",
    "# The age categories are encoded as OneHot features:\n",
    "print(\"Age Categories Encoding for choices 0, 4 and 16:\")\n",
    "print(dataset.contexts_features[0][[0, 4, 16]])"
   ]
  },
  {
   "cell_type": "markdown",
   "metadata": {},
   "source": [
    "Let's define a custom model that would fit our formulation using Choice-Learn's ChoiceModel inheritance:"
   ]
  },
  {
   "cell_type": "code",
   "execution_count": null,
   "metadata": {},
   "outputs": [],
   "source": [
    "import tensorflow as tf\n",
    "\n",
    "from choice_learn.models.base_model import ChoiceModel\n",
    "\n",
    "\n",
    "class TaFengMNL(ChoiceModel):\n",
    "    \"\"\"Custom model for the TaFeng dataset.\"\"\"\n",
    "\n",
    "    def __init__(self, **kwargs):\n",
    "        \"\"\"Instantiation of our custom model.\"\"\"\n",
    "        # Standard inheritance stuff\n",
    "        super().__init__(**kwargs)\n",
    "\n",
    "        # Instantiation of base utilties weights\n",
    "        # We have 25 items in the dataset making 25 weights\n",
    "        self.base_utilities = tf.Variable(\n",
    "                            tf.random_normal_initializer(0.0, 0.02, seed=42)(shape=(1, 25))\n",
    "                        )\n",
    "        # Instantiation of price elasticities weights\n",
    "        # We have 3 age categories making 3 weights\n",
    "        self.price_elasticities = tf.Variable(\n",
    "                            tf.random_normal_initializer(0.0, 0.02, seed=42)(shape=(1, 3))\n",
    "                        )\n",
    "        # Don't forget to add the weights to be optimized in self.weights !\n",
    "        self.weights = [self.base_utilities, self.price_elasticities]\n",
    "\n",
    "    def compute_batch_utility(self,\n",
    "                        fixed_items_features,\n",
    "                        contexts_features,\n",
    "                        contexts_items_features,\n",
    "                        contexts_items_availabilities,\n",
    "                        choices):\n",
    "        \"\"\"Function where to define the utility function for the model.\n",
    "\n",
    "        It uses a standard ChoiceModel signature that needs to be adapted to our usecase.\n",
    "\n",
    "        Parameters:\n",
    "        -----------\n",
    "        fixed_items_features : tf.Tensor\n",
    "            Fixed features of the items in the choice set. We do not have any here.\n",
    "        contexts_features : tf.Tensor\n",
    "            Features of the contexts. Here we have the customer age categories.\n",
    "        context_items_features : tf.Tensor\n",
    "            Features of the items in the choice set. Items Prices in our case.\n",
    "        contexts_items_availabilities : tf.Tensor\n",
    "            Availabilities of the items in the choice set. All items are always available in the dataset making it irrelevant.\n",
    "        choices : tf.Tensor\n",
    "            Choices made by the customers. Not relevant in utility computation here.\n",
    "\n",
    "        Returns:\n",
    "        --------\n",
    "        tf.Tensor\n",
    "            Utilities for each item in each choice set.\n",
    "        \"\"\"\n",
    "        # Unused arguments\n",
    "        _ = (fixed_items_features, contexts_items_availabilities, choices)\n",
    "\n",
    "        # Get the right price elasticity coefficient according to the age cateogry\n",
    "        price_coeffs = tf.tensordot(contexts_features,\n",
    "                                    tf.transpose(self.price_elasticities),\n",
    "                                    axes=1)\n",
    "        # Compute the utility: u_i + p_i * c\n",
    "        return tf.multiply(contexts_items_features[:, :, 0], price_coeffs) + self.base_utilities\n"
   ]
  },
  {
   "cell_type": "markdown",
   "metadata": {},
   "source": [
    "Let's estimate the model coefficients using the dataset !"
   ]
  },
  {
   "cell_type": "code",
   "execution_count": null,
   "metadata": {},
   "outputs": [],
   "source": [
    "model = TaFengMNL(optimizer=\"lbfgs\", epochs=1000)\n",
    "history = model.fit(dataset)"
   ]
  },
  {
   "cell_type": "markdown",
   "metadata": {},
   "source": [
    "We can observe each weight estimation with the .weights argument:"
   ]
  },
  {
   "cell_type": "code",
   "execution_count": null,
   "metadata": {},
   "outputs": [],
   "source": [
    "print(\"Model Negative Log-Likelihood: \", model.evaluate(dataset))\n",
    "print(\"Model Weights:\")\n",
    "print(\"Base Utilities u_i:\", model.weights[0].numpy())\n",
    "print(\"Price Elasticities:\", model.weights[1].numpy())"
   ]
  },
  {
   "cell_type": "markdown",
   "metadata": {},
   "source": [
    "As a short analysis we can observe that the price elasticiy in negative as expected and the younger the population the more impacted by the price.\\\n",
    "Our models looks good good enough for a first and fast modelization.\n",
    "Now let's see how to compute an optimal assortment using our model."
   ]
  },
  {
   "cell_type": "markdown",
   "metadata": {},
   "source": [
    "The first step is to compute the utility of each product. Here, let's consider that the last prices will also be the future prices of our products in our future assortment.\\\n",
    "It can be easily change if theses prices were to be changed.\\\n",
    "We can compute each age category utility using the *compute_batch_utility* method of our ChoiceModel:"
   ]
  },
  {
   "cell_type": "code",
   "execution_count": null,
   "metadata": {},
   "outputs": [],
   "source": [
    "future_prices = np.stack([dataset.contexts_items_features[0][-1]]*3, axis=0)\n",
    "age_category = np.array([[1., 0., 0.], [0., 1., 0.], [0., 0., 1.]]).astype(\"float32\")\n",
    "predicted_utilities = model.compute_batch_utility(fixed_items_features=None,\n",
    "                                                  contexts_features=age_category,\n",
    "                                                  contexts_items_features=future_prices,\n",
    "                                                  contexts_items_availabilities=None,\n",
    "                                                  choices=None\n",
    "                                                  )"
   ]
  },
  {
   "cell_type": "markdown",
   "metadata": {},
   "source": [
    "We compute the ratio of each age category appearance in our dataset to obtain an average utility for each product."
   ]
  },
  {
   "cell_type": "code",
   "execution_count": null,
   "metadata": {},
   "outputs": [],
   "source": [
    "age_frequencies = np.mean(dataset.contexts_features[0], axis=0)\n",
    "\n",
    "final_utilities = []\n",
    "for freq, ut in zip(age_frequencies, predicted_utilities):\n",
    "    final_utilities.append(freq*ut)\n",
    "final_utilities = np.mean(final_utilities, axis=0)"
   ]
  },
  {
   "cell_type": "markdown",
   "metadata": {},
   "source": [
    "We need to define what quantity needs to be optimized by our assortment. A usual answer is to optimize the revenue or margin. In our case we do not have these values, so let's say that we want to obtain the assortment with 12 products that will generate the highest turnover. # right word ?\\\n",
    "We have everything we need to use Choice-Learn's AssortmentOptimizer !"
   ]
  },
  {
   "cell_type": "code",
   "execution_count": null,
   "metadata": {},
   "outputs": [],
   "source": [
    "from choice_learn.toolbox.assortment_optimizer import AssortmentOptimizer\n",
    "\n",
    "opt = AssortmentOptimizer(\n",
    "                          utilities=np.exp(final_utilities), # Utilities need to be transformed with exponential function\n",
    "                          itemwise_values=future_prices[0][:, 0], # Values to optimize for each item, here price that is used to compute turnover\n",
    "                          assortment_size=12) # Size of the assortment we want"
   ]
  },
  {
   "cell_type": "code",
   "execution_count": null,
   "metadata": {},
   "outputs": [],
   "source": [
    "assortment, average_estimated_revenue = opt.solve()\n",
    "print(\"Our Optimal Assortment is:\")\n",
    "print(assortment)\n",
    "print(\"With an estimated average reveue of:\", average_estimated_revenue)"
   ]
  },
  {
   "cell_type": "markdown",
   "metadata": {},
   "source": [
    "## Ending Notes\n",
    "- In this example, the outside option is automatically integrated in the AssortmentOptimizer and not computed through the model. If you compute the outside option utility and give it to AssortmentOptimizer you can set its attribute *outside_option_given* to True.\n",
    "- The current AssortmentOptimzer uses [Gurobi](https://www.gurobi.com/) for which you need a license. Future developments will integrate OR-Tools that is OpenSource.\n",
    "- If you want to add custom constraints you can use the base code of the AssortmentOptimizer and manually add your constraints. Future developments will add an easy interface to integrate such needs.\n"
   ]
  },
  {
   "cell_type": "code",
   "execution_count": null,
   "metadata": {},
   "outputs": [],
   "source": []
  }
 ],
 "metadata": {
  "kernelspec": {
   "display_name": "tf_env",
   "language": "python",
   "name": "python3"
  },
  "language_info": {
   "codemirror_mode": {
    "name": "ipython",
    "version": 3
   },
   "file_extension": ".py",
   "mimetype": "text/x-python",
   "name": "python",
   "nbconvert_exporter": "python",
   "pygments_lexer": "ipython3",
   "version": "3.11.4"
  }
 },
 "nbformat": 4,
 "nbformat_minor": 2
}
