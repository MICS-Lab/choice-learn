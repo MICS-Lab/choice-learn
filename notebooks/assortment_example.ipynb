{
 "cells": [
  {
   "cell_type": "code",
   "execution_count": null,
   "metadata": {},
   "outputs": [],
   "source": [
    "import os\n",
    "os.environ[\"CUDA_VISIBLE_DEVICES\"] = \"\"\n",
    "import sys\n",
    "from pathlib import Path\n",
    "\n",
    "sys.path.append(\"../\")\n",
    "\n",
    "import matplotlib.pyplot as plt\n",
    "import numpy as np\n",
    "import pandas as pd"
   ]
  },
  {
   "cell_type": "code",
   "execution_count": null,
   "metadata": {},
   "outputs": [],
   "source": [
    "from choice_learn.datasets.examples import load_tafeng"
   ]
  },
  {
   "cell_type": "code",
   "execution_count": null,
   "metadata": {},
   "outputs": [],
   "source": [
    "df = load_tafeng(as_frame=True)\n",
    "df.head()"
   ]
  },
  {
   "cell_type": "code",
   "execution_count": null,
   "metadata": {},
   "outputs": [],
   "source": [
    "dataset = load_tafeng(as_frame=False, preprocessing=\"assort_example\")"
   ]
  },
  {
   "cell_type": "code",
   "execution_count": null,
   "metadata": {},
   "outputs": [],
   "source": [
    "dataset.contexts_items_features[0].shape"
   ]
  },
  {
   "cell_type": "code",
   "execution_count": null,
   "metadata": {},
   "outputs": [],
   "source": [
    "dataset.summary()"
   ]
  },
  {
   "cell_type": "code",
   "execution_count": null,
   "metadata": {},
   "outputs": [],
   "source": [
    "import tensorflow as tf\n",
    "price_elasticities = tf.Variable(\n",
    "                            tf.random_normal_initializer(0.0, 0.02, seed=42)(shape=(1, 3)) # 3 age categories\n",
    "                        )"
   ]
  },
  {
   "cell_type": "code",
   "execution_count": null,
   "metadata": {},
   "outputs": [],
   "source": [
    "tf.tensordot(dataset.contexts_features[0][:16].astype(\"float32\"), tf.transpose(price_elasticities),  axes=1)"
   ]
  },
  {
   "cell_type": "code",
   "execution_count": null,
   "metadata": {},
   "outputs": [],
   "source": [
    "dataset.contexts_items_features[0].shape, dataset.contexts_features[0].shape"
   ]
  },
  {
   "cell_type": "code",
   "execution_count": null,
   "metadata": {},
   "outputs": [],
   "source": [
    "from choice_learn.models.base_model import ChoiceModel"
   ]
  },
  {
   "cell_type": "code",
   "execution_count": null,
   "metadata": {},
   "outputs": [],
   "source": [
    "import tensorflow as tf\n",
    "\n",
    "\n",
    "class TaFengMNL(ChoiceModel):\n",
    "\n",
    "    def __init__(self, **kwargs):\n",
    "        super().__init__(**kwargs)\n",
    "\n",
    "        # base utilties\n",
    "        self.base_utilities = tf.Variable(\n",
    "                            tf.random_normal_initializer(0.0, 0.02, seed=42)(shape=(1, 25)) # 25 items\n",
    "                        )\n",
    "        # price elasticities\n",
    "        self.price_elasticities = tf.Variable(\n",
    "                            tf.random_normal_initializer(0.0, 0.02, seed=42)(shape=(1, 3)) # 3 age categories\n",
    "                        )\n",
    "                        \n",
    "        self.weights = [self.base_utilities, self.price_elasticities]\n",
    "\n",
    "    def compute_batch_utility(self,\n",
    "                        fixed_items_features,\n",
    "                        contexts_features,\n",
    "                        contexts_items_features,\n",
    "                        contexts_items_availabilities,\n",
    "                        choices):\n",
    "\n",
    "        # base utilities\n",
    "        # return tf.multiply(contexts_items_features[:, :, 0], tf.gather(self.price_elasticities, contexts_features[1], axis=1)[0]) + self.base_utilities\n",
    "        \n",
    "        price_coeffs = tf.tensordot(contexts_features, tf.transpose(self.price_elasticities),  axes=1)\n",
    "        return tf.multiply(contexts_items_features[:, :, 0], price_coeffs) + self.base_utilities\n"
   ]
  },
  {
   "cell_type": "code",
   "execution_count": null,
   "metadata": {},
   "outputs": [],
   "source": [
    "model = TaFengMNL(optimizer=\"lbfgs\", epochs=1000)\n",
    "history = model.fit(dataset)"
   ]
  },
  {
   "cell_type": "code",
   "execution_count": null,
   "metadata": {},
   "outputs": [],
   "source": [
    "plt.plot(history)"
   ]
  },
  {
   "cell_type": "code",
   "execution_count": null,
   "metadata": {},
   "outputs": [],
   "source": [
    "print(model.weights)"
   ]
  },
  {
   "cell_type": "code",
   "execution_count": null,
   "metadata": {},
   "outputs": [],
   "source": [
    "from choice_learn.toolbox.assortment_optimizer import AssortmentOptimizer\n",
    "from choice_learn.data import ChoiceDataset"
   ]
  },
  {
   "cell_type": "code",
   "execution_count": null,
   "metadata": {},
   "outputs": [],
   "source": [
    "future_prices = np.stack([dataset.contexts_items_features[0][-1]]*3, axis=0)\n",
    "age_category = np.array([[1., 0., 0.], [0., 1., 0.], [0., 0., 1.]]).astype(\"float32\")\n",
    "choices = [0, 0, 0] # Just for show"
   ]
  },
  {
   "cell_type": "code",
   "execution_count": null,
   "metadata": {},
   "outputs": [],
   "source": [
    "pred_dataset = ChoiceDataset(choices=choices,\n",
    "                             contexts_features=age_category,\n",
    "                             contexts_items_features=future_prices,)"
   ]
  },
  {
   "cell_type": "code",
   "execution_count": null,
   "metadata": {},
   "outputs": [],
   "source": [
    "predicted_utilities = model.compute_batch_utility(fixed_items_features=None,\n",
    "contexts_features=age_category,\n",
    "contexts_items_features=future_prices,\n",
    "contexts_items_availabilities=None,\n",
    "choices=None)"
   ]
  },
  {
   "cell_type": "code",
   "execution_count": null,
   "metadata": {},
   "outputs": [],
   "source": [
    "age_frequencies = np.mean(dataset.contexts_features[0], axis=0)\n",
    "\n",
    "final_utilities = []\n",
    "for freq, ut in zip(age_frequencies, predicted_utilities):\n",
    "    final_utilities.append(freq*ut)\n",
    "final_utilities = np.mean(final_utilities, axis=0)"
   ]
  },
  {
   "cell_type": "code",
   "execution_count": null,
   "metadata": {},
   "outputs": [],
   "source": [
    "len(final_utilities), len(future_prices[0].shape)"
   ]
  },
  {
   "cell_type": "code",
   "execution_count": null,
   "metadata": {},
   "outputs": [],
   "source": [
    "opt = AssortmentOptimizer(utilities=np.exp(final_utilities),\n",
    "                          itemwise_values=future_prices[0][:, 0],\n",
    "                          assortment_size=26)"
   ]
  },
  {
   "cell_type": "code",
   "execution_count": null,
   "metadata": {},
   "outputs": [],
   "source": [
    "assortment = opt.solve()"
   ]
  },
  {
   "cell_type": "code",
   "execution_count": null,
   "metadata": {},
   "outputs": [],
   "source": [
    "opt.status"
   ]
  },
  {
   "cell_type": "code",
   "execution_count": null,
   "metadata": {},
   "outputs": [],
   "source": [
    "assortment"
   ]
  },
  {
   "cell_type": "code",
   "execution_count": null,
   "metadata": {},
   "outputs": [],
   "source": [
    "aaa = []\n",
    "for k, v in opt.y.items():\n",
    "    aaa.append(v.x)"
   ]
  },
  {
   "cell_type": "code",
   "execution_count": null,
   "metadata": {},
   "outputs": [],
   "source": [
    "np.sum(aaa)"
   ]
  },
  {
   "cell_type": "code",
   "execution_count": null,
   "metadata": {},
   "outputs": [],
   "source": [
    "aaa"
   ]
  },
  {
   "cell_type": "code",
   "execution_count": null,
   "metadata": {},
   "outputs": [],
   "source": []
  }
 ],
 "metadata": {
  "kernelspec": {
   "display_name": "tf_env",
   "language": "python",
   "name": "python3"
  },
  "language_info": {
   "codemirror_mode": {
    "name": "ipython",
    "version": 3
   },
   "file_extension": ".py",
   "mimetype": "text/x-python",
   "name": "python",
   "nbconvert_exporter": "python",
   "pygments_lexer": "ipython3",
   "version": "3.11.4"
  }
 },
 "nbformat": 4,
 "nbformat_minor": 2
}
